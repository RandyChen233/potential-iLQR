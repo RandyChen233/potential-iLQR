{
 "cells": [
  {
   "cell_type": "code",
   "execution_count": 1,
   "id": "26176397-4653-4815-be8c-8481a8468b6f",
   "metadata": {},
   "outputs": [],
   "source": [
    "# python libraries\n",
    "import numpy as np\n",
    "import matplotlib.pyplot as plt\n",
    "import matplotlib as mpl\n",
    "import seaborn as sns\n",
    "plt.style.use('seaborn') "
   ]
  },
  {
   "cell_type": "code",
   "execution_count": 2,
   "id": "d4e5c874-1bf4-4cfb-8432-9f55b234e783",
   "metadata": {},
   "outputs": [
    {
     "name": "stdout",
     "output_type": "stream",
     "text": [
      "^C\n"
     ]
    }
   ],
   "source": [
    "!pip install ffmpeg"
   ]
  },
  {
   "cell_type": "code",
   "execution_count": 3,
   "id": "21b8bd42-b88e-4001-a815-48785b5ce6fa",
   "metadata": {},
   "outputs": [
    {
     "name": "stdout",
     "output_type": "stream",
     "text": [
      "Requirement already satisfied: ffmpeg in d:\\softwares\\anaconda\\lib\\site-packages (1.4)\n"
     ]
    }
   ],
   "source": [
    "from matplotlib.animation import FuncAnimation"
   ]
  },
  {
   "cell_type": "code",
   "execution_count": 4,
   "id": "83221d9a-27a4-4f31-8774-47aecdca0121",
   "metadata": {},
   "outputs": [],
   "source": [
    "from matplotlib import rc\n",
    "\n",
    "# equivalent to rcParams['animation.html'] = 'html5'\n",
    "rc('animation', html='html5')"
   ]
  },
  {
   "cell_type": "code",
   "execution_count": 5,
   "id": "58c9048c-53b7-4e2a-8b88-14dcba7650a5",
   "metadata": {},
   "outputs": [],
   "source": [
    "plt.rcParams.update({'font.family':'Times New Roman'})\n",
    "plt.rcParams['font.size'] = 13"
   ]
  },
  {
   "cell_type": "markdown",
   "id": "f6ec4ecc-cadc-4ade-8988-4ac93ee17a60",
   "metadata": {},
   "source": [
    "### Define vehicle dynamics:\n"
   ]
  },
  {
   "cell_type": "code",
   "execution_count": 6,
   "id": "9a28dd63-9f92-409a-af67-043359658e80",
   "metadata": {},
   "outputs": [],
   "source": [
    "n_x = 4\n",
    "n_u = 2\n",
    "def unicycle_continuous_dynamics(x, u):\n",
    "    # x = [x position, y position, heading, forward velocity] \n",
    "    # u = [omega, forward acceleration]\n",
    "    #m = sym if x.dtype == object else np # Check type for autodiff\n",
    "    x_pos = x[3]*np.cos(x[2])\n",
    "    y_pos = x[3]*np.sin(x[2])\n",
    "    heading_rate = u[0]\n",
    "    v_dot = u[1]\n",
    "    x_d = np.array([\n",
    "        x_pos,\n",
    "        y_pos,\n",
    "        heading_rate,\n",
    "        v_dot    \n",
    "    ])\n",
    "    return x_d"
   ]
  },
  {
   "cell_type": "code",
   "execution_count": 7,
   "id": "83f16828-f9cd-41da-a70d-da214058af7e",
   "metadata": {},
   "outputs": [],
   "source": [
    "def discrete_dynamics(x, u):\n",
    "    dt = 0.05\n",
    "    #Euler integrator below and return the next state\n",
    "    x = x + dt*unicycle_continuous_dynamics(x,u)\n",
    "    x_next = x\n",
    "    return x_next"
   ]
  },
  {
   "cell_type": "code",
   "execution_count": 8,
   "id": "43b6e70a-6ccf-4815-82f3-8444871fccb6",
   "metadata": {},
   "outputs": [],
   "source": [
    "def discrete_dynamics_multiple(x,u,x_dim,u_dim):\n",
    "    \n",
    "    x_new = []\n",
    "    x_split = np.split(x,np.cumsum(x_dim[:-1]))\n",
    "    u_split = np.split(u,np.cumsum(u_dim[:-1]))\n",
    "    for xi,ui in zip(x_split,u_split):\n",
    "        x_next = discrete_dynamics(xi,ui)\n",
    "        x_new.append(x_next)\n",
    "    return np.asarray(x_new).flatten()"
   ]
  },
  {
   "cell_type": "markdown",
   "id": "018aeec0-6fe2-4167-bf77-bab106d8e1a2",
   "metadata": {},
   "source": [
    "### Rollout \n"
   ]
  },
  {
   "cell_type": "code",
   "execution_count": 9,
   "id": "75c378af-4976-4624-9dfc-dcf48fd4c216",
   "metadata": {},
   "outputs": [],
   "source": [
    "def rollout(x0, u_trj): #rolling out the state trajectory based on the euqations of motion (discretized)\n",
    "\n",
    "    x_trj = np.zeros((u_trj.shape[0]+1, x0.shape[0]))\n",
    "\n",
    "    x_trj[0,:] = x0\n",
    "    \n",
    "    for i in range(0,x_trj.shape[0]-1): \n",
    "        x_trj[i+1,:] = discrete_dynamics_multiple(x_trj[i,:],u_trj[i,:],(4,4,4),(2,2,2))\n",
    "    return x_trj\n",
    "\n",
    "# N = 15\n",
    "# x0 = np.array([3.5,3.5,0.1,1,      #1st row for agent1, 2nd row for agent2, 3rd row for agent3\n",
    "#                -3.5,3.5,0.2,-0.5,   \n",
    "#                3,3.5,0.1,0.2]) \n",
    "# u_trj = np.zeros((N-1, 3*n_u))\n",
    "# x_trj = rollout(x0, u_trj)"
   ]
  },
  {
   "cell_type": "code",
   "execution_count": 10,
   "id": "e67fd6b6-c84a-443f-9404-5ebb60abe7b2",
   "metadata": {},
   "outputs": [],
   "source": [
    "# u_trj.shape"
   ]
  },
  {
   "cell_type": "code",
   "execution_count": 11,
   "id": "b9da9369-5ff9-464a-a2c0-11cbe3750cb9",
   "metadata": {},
   "outputs": [],
   "source": [
    "# x_trj.shape"
   ]
  },
  {
   "cell_type": "markdown",
   "id": "502eb398-cf7d-482c-9fd6-9295ce9383fa",
   "metadata": {},
   "source": [
    "### Designate a constant reference trajectory for the 3-agent system:"
   ]
  },
  {
   "cell_type": "code",
   "execution_count": 12,
   "id": "1bca7479-f040-43d1-ae0c-a3e4c4b0c511",
   "metadata": {},
   "outputs": [],
   "source": [
    "# x0 = np.array([0.5, 1.5, 0.05, 1,      #1st row for agent1, 2nd row for agent2, 3rd row for agent3\n",
    "#                3.5, 1.5, 0.2 ,-0.5,  \n",
    "#                2.0, 1.1, 0.15 , 0.2 ]) "
   ]
  },
  {
   "cell_type": "code",
   "execution_count": 13,
   "id": "881fa49e-38df-484d-bb09-fa5c54af949b",
   "metadata": {},
   "outputs": [],
   "source": [
    "# use this cell to mimick the 2 scenarios mentioned in the paper \n",
    "#Potential iLQR: A Potential-Minimizing Controller for Planning Multi-Agent Interactive Trajectories. 10.15607/RSS.2021.XVII.084.\n",
    "\n",
    "# Q = np.eye(12)*100;\n",
    "# R = np.eye(6);\n",
    "\n",
    "\n",
    "#x_T = x_trj[-1,:]\n",
    "# x_ref = np.array([2.5, 1.5, 0 , 0,     #1st row for agent1, 2nd row for agent2, 3rd row for agent3\n",
    "#                0.5, 1.5, 0 , 0 ,    \n",
    "#                1.8, 2.2 , 0.0, 0.0])\n",
    "# x_ref_T = x_ref\n",
    "# u_ref = np.zeros(6,)\n",
    "#agent 1 and agent 2 exchange, agent 3 -> (between 1 and 2)"
   ]
  },
  {
   "cell_type": "markdown",
   "id": "b88b48fb-9725-408a-b4a3-0cf02976f899",
   "metadata": {},
   "source": [
    "### Define cost functions:"
   ]
  },
  {
   "cell_type": "code",
   "execution_count": 14,
   "id": "fe11ce36-38a2-4500-86e7-2ff06f61ba30",
   "metadata": {},
   "outputs": [],
   "source": [
    "def cost_trj(x,u): #x-> state vector, u-> input vectora\n",
    "    #m = sym if x.dtype == object else np\n",
    "    \n",
    "    \n",
    "    \n",
    "    cost = (x-x_ref).T @ Q @(x-x_ref) +(u).T @ R @ (u)\n",
    "\n",
    "    return cost #trajectory cost for an agent with index i"
   ]
  },
  {
   "cell_type": "code",
   "execution_count": 15,
   "id": "db89d18f-4a2e-4df9-8b25-19ef8df7b87c",
   "metadata": {},
   "outputs": [],
   "source": [
    "def cost_trj_Final(x_T):\n",
    "   # m = sym if x.dtype == object else np\n",
    "    Q = np.eye(12)*1600\n",
    "    \n",
    "    terminal_cost = (x_T-x_ref_T).T @ Q @ (x_T-x_ref_T)\n",
    "\n",
    "    return terminal_cost #final trajectory cost for an agent with index i"
   ]
  },
  {
   "cell_type": "code",
   "execution_count": 16,
   "id": "d190722e-0cd3-4538-8cbb-9e71d6341fd2",
   "metadata": {},
   "outputs": [],
   "source": [
    "#eps = 1e-6\n",
    "def cost_avoidance(x): # `hard coded` for 3 agents! so x must have shape (12,) and u has shape (6,)\n",
    "   \n",
    "\n",
    "    threshold = 0.5 #meters \n",
    "\n",
    "    pos_x1_coor = [x[0], x[1]]\n",
    "    pos_x2_coor = [x[4], x[5]]\n",
    "    pos_x3_coor = [x[8] , x[9]]\n",
    "    \n",
    "    #Euclidean distance between agent i and j\n",
    "    d_12 = np.sqrt((pos_x1_coor[0]-pos_x2_coor[0])**2+(pos_x1_coor[1]-pos_x2_coor[1])**2)\n",
    "    d_13 = np.sqrt((pos_x1_coor[0]-pos_x3_coor[0])**2+(pos_x3_coor[1]-pos_x3_coor[1])**2)\n",
    "    d_23 = np.sqrt((pos_x2_coor[0]-pos_x3_coor[0])**2+(pos_x2_coor[1]-pos_x3_coor[1])**2)\n",
    "    \n",
    "    d_12_cost = 0\n",
    "    d_13_cost = 0\n",
    "    d_23_cost = 0 \n",
    "\n",
    "    if d_12 < threshold:\n",
    "        d_12_cost = (d_12-threshold)**2\n",
    "   \n",
    "    elif d_23 < threshold:\n",
    "        d_23_cost = (d_23-threshold)**2\n",
    "        \n",
    "    elif d_13 < threshold:\n",
    "\n",
    "        d_13_cost = (d_13-threshold)**2 \n",
    "\n",
    "    return 750*(d_12_cost+d_13_cost+d_23_cost)"
   ]
  },
  {
   "cell_type": "code",
   "execution_count": 17,
   "id": "e4ed257a-e8ec-44e6-b081-d754a43fcd72",
   "metadata": {},
   "outputs": [],
   "source": [
    "def cost_stage(x, u):\n",
    "    \n",
    "    c_avoid = cost_avoidance(x)\n",
    "    c_trj = cost_trj(x,u)\n",
    "    \n",
    "    return c_avoid + c_trj\n",
    "    "
   ]
  },
  {
   "cell_type": "code",
   "execution_count": 18,
   "id": "640fc2bc-0bdf-4890-9cfc-e5138da6f0fd",
   "metadata": {},
   "outputs": [],
   "source": [
    "def cost_sum(x_trj, u_trj):\n",
    "\n",
    "    total = 0.0\n",
    "    # TODO: Sum up all costs\n",
    "    for i in range(0,x_trj.shape[0]-1): #(0,1,2,3,....)\n",
    "        total = total + cost_stage(x_trj[i,:],u_trj[i,:]) \n",
    "\n",
    "    total = total + cost_trj_Final(x_trj[-1,:])\n",
    "\n",
    "    return total"
   ]
  },
  {
   "cell_type": "code",
   "execution_count": 19,
   "id": "1e964a20-5905-45d3-b6a4-d346ff3264f0",
   "metadata": {},
   "outputs": [],
   "source": [
    "# cost_sum(x_trj,u_trj)"
   ]
  },
  {
   "cell_type": "markdown",
   "id": "77404466-be8b-4079-b41f-8d7bd6109937",
   "metadata": {
    "tags": []
   },
   "source": [
    "### Bellman recursion (ref:http://underactuated.mit.edu/trajopt.html#section8)\n",
    "\n",
    "\n",
    "Now that we are warmed up, let's derive the actual algorithm. We start with the Bellman equation known from lecture defining optimality in a recursively backwards in time.\n",
    "\\begin{align*} V(\\mathbf{x}[n]) = & \\min_{\\mathbf{u}[n]} \\quad \\ell(\\mathbf{x}[n], \\mathbf{u}[n])  + V(\\mathbf{x}[n+1]) \\\\\n",
    "\\end{align*}\n",
    "\n",
    "You may have noticed that we neglected a couple of constraints of the original problem formulation. The fully equivalent formulation is \n",
    "\\begin{align*} \\min_{\\mathbf{u}[n]} \\quad & Q(\\mathbf{x}[n], \\mathbf{u}[n]), \\quad \\forall n\\in[0, N-1]\n",
    "\\\\ \\text{subject to} \\quad \n",
    "& Q(\\mathbf{x}[n], \\mathbf{u}[n]) = \\ell(\\mathbf{x}[n], \\mathbf{u}[n])  + V(\\mathbf{x}[n+1]) \\\\\n",
    "& V(\\mathbf{x}[N]) =   \\ell_f(\\mathbf{x}[N]) \\\\\n",
    "& \\mathbf{x}[n+1] = {\\bf      f}(\\mathbf{x}[n], \\mathbf{u}[n]), \\quad \\\\ \n",
    "& \\mathbf{x}[0] = \\mathbf{x}_0.\n",
    "\\end{align*}\n",
    "The definition of a Q-function will become handy during the derivation of the algorithm.\n",
    "\n",
    "The key idea of iLQR is simple: Approximate the dynamics linearly and the costs quadratically around a nominal trajectory. We will expand all terms of the Q-function accordingly and optimize the resulting quadratic equation for an optimal linear control law in closed form. We will see that by applying the Bellman equation recursively backwards in time, the value function remains a quadratic.\n",
    "The linear and quadratic approximations are computed around the nominal state $\\bf \\bar{x} = \\bf x - \\delta \\bf x$ and the nominal control $\\bf \\bar{u} = \\bf u - \\delta \\bf u$. After applying the Bellman equation backwards in time from time $N$ to $0$ (the backward pass), we will update the nominal controls $\\bf \\bar{u}$ and states $\\bf \\bar{x}$ by applying the computed linear feedback law from the backward pass and rolling out the dynamics from the initial state $\\bf x_0$ to the final horizon $N$. Iterating between backwards and forwards pass optimizes the control problem.\n",
    "\n",
    "### Q-function Expansion\n",
    "\n",
    "Let's start by expanding all terms in the Q-function of the Bellman equation. The quadaratic cost function is\n",
    "\\begin{align*} \n",
    "\\ell(\\mathbf{x}[n], \\mathbf{u}[n]) \\approx \\ell_n \n",
    "+ \\begin{bmatrix}\\ell_{\\mathbf{x},n} \\\\  \\ell_{\\mathbf{u},n} \\end{bmatrix} ^T  \\begin{bmatrix} \\delta \\mathbf{x}[n] \\\\ \\delta \\mathbf{u}[n] \\end{bmatrix}\n",
    "+ \\frac{1}{2}\\begin{bmatrix} \\delta \\mathbf{x}[n] \\\\ \\delta \\mathbf{u}[n] \\end{bmatrix} ^T \n",
    "\\begin{bmatrix}\\ell_{\\mathbf{xx},n} &  \\ell_{\\mathbf{ux},n}^T\\\\  \n",
    "\\ell_{\\mathbf{ux},n} & \\ell_{\\mathbf{uu},n}\\end{bmatrix}\n",
    " \\begin{bmatrix} \\delta \\mathbf{x}[n] \\\\ \\delta \\mathbf{u}[n] \\end{bmatrix},\n",
    "\\end{align*}\n",
    "and the dynamics function is\n",
    "\\begin{align*} x[n+1]=\n",
    "\\mathbf{f}(\\mathbf{x}[n], \\mathbf{u}[n]) \\approx \\mathbf{f}_n\n",
    "+ \\begin{bmatrix}\\mathbf{f}_{\\mathbf{x},n} & \\mathbf{f}_{\\mathbf{u},n} \\end{bmatrix}  \\begin{bmatrix} \\delta \\mathbf{x}[n] \\\\ \\delta \\mathbf{u}[n] \\end{bmatrix}.\n",
    "\\end{align*}\n",
    "Here, $\\ell = \\ell(\\bar{\\mathbf{x}}, \\bar{\\mathbf{u}})$ and $\\mathbf{f} = \\mathbf{f}(\\bar{\\mathbf{x}}, \\bar{\\mathbf{u}})$. $\\ell_\\mathbf{x}, \\ell_\\mathbf{u}, \\mathbf{f}_\\mathbf{x}, \\mathbf{f}_\\mathbf{u}$ are the gradients and Jacobians evaluated at $\\bar{\\mathbf{x}}$ and $\\bar{\\mathbf{u}}$. $\\ell_\\mathbf{xx}, \\ell_\\mathbf{ux}, \\ell_\\mathbf{uu}$ are the Hessians at $\\bar{\\mathbf{x}}$ and $\\bar{\\mathbf{u}}$. The expansion of the final cost follows analogously.\n",
    "The code to evaluate all the derivative terms is:"
   ]
  },
  {
   "cell_type": "code",
   "execution_count": 20,
   "id": "a9be901a-22e4-48d2-ac9a-942a9b17130c",
   "metadata": {},
   "outputs": [],
   "source": [
    "from scipy.optimize import approx_fprime"
   ]
  },
  {
   "cell_type": "code",
   "execution_count": 21,
   "id": "dfd964d2-c3ec-469e-8b06-59c18cc3f49c",
   "metadata": {},
   "outputs": [],
   "source": [
    "# l_x = np.zeros((n_x))\n",
    "# l_u = np.zeros((n_u))\n",
    "# l_xx = np.zeros((n_x, n_x))\n",
    "# l_uu = np.zeros((n_u, n_u))\n",
    "# l_ux = np.zeros((n_u, n_x))"
   ]
  },
  {
   "cell_type": "code",
   "execution_count": 22,
   "id": "6ec0bb70-c1e7-4a94-b935-d89587230a28",
   "metadata": {},
   "outputs": [],
   "source": [
    "# the following x and u vectors will be overwritten later on\n",
    "# x = np.array([5,10 , 0.1, 0,     \n",
    "#                2.5, -3, 0, 0,\n",
    "#                3,2,0.3,0.2])\n",
    "# u = np.array([1,1,\n",
    "#             -1,0.9,\n",
    "#             1,0.5])"
   ]
  },
  {
   "cell_type": "markdown",
   "id": "a0daee04-4728-490c-b94d-8b0f78292271",
   "metadata": {},
   "source": [
    "### Defining derivatives of cost_stage(x,u) : `l_x, l_u, l_xx, l_ux, l_uu, f_x, f_u`"
   ]
  },
  {
   "cell_type": "code",
   "execution_count": 23,
   "id": "cff3e16e-600a-4c80-8bfe-aac8f4b71e6b",
   "metadata": {},
   "outputs": [
    {
     "data": {
      "text/plain": [
       "4"
      ]
     },
     "execution_count": 23,
     "metadata": {},
     "output_type": "execute_result"
    }
   ],
   "source": [
    "n_x"
   ]
  },
  {
   "cell_type": "code",
   "execution_count": 24,
   "id": "7819fec5-1fb6-4296-bef9-04bce3a787f1",
   "metadata": {},
   "outputs": [
    {
     "data": {
      "text/plain": [
       "2"
      ]
     },
     "execution_count": 24,
     "metadata": {},
     "output_type": "execute_result"
    }
   ],
   "source": [
    "n_u"
   ]
  },
  {
   "cell_type": "code",
   "execution_count": 25,
   "id": "8dbfeb49-032d-4c80-933e-56177760bc1b",
   "metadata": {},
   "outputs": [],
   "source": [
    "_jac_eps = np.sqrt(np.finfo(float).eps)\n",
    "_hess_eps = np.sqrt(_jac_eps)\n",
    "\n",
    "\n",
    "def l_x(x,u):\n",
    "  \n",
    "    return approx_fprime(x, lambda x: cost_stage(x,u), _jac_eps) #1e-8\n",
    "\n",
    "def l_u(x,u):\n",
    "    \n",
    "    return approx_fprime(u, lambda u: cost_stage(x,u), _jac_eps) #1e-8\n",
    "\n",
    "def l_xx(x,u):\n",
    "    \n",
    "    return np.vstack([\n",
    "            approx_fprime(x, lambda x: l_x(x, u)[i], _hess_eps) for i in range(3*n_x)\n",
    "        ])   \n",
    "\n",
    "# l_xx = np.vstack([\n",
    "#             approx_fprime(x, lambda x: l_x(x, u)[i], 1e-3) for i in range(3*n_x)\n",
    "#         ])         \n",
    "\n",
    "# l_uu = np.vstack([\n",
    "#           approx_fprime(u, lambda u: l_u(x, u)[i], 1e-3) for i in range(3*n_u)\n",
    "#       ])\n",
    "def l_uu(x,u):\n",
    "    \n",
    "    return np.vstack([\n",
    "           approx_fprime(u, lambda u: l_u(x, u)[i], _hess_eps) for i in range(3*n_u)\n",
    "          ])\n",
    "\n",
    "\n",
    "# l_ux = np.vstack([\n",
    "#             approx_fprime(x, lambda x: l_u(x, u)[i], 1e-3) for i in range(3*n_u)\n",
    "#         ])\n",
    "\n",
    "\n",
    "def l_ux(x,u):\n",
    "    \n",
    "    return np.vstack([\n",
    "             approx_fprime(x, lambda x: l_u(x, u)[i], _hess_eps) for i in range(3*n_u)\n",
    "         ])"
   ]
  },
  {
   "cell_type": "code",
   "execution_count": 26,
   "id": "b8379415-d59d-4dfe-8c90-7bb1aa7ab6d7",
   "metadata": {},
   "outputs": [],
   "source": [
    "\n",
    "def f(x,u):\n",
    "    x_dim = (4,4,4)\n",
    "    u_dim = (2,2,2)\n",
    "    return discrete_dynamics_multiple(x,u,x_dim,u_dim)\n",
    "\n",
    "def f_x(x,u):\n",
    "\n",
    "    return np.vstack([\n",
    "             approx_fprime(x, lambda x: f(x,u)[i], _jac_eps) for i in range(3*n_x)\n",
    "         ]) \n",
    "\n",
    "# f_x = np.vstack([\n",
    "#             approx_fprime(x, lambda x: f(x,u)[i], 1e-3) for i in range(3*n_x)\n",
    "#         ])   \n",
    "\n",
    "# f_u = np.vstack([\n",
    "#             approx_fprime(u, lambda u: f(x,u)[i], 1e-3) for i in range(3*n_x) #f_u should be (12,6)\n",
    "#         ])  \n",
    "\n",
    "\n",
    "\n",
    "\n",
    "def f_u(x,u):\n",
    "    return np.vstack([\n",
    "            approx_fprime(u, lambda u: f(x,u)[i], _jac_eps) for i in range(3*n_x) #f_u should be (12,6)\n",
    "        ])  "
   ]
  },
  {
   "cell_type": "code",
   "execution_count": 27,
   "id": "42654c6c-24e8-44f0-b2db-1e4ff022f1cc",
   "metadata": {},
   "outputs": [],
   "source": [
    "def l_final_x(x_T):\n",
    "    \n",
    "    \n",
    "    return np.eye(x_T.shape[0])*1600@(x_T-x_ref_T)\n",
    "\n",
    "#l_final_xx = np.vstack([\n",
    "#            approx_fprime(x, lambda x: l_final_x(x_T)[i], 1e-6) for i in range(3*n_x) #1e-8\n",
    "#        ])    \n",
    "\n",
    "def l_final_xx(x_T):\n",
    "    \n",
    "    \n",
    "    \n",
    "    return np.eye(x_T.shape[0])*1600\n",
    "\n",
    "\n",
    "\n",
    "# l_final_xx = np.eye(x_T.shape[0])*1600"
   ]
  },
  {
   "cell_type": "markdown",
   "id": "3a055443-6767-469b-96ba-e1e5d113462f",
   "metadata": {},
   "source": [
    "Expanding the second term of the Q-function of the Bellman equation, i.e. the value function at the next state $\\mathbf{x}[n+1]$, to second order yields \\begin{align*} \n",
    "V(\\mathbf{x}[n+1]) \\approx V_{n+1} + \n",
    "V_{\\mathbf{x},n+1}^T  \\delta \\mathbf{x}[n+1] + \\frac{1}{2}\\delta \\mathbf{x}[n+1]^T \n",
    "V_{\\mathbf{xx},n+1} \\delta \\mathbf{x}[n+1],\n",
    "\\end{align*}\n",
    "where $\\delta \\mathbf{x}[n+1]$ is given by\n",
    "\\begin{align*} \n",
    "\\delta \\mathbf{x}[n+1] \n",
    "& = \\mathbf{x}[n+1] - \\bar{\\mathbf{x}}[n+1] \\\\\n",
    "& = \\mathbf{f}_n + \\begin{bmatrix}\\mathbf{f}_{\\mathbf{x},n} &  \\mathbf{f}_{\\mathbf{u},n} \\end{bmatrix}  \\begin{bmatrix} \\delta \\mathbf{x}[n] \\\\ \\delta \\mathbf{u}[n] \\end{bmatrix} -  \\bar{\\mathbf{x}}[n+1] \\\\\n",
    "& = \\mathbf{f}_n + \\begin{bmatrix}\\mathbf{f}_{\\mathbf{x},n} & \\mathbf{f}_{\\mathbf{u},n} \\end{bmatrix}  \\begin{bmatrix} \\delta \\mathbf{x}[n] \\\\ \\delta \\mathbf{u}[n] \\end{bmatrix} -  \\mathbf{f}(\\bar{\\mathbf{x}}[n], \\bar{\\mathbf{u}}[n]) \\\\\n",
    "& = \\begin{bmatrix}\\mathbf{f}_{\\mathbf{x},n} &  \\mathbf{f}_{\\mathbf{u},n} \\end{bmatrix}   \\begin{bmatrix} \\delta \\mathbf{x}[n] \\\\ \\delta \\mathbf{u}[n] \\end{bmatrix}.\n",
    "\\end{align*}\n",
    "\n",
    "We have now expanded all terms of the Bellman equation and can regroup them in the form of\n",
    "\\begin{align*} \n",
    "Q(\\mathbf{x}[n], \\mathbf{u}[n]) & \n",
    "\\approx \\ell_n \n",
    "+ \\begin{bmatrix}\\ell_{\\mathbf{x},n} \\\\  \\ell_{\\mathbf{u},n} \\end{bmatrix} ^T  \\begin{bmatrix} \\delta \\mathbf{x}[n] \\\\ \\delta \\mathbf{u}[n] \\end{bmatrix}\n",
    "+ \\frac{1}{2}\\begin{bmatrix} \\delta \\mathbf{x}[n] \\\\ \\delta \\mathbf{u}[n] \\end{bmatrix} ^T \n",
    "\\begin{bmatrix}\\ell_{\\mathbf{xx},n} &  \\ell_{\\mathbf{ux},n}^T\\\\  \n",
    "\\ell_{\\mathbf{ux},n} & \\ell_{\\mathbf{uu},n}\\end{bmatrix}\n",
    " \\begin{bmatrix} \\delta \\mathbf{x}[n] \\\\ \\delta \\mathbf{u}[n] \\end{bmatrix}, \\\\\n",
    " & \\quad + V_{n+1} + \n",
    "V_{\\mathbf{x},n+1}^T  \\delta \\mathbf{x}[n+1] + \\frac{1}{2}\\delta \\mathbf{x}[n+1]^T \n",
    "V_{\\mathbf{xx},n+1} \\delta \\mathbf{x}[n+1], \\\\\n",
    "& = Q_n \n",
    "+ \\begin{bmatrix} Q_{\\mathbf{x},n} \\\\  Q_{\\mathbf{u},n} \\end{bmatrix} ^T  \\begin{bmatrix} \\delta \\mathbf{x}[n] \\\\ \\delta \\mathbf{u}[n] \\end{bmatrix}\n",
    "+ \\frac{1}{2}\\begin{bmatrix} \\delta \\mathbf{x}[n] \\\\ \\delta \\mathbf{u}[n] \\end{bmatrix} ^T \n",
    "\\begin{bmatrix} Q_{\\mathbf{xx},n} &  Q_{\\mathbf{ux},n}^T\\\\  \n",
    "Q_{\\mathbf{ux},n} & Q_{\\mathbf{uu},n}\\end{bmatrix}\n",
    " \\begin{bmatrix} \\delta \\mathbf{x}[n] \\\\ \\delta \\mathbf{u}[n] \\end{bmatrix}.\n",
    "\\end{align*}\n",
    "Find $Q_{\\mathbf{x},n}$, $Q_{\\mathbf{u},n}$, $Q_{\\mathbf{xx},n}$, $Q_{\\mathbf{ux},n}$, $Q_{\\mathbf{uu},n}$ in terms of $\\ell$ and $\\textbf{f}$ and their expansions by collecitng coefficients in $(\\cdot)\\delta \\mathbf{x}[n]$, $(\\cdot)\\delta \\mathbf{u}[n]$, $1/2 \\delta \\mathbf{x}[n]^T (\\cdot) \\delta \\mathbf{x}[n]$, and similar. Write your results in the corresponding function below."
   ]
  },
  {
   "cell_type": "code",
   "execution_count": 28,
   "id": "f0c068b5-2bf3-4afb-b2f8-e8cb26ff096c",
   "metadata": {},
   "outputs": [],
   "source": [
    "def Q_terms(V_x, V_xx , x, u):\n",
    "    # TODO: Define the Q-terms here\n",
    "    #l_x, l_u, l_xx, l_ux, l_uu, f_x, f_u = derivatives.stage(x,u);\n",
    "    \n",
    "    # Q_x = np.zeros(l_x(x,u).shape) #(12,)\n",
    "    # Q_u = np.zeros(l_u(x,u).shape) #(6,)\n",
    "    # Q_xx = np.zeros(l_xx(x,u).shape)    #(12, 12)\n",
    "    # Q_ux = np.zeros(l_ux(x,u).shape)    #(6, 12)\n",
    "    # Q_uu = np.zeros(l_uu(x,u).shape)    #(6, 6)\n",
    "\n",
    "    #l_x(x,u)->(12,)\n",
    "    #f_x -> (12, 12)\n",
    "    #V_x -> (12,)\n",
    "    \n",
    "    #l_u(x,u) ->(6,)\n",
    "    #f_u_ -> (12,6)\n",
    "    # x_dim = (4,4,4)\n",
    "    # u_dim = (2,2,2)\n",
    "\n",
    "\n",
    "    Q_x = l_x(x,u)+f_x(x,u).T.dot(V_x);\n",
    "    \n",
    "    \n",
    "    Q_u = l_u(x,u)+f_u(x,u).T.dot(V_x);\n",
    "    \n",
    "    Q_xx = l_xx(x,u) + f_x(x,u).T.dot(V_xx.dot(f_x(x,u)))\n",
    "    \n",
    "    Q_ux = l_ux(x,u) +f_u(x,u).T.dot(V_xx.dot(f_x(x,u)))\n",
    "    Q_uu = l_uu(x,u) + f_u(x,u).T.dot(V_xx.dot(f_u(x,u)))\n",
    "\n",
    "    return Q_x, Q_u, Q_xx, Q_ux, Q_uu"
   ]
  },
  {
   "cell_type": "markdown",
   "id": "bb8fe794-5b1a-4cd2-9554-856d70b9c676",
   "metadata": {},
   "source": [
    "### Q-function Optimization and Optimal Linear Control Law\n",
    "Now that we have the Q-function in quadratic form, we can optimize for the optimal control gains in closed form.\n",
    "The original formulation, i.e. optimizing over $\\mathbf{u}[n]$,\n",
    "\\begin{align*} \\min_{\\mathbf{u}[n]} \\quad & Q(\\mathbf{x}[n], \\mathbf{u}[n]),\n",
    "\\end{align*} is equivalent to optimzing over $\\delta \\mathbf{u}[n]$.\n",
    "\n",
    "\\begin{align*} \n",
    "\\delta \\mathbf{u}[n]^* = {\\arg\\!\\min}_{\\delta \\mathbf{u}[n]} \\quad Q_n \n",
    "+ \\begin{bmatrix} Q_{\\mathbf{x},n} \\\\  Q_{\\mathbf{u},n} \\end{bmatrix} ^T  \\begin{bmatrix} \\delta \\mathbf{x}[n] \\\\ \\delta \\mathbf{u}[n] \\end{bmatrix} + \\frac{1}{2}\\begin{bmatrix} \\delta \\mathbf{x}[n] \\\\ \\delta \\mathbf{u}[n] \\end{bmatrix} ^T \n",
    "\\begin{bmatrix} Q_{\\mathbf{xx},n} &  Q_{\\mathbf{ux},n}^T\\\\  \n",
    "Q_{\\mathbf{ux},n} & Q_{\\mathbf{uu},n}\\end{bmatrix}\n",
    " \\begin{bmatrix} \\delta \\mathbf{x}[n] \\\\ \\delta \\mathbf{u}[n] \\end{bmatrix}\n",
    " = k + K \\delta \\mathbf{x}[n]\n",
    "\\end{align*} It turns out that the optimal control is linear in $\\delta \\mathbf{x}[n]$.\n",
    "Solve the quadratic optimization analytically and derive equations for the feedforward gains $k$ and feedback gains $K$. Implement the function below. Hint: You do not need to compute $Q_\\mathbf{uu}^{-1}$ by hand."
   ]
  },
  {
   "cell_type": "code",
   "execution_count": 29,
   "id": "59e6b19d-2f4c-45f4-a3d2-93a255423a7b",
   "metadata": {},
   "outputs": [],
   "source": [
    "def gains(Q_uu, Q_u, Q_ux):\n",
    "   \n",
    "    #Q_uu_inv = np.linalg.inv(Q_uu)\n",
    "    # TOD: Implement the feedforward gain k and feedback gain K.\n",
    "    # k = np.zeros(Q_u.shape)\n",
    "    # K = np.zeros(Q_ux.shape)\n",
    "\n",
    "    # k= -Q_uu_inv.dot(Q_u);\n",
    "    # K = - Q_uu_inv.dot(Q_ux);\n",
    "    \n",
    "    k = np.linalg.solve(Q_uu,-Q_u)\n",
    "    K = np.linalg.solve(Q_uu,-Q_ux)\n",
    "    \n",
    "    \n",
    "    return k, K"
   ]
  },
  {
   "cell_type": "markdown",
   "id": "20654201-c0e0-460f-bd04-bb73b7bc5571",
   "metadata": {},
   "source": [
    "### Value Function Backward Update\n",
    "We are almost done! We need to derive the backwards update equation for the value function. We simply plugin the optimal control $\\delta \\mathbf{u}[n]^* = k + K \\delta \\mathbf{x}[n]$ back into the Q-function which yields the value function\n",
    "\\begin{align*} \n",
    "V(\\mathbf{x}[n]) \\approx V_{n} + \n",
    "V_{\\mathbf{x},n}^T  \\delta \\mathbf{x}[n] + \\frac{1}{2}\\delta \\mathbf{x}[n]^T \n",
    "V_{\\mathbf{xx},n} \\delta \\mathbf{x}[n] = Q_n \n",
    "+ \\begin{bmatrix} Q_{\\mathbf{x},n} \\\\  Q_{\\mathbf{u},n} \\end{bmatrix}^T  \n",
    "\\begin{bmatrix} \\delta \\mathbf{x}[n] \\\\ \\delta \\mathbf{u}[n]^* \\end{bmatrix} \n",
    "+ \\frac{1}{2}\\begin{bmatrix} \\delta \\mathbf{x}[n] \\\\ \\delta \\mathbf{u}[n]^* \\end{bmatrix}^T \n",
    "\\begin{bmatrix} Q_{\\mathbf{xx},n} &  Q_{\\mathbf{ux},n}^T\\\\  \n",
    "Q_{\\mathbf{ux},n} & Q_{\\mathbf{uu},n}\\end{bmatrix}\n",
    " \\begin{bmatrix} \\delta \\mathbf{x}[n] \\\\ \\delta \\mathbf{u}[n]^* \\end{bmatrix}.\n",
    "\\end{align*}\n",
    "Compare terms in $(\\cdot) \\delta \\mathbf{x}[n]$ and $ 1/2 \\delta \\mathbf{x}[n]^T (\\cdot)  \\delta \\mathbf{x}[n]$, find $V_{\\mathbf{x},n}$, and $V_{\\mathbf{xx},n}$ and implement the corresponding function below."
   ]
  },
  {
   "cell_type": "code",
   "execution_count": 30,
   "id": "c745f61f-43e3-4009-92c4-4610ea46a4a1",
   "metadata": {},
   "outputs": [],
   "source": [
    "def V_terms(Q_x, Q_u, Q_xx, Q_ux, Q_uu, K, k):\n",
    "    # TODO: Implement V_x and V_xx, hint: use the A.dot(B) function for matrix multiplcation.\n",
    "#     V_x = np.zeros(Q_x.shape)\n",
    "#     V_xx = np.zeros(Q_xx.shape)\n",
    "    \n",
    "    \n",
    "    V_x = Q_x + K.T.dot(Q_uu.dot(k)) + K.T.dot(Q_u) + Q_ux.T.dot(k);\n",
    "    V_xx = Q_xx  + K.T.dot(Q_uu.dot(K)) + K.T.dot(Q_ux) + Q_ux.T.dot(K) ;\n",
    "    \n",
    "    \n",
    "    \n",
    "    return V_x, V_xx"
   ]
  },
  {
   "cell_type": "markdown",
   "id": "6b134aaf-cf9e-447a-9cbc-d9443e69c997",
   "metadata": {
    "tags": []
   },
   "source": [
    "### Expected Cost Reduction\n",
    "We can also estimate by how much we expect to reduce the cost by applying the optimal controls. Simply subtract the previous nominal Q-value ($\\delta \\mathbf{x}[n] = 0$ and $\\delta \\mathbf{u}[n]=0$) from the value function.  The result is implemented below and is a useful aid in checking how accurate the quadratic approximation is during convergence of iLQR and adapting stepsize and regularization."
   ]
  },
  {
   "cell_type": "code",
   "execution_count": 31,
   "id": "48fbc5fd-9380-4aa3-bfd9-eb752d8cdda8",
   "metadata": {},
   "outputs": [],
   "source": [
    "# def expected_cost_reduction(Q_u, Q_uu, k):\n",
    "#     return -Q_u.T.dot(k) - 0.5 * k.T.dot(Q_uu.dot(k))"
   ]
  },
  {
   "cell_type": "code",
   "execution_count": 32,
   "id": "c1954a54-3528-46fb-8594-54ed99cd931c",
   "metadata": {},
   "outputs": [],
   "source": [
    "def expected_cost_reduction(Q_u, Q_uu, k, alpha):\n",
    "    \n",
    "    return - alpha*Q_u.T.dot(k) - 0.5  * alpha**2 *   k.T.dot(Q_uu.dot(k))"
   ]
  },
  {
   "cell_type": "markdown",
   "id": "7b19bd43-76fa-455b-b171-34a657050b6e",
   "metadata": {},
   "source": [
    "### Forward Pass\n",
    "We have now have all the ingredients to implement the forward pass and the backward pass of iLQR. In the forward pass, at each timestep the new updated control $\\mathbf{u}' =  \\bar{\\mathbf{u}} + k + K (x' - \\bar{\\mathbf{x}})$ is applied and the dynamis propagated based on the updated control. The nominal control and state trajectory $\\bar{\\mathbf{u}}, \\bar{\\mathbf{x}}$ with which we computed $k$ and $K$ are then updated and we receive a new set of state and control trajectories."
   ]
  },
  {
   "cell_type": "code",
   "execution_count": 33,
   "id": "43da7d09-c66f-4b3b-968e-86066efbfc22",
   "metadata": {},
   "outputs": [],
   "source": [
    "# def forward_pass(x_trj, u_trj, k_trj, K_trj):\n",
    "#     alpha = 1\n",
    "#     x_trj_new = np.zeros(x_trj.shape)\n",
    "#     x_trj_new[0,:] = x_trj[0,:]\n",
    "#     u_trj_new = np.zeros(u_trj.shape)\n",
    "#     # TODO: Implement the forward pass here\n",
    "# #     for n in range(u_trj.shape[0]):\n",
    "# #         u_trj_new[n,:] = # Apply feedback law\n",
    "# #         x_trj_new[n+1,:] = # Apply dynamics\n",
    "#     for n in range(u_trj.shape[0]):\n",
    "#         u_trj_new[n,:] =u_trj[n,:]+ k_trj[n,:] + K_trj[n,:].dot((x_trj_new[n,:]-x_trj[n,:])); # Apply feedback law\n",
    "#         x_trj_new[n+1,:] =discrete_dynamics_multiple(x_trj_new[n,:],u_trj_new[n,:],(4,4,4),(2,2,2));\n",
    "    \n",
    "#     return x_trj_new, u_trj_new"
   ]
  },
  {
   "cell_type": "code",
   "execution_count": 34,
   "id": "fb419243-e661-4659-b377-2356064ce443",
   "metadata": {},
   "outputs": [],
   "source": [
    "def forward_pass(x_trj, u_trj, k_trj, K_trj, expected_cost_redu, total_cost, alpha ):\n",
    "    #alpha is the gradient descent rate\n",
    "\n",
    "  \n",
    "    x_trj_new = np.zeros(x_trj.shape)\n",
    "    x_trj_new[0,:] = x_trj[0,:]\n",
    "    u_trj_new = np.zeros(u_trj.shape)\n",
    "    # TODO: Implement the forward pass here\n",
    "#     for n in range(u_trj.shape[0]):\n",
    "#         u_trj_new[n,:] = # Apply feedback law\n",
    "#         x_trj_new[n+1,:] = # Apply dynamics\n",
    "\n",
    "    for n in range(u_trj.shape[0]):\n",
    "        u_trj_new[n,:] =u_trj[n,:]+ alpha * k_trj[n,:] + K_trj[n,:].dot((x_trj_new[n,:]-x_trj[n,:])); # Apply feedback law\n",
    "        x_trj_new[n+1,:] =discrete_dynamics_multiple(x_trj_new[n,:],u_trj_new[n,:],(4,4,4),(2,2,2));\n",
    "    \n",
    "   \n",
    "    \n",
    "    return x_trj_new, u_trj_new"
   ]
  },
  {
   "cell_type": "markdown",
   "id": "51c37ede-22f3-4065-baa2-8c31d213aa2b",
   "metadata": {},
   "source": [
    "### Backward Pass\n",
    "The backward pass starts from the terminal boundary condition $V(\\mathbf{x}[N]) =   \\ell_f(\\mathbf{x}[N])$, such that $V_{\\mathbf{x},N} = \\ell_{\\mathbf{x},f}$ and $V_{\\mathbf{xx},N} = \\ell_{\\mathbf{xx},f}$. In the backwards loop terms for the Q-function at $n$ are computed based on the quadratic value function approximation at $n+1$ and the derivatives and hessians of dynamics and cost functions at $n$. To solve for the gains $k$ and $K$ an inversion of the matrix $Q_\\mathbf{uu}$ is necessary. To ensure invertability and to improve conditioning we add a diagonal matrix to $Q_\\mathbf{uu}$. This is equivalent to adding a quadratic penalty on the distance of the new control trajectory from the control trajectory of the previous iteration. The result is a smaller stepsize and more conservative convergence properties."
   ]
  },
  {
   "cell_type": "code",
   "execution_count": 35,
   "id": "3a3e8b42-9a92-440f-824f-5ffbd5da9581",
   "metadata": {},
   "outputs": [],
   "source": [
    "# def backward_pass(x_trj, u_trj, regu):\n",
    "#     k_trj = np.zeros([u_trj.shape[0], u_trj.shape[1]])\n",
    "#     K_trj = np.zeros([u_trj.shape[0], u_trj.shape[1], x_trj.shape[1]])\n",
    "#     expected_cost_redu = 0\n",
    "#     # TODO: Set terminal boundary condition here (V_x, V_xx)\n",
    "\n",
    "#     #l_final_x= derivs.final(x_trj[-1,:])[0]\n",
    "#     #l_final_xx= derivs.final(x_trj[-1,:])[1]  \n",
    "\n",
    "#     V_x = np.zeros((x_trj.shape[1],))\n",
    "#     V_x = V_x+l_final_x(x_trj[-1,:]);\n",
    "\n",
    "#     V_xx = np.zeros((x_trj.shape[1],x_trj.shape[1]))\n",
    "#     V_xx =V_xx+ l_final_xx;\n",
    "    \n",
    "#     for n in range(u_trj.shape[0]-1, -1, -1):\n",
    "#         # TODO: First compute derivatives, then the Q-terms \n",
    "#         #l_x, l_u, l_xx, l_ux, l_uu, f_x, f_u = derivs.stage(x_trj[n,:],u_trj[n,:]);\n",
    "     \n",
    "#         Q_x = np.zeros((x_trj.shape[1],))\n",
    "#         Q_x=Q_x+Q_terms(V_x, V_xx,x_trj[n+1,:],u_trj[n,:])[0];\n",
    "\n",
    "#         Q_u = np.zeros((u_trj.shape[1],))\n",
    "#         Q_u=Q_u+Q_terms(V_x, V_xx,x_trj[n+1,:],u_trj[n,:])[1];\n",
    "\n",
    "#         Q_xx = np.zeros((x_trj.shape[1], x_trj.shape[1])) \n",
    "#         Q_xx=Q_xx+ Q_terms(V_x, V_xx,x_trj[n+1,:],u_trj[n,:])[2];\n",
    "\n",
    "#         Q_ux = np.zeros((u_trj.shape[1], x_trj.shape[1]))\n",
    "#         Q_ux=Q_ux+ Q_terms(V_x, V_xx,x_trj[n+1,:],u_trj[n,:])[3];\n",
    "\n",
    "#         Q_uu = np.zeros((u_trj.shape[1], u_trj.shape[1]))\n",
    "#         Q_uu=Q_uu+ Q_terms(V_x, V_xx,x_trj[n+1,:],u_trj[n,:])[4];\n",
    "        \n",
    "#         # We add regularization to ensure that Q_uu is invertible and nicely conditioned\n",
    "#         Q_uu_regu = Q_uu + np.eye(Q_uu.shape[0])*regu\n",
    "#         k, K = gains(Q_uu_regu, Q_u, Q_ux)\n",
    "#         k_trj[n,:] = k\n",
    "#         K_trj[n,:,:] = K\n",
    "#         V_x, V_xx = V_terms(Q_x, Q_u, Q_xx, Q_ux, Q_uu, K, k)\n",
    "#         expected_cost_redu += expected_cost_reduction(Q_u, Q_uu, k)\n",
    "#     return k_trj, K_trj, expected_cost_redu"
   ]
  },
  {
   "cell_type": "code",
   "execution_count": 36,
   "id": "6a8c88a7-311d-4074-b13a-84d3110aab25",
   "metadata": {},
   "outputs": [],
   "source": [
    "def backward_pass(x_trj, u_trj, regu, alpha):\n",
    "    k_trj = np.zeros([u_trj.shape[0], u_trj.shape[1]])\n",
    "    K_trj = np.zeros([u_trj.shape[0], u_trj.shape[1], x_trj.shape[1]])\n",
    "    expected_cost_redu = 0\n",
    "    # TODO: Set terminal boundary condition here (V_x, V_xx)\n",
    "\n",
    "    #l_final_x= derivs.final(x_trj[-1,:])[0]\n",
    "    #l_final_xx= derivs.final(x_trj[-1,:])[1]  \n",
    "\n",
    "    # V_x = np.zeros((x_trj.shape[1],))\n",
    "    #V_x = V_x+l_final_x(x_trj[-1,:]);\n",
    "    V_x = l_final_x(x_trj[-1,:])\n",
    "    \n",
    "    # V_xx = np.zeros((x_trj.shape[1],x_trj.shape[1]))\n",
    "    #V_xx =V_xx+ l_final_xx(x_trj[-1,:]);\n",
    "    V_xx = l_final_xx(x_trj[-1,:])\n",
    "    \n",
    "    \n",
    "    for n in range(u_trj.shape[0]-1, -1, -1):\n",
    "        # TODO: First compute derivatives, then the Q-terms \n",
    "        #l_x, l_u, l_xx, l_ux, l_uu, f_x, f_u = derivs.stage(x_trj[n,:],u_trj[n,:]);\n",
    "     \n",
    "          #Q_x = np.zeros((x_trj.shape[1],))\n",
    "#         #Q_x=Q_x+Q_terms(V_x, V_xx,x_trj[n+1,:],u_trj[n,:])[0];\n",
    "#         Q_x[:,] = Q_terms(V_x, V_xx,x_trj[n+1,:],u_trj[n,:])[0]\n",
    "        \n",
    "#         Q_u = np.zeros((u_trj.shape[1],))\n",
    "#         #Q_u=Q_u+Q_terms(V_x, V_xx,x_trj[n+1,:],u_trj[n,:])[1];\n",
    "#         Q_u[:,] = Q_terms(V_x, V_xx,x_trj[n+1,:],u_trj[n,:])[1]\n",
    "\n",
    "#         Q_xx = np.zeros((x_trj.shape[1], x_trj.shape[1])) \n",
    "#         #Q_xx=Q_xx+ Q_terms(V_x, V_xx,x_trj[n+1,:],u_trj[n,:])[2];\n",
    "#         Q_xx[:,:] = Q_terms(V_x, V_xx,x_trj[n+1,:],u_trj[n,:])[2]\n",
    "        \n",
    "#         Q_ux = np.zeros((u_trj.shape[1], x_trj.shape[1]))\n",
    "#         #Q_ux=Q_ux+ Q_terms(V_x, V_xx,x_trj[n+1,:],u_trj[n,:])[3];\n",
    "#         Q_ux[:,:] = Q_terms(V_x, V_xx,x_trj[n+1,:],u_trj[n,:])[3];\n",
    "        \n",
    "#         Q_uu = np.zeros((u_trj.shape[1], u_trj.shape[1]))\n",
    "#         #Q_uu=Q_uu+ Q_terms(V_x, V_xx,x_trj[n+1,:],u_trj[n,:])[4];\n",
    "#         Q_uu[:,:] = Q_terms(V_x, V_xx,x_trj[n+1,:],u_trj[n,:])[4];\n",
    "        \n",
    "        Q_x,Q_u,Q_xx,Q_ux,Q_uu = Q_terms(V_x, V_xx,x_trj[n+1,:],u_trj[n,:])\n",
    "        \n",
    "        # We add regularization to ensure that Q_uu is invertible and nicely conditioned\n",
    "        Q_uu_regu = Q_uu + np.eye(Q_uu.shape[0])*regu\n",
    "       \n",
    "        k, K = gains(Q_uu_regu, Q_u, Q_ux)\n",
    "        \n",
    "        k_trj[n,:] = k\n",
    "        K_trj[n,:,:] = K\n",
    "        \n",
    "        V_x, V_xx = V_terms(Q_x, Q_u, Q_xx, Q_ux, Q_uu, K, k)\n",
    "        \n",
    "        expected_cost_redu += expected_cost_reduction(Q_u, Q_uu, k, alpha)\n",
    "    return k_trj, K_trj, expected_cost_redu"
   ]
  },
  {
   "cell_type": "markdown",
   "id": "123c67dc-e568-4f49-8f7d-8214e119e017",
   "metadata": {},
   "source": [
    "### Main loop for iLQR:"
   ]
  },
  {
   "cell_type": "code",
   "execution_count": 40,
   "id": "9170e3e2-1144-436f-ac52-1a202ad3814f",
   "metadata": {},
   "outputs": [],
   "source": [
    "\n",
    "def run_ilqr(x0, N, max_iter=100, regu_init=100, alpha_init= 1):\n",
    "    # First forward rollout\n",
    "    u_trj = np.random.randn(N-1, 3*n_u)*0.0001\n",
    "    x_trj = rollout(x0, u_trj)\n",
    "    total_cost = cost_sum(x_trj,u_trj)\n",
    "    regu = regu_init\n",
    "    max_regu = 10000\n",
    "    min_regu = 0.01\n",
    "    \n",
    "    alpha = alpha_init\n",
    "    max_alpha = 1.0\n",
    "    min_alpha = 0.0\n",
    "    \n",
    "    # Setup traces\n",
    "    cost_trace = [total_cost]\n",
    "    expected_cost_redu_trace = []\n",
    "    redu_ratio_trace = [1]\n",
    "    redu_trace = []\n",
    "    regu_trace = [regu]\n",
    "    \n",
    "    alpha_trace = [alpha]\n",
    "    # Run main loop\n",
    "    for it in range(max_iter):\n",
    "        # Backward and forward pass\n",
    "        k_trj, K_trj, expected_cost_redu = backward_pass(x_trj, u_trj, regu, alpha)\n",
    "        x_trj_new, u_trj_new = forward_pass(x_trj, u_trj, k_trj, K_trj, expected_cost_redu, total_cost, alpha)\n",
    "        # Evaluate new trajectory\n",
    "        total_cost = cost_sum(x_trj_new,u_trj_new)\n",
    "        cost_redu = cost_trace[-1] - total_cost\n",
    "        redu_ratio = cost_redu / abs(expected_cost_redu)\n",
    "        # Accept or reject iteration\n",
    "        if redu_ratio >= 1e-4 and redu_ratio <= 10  :\n",
    "            # Improvement! Accept new trajectories and lower regularization\n",
    "            redu_ratio_trace.append(redu_ratio)\n",
    "            cost_trace.append(total_cost)\n",
    "            x_trj = x_trj_new\n",
    "            u_trj = u_trj_new\n",
    "            regu *= 0.7\n",
    "            # alpha doesn't change if accepted\n",
    "        else:\n",
    "            # Reject new trajectories and increase regularization\n",
    "            regu *= 2.0\n",
    "            alpha = alpha* 0.5 # a scaling factor of 0.5 for alpha is a typical value\n",
    "            cost_trace.append(cost_trace[-1])\n",
    "            redu_ratio_trace.append(0)\n",
    "        regu = min(max(regu, min_regu), max_regu)\n",
    "        regu_trace.append(regu)\n",
    "        redu_trace.append(cost_redu)\n",
    "        \n",
    "        alpha = min(max(alpha,min_alpha),max_alpha)\n",
    "        alpha_trace.append(alpha)\n",
    "\n",
    "        # Early termination if expected improvement is small\n",
    "        if expected_cost_redu <= 1e-6:\n",
    "            break\n",
    "            \n",
    "    return x_trj, u_trj, cost_trace, regu_trace, redu_ratio_trace, redu_trace, alpha_trace\n",
    "\n",
    "\n",
    "\n",
    "\n"
   ]
  },
  {
   "cell_type": "markdown",
   "id": "44bbfd46-d4fc-4369-949b-7acc8eb7e0c2",
   "metadata": {},
   "source": [
    "### Receding Horizon iLQR:"
   ]
  },
  {
   "cell_type": "code",
   "execution_count": 48,
   "id": "4dcffaf0-a194-4728-9d28-05c21447bff7",
   "metadata": {},
   "outputs": [],
   "source": [
    "N = 10\n",
    "total_horizon = 50\n",
    "\n",
    "x0 = np.array([0.5, 1.5, 0, 0,      #1st row for agent1, 2nd row for agent2, 3rd row for agent3\n",
    "               2.5, 1.5, np.pi ,0 ,  \n",
    "               1.5, 1.3, np.pi/2 , 0.1 ]) \n",
    "\n",
    "x_ref = np.array([2.5, 1.5, 0 , 0.1 , 0.5, 1.5, np.pi , -0.1 , 1.5, 2.0, np.pi/2, 0.1 ])\n",
    "x_ref_T = x_ref\n",
    "\n",
    "Q = np.diag([50,50,0,0,50,50,0,0,50,50,0,0])\n",
    "R = np.eye(6)\n",
    "\n",
    "max_iter  = 10\n",
    "regu_init = 100\n",
    "alpha_init = 1\n",
    "\n",
    "x_trj_opt = np.zeros((total_horizon+1,3*n_x))\n",
    "x_trj_opt[0,:] = x0\n",
    "u_trj_opt = []\n",
    "\n",
    "for m in range(total_horizon):\n",
    "    \n",
    "    x_trj, u_trj, cost_trace, regu_trace, redu_ratio_trace, redu_trace, alpha_trace = run_ilqr(x_trj_opt[m,:], N, max_iter=100, regu_init=100, alpha_init= 1)\n",
    "    #each time run_ilqr is called, x_trj and u_trj are returned based on an optiomization over the prediction horizon N\n",
    "    x_trj_opt[m+1,:] = x_trj[1,:]\n",
    "    u_trj_opt.append(u_trj[0])\n",
    "\n"
   ]
  },
  {
   "cell_type": "code",
   "execution_count": 49,
   "id": "63e1de52-9483-46b9-8544-922d98f2c6c5",
   "metadata": {},
   "outputs": [
    {
     "data": {
      "text/plain": [
       "(51, 12)"
      ]
     },
     "execution_count": 49,
     "metadata": {},
     "output_type": "execute_result"
    }
   ],
   "source": [
    "x_trj_opt.shape"
   ]
  },
  {
   "cell_type": "code",
   "execution_count": 50,
   "id": "95c4e649-aae8-42c5-938e-fee19b1684dc",
   "metadata": {},
   "outputs": [
    {
     "data": {
      "text/plain": [
       "50"
      ]
     },
     "execution_count": 50,
     "metadata": {},
     "output_type": "execute_result"
    }
   ],
   "source": [
    "len(u_trj_opt)"
   ]
  },
  {
   "cell_type": "markdown",
   "id": "c7e00bd4-0d17-4021-8639-1d15f38440d4",
   "metadata": {},
   "source": [
    "### **A generic 3-agent planar experiment**:\n"
   ]
  },
  {
   "cell_type": "code",
   "execution_count": null,
   "id": "7db363f0-9de0-4570-a24c-98b984b5f97e",
   "metadata": {},
   "outputs": [],
   "source": [
    "%matplotlib inline"
   ]
  },
  {
   "cell_type": "code",
   "execution_count": null,
   "id": "ac85e1a3-49ee-4528-bc86-5ae357dab2a9",
   "metadata": {},
   "outputs": [],
   "source": [
    "x_ref = np.array([2.5, 1.5, 0 , 0.1 , 0.5, 1.5, np.pi , -0.1 , 1.5, 2.0, np.pi/2, 0.1 ])\n",
    "x_ref_T = x_ref"
   ]
  },
  {
   "cell_type": "code",
   "execution_count": null,
   "id": "52ee7a0b-b9d7-4f81-b8bc-3fd99f03c9bf",
   "metadata": {},
   "outputs": [],
   "source": [
    "# # Setup problem and call iLQR\n",
    "# x0 = np.array([0.5, 1.5, 0, 0,      #1st row for agent1, 2nd row for agent2, 3rd row for agent3\n",
    "#                2.5, 1.5, np.pi ,0 ,  \n",
    "#                1.5, 1.3, np.pi/2 , 0.1 ]) \n",
    "# N = 5\n",
    "# total_horizon = 50\n",
    "# max_iter  = 10\n",
    "# regu_init = 100\n",
    "# alpha_init = 1\n",
    "# #Q = np.eye(12)*200; \n",
    "# # Q[0,0]=800\n",
    "# # Q[1,1]=800\n",
    "# # Q[4,4]=1000\n",
    "# # Q[5,5]=1000\n",
    "# # Q[8,8]=800\n",
    "# # Q[9,9]=800\n",
    "\n",
    "# Q = np.diag([50,50,0,0,50,50,0,0,50,50,0,0])\n",
    "\n",
    "\n",
    "# R = np.eye(6)\n",
    "# x_trj, u_trj, u_trj_opt, x_trj_opt, cost_trace, regu_trace, redu_ratio_trace, redu_trace, alpha_trace = run_ilqr_RHC(x0, N,total_horizon, max_iter, regu_init, alpha_init)"
   ]
  },
  {
   "cell_type": "code",
   "execution_count": null,
   "id": "2f52dbf1-b693-4ebd-bdf6-8526494df55d",
   "metadata": {},
   "outputs": [],
   "source": [
    "# u_trj_opt = np.asarray(u_trj_opt)\n",
    "# u_trj_opt.shape"
   ]
  },
  {
   "cell_type": "code",
   "execution_count": null,
   "id": "5b5aaca7-72be-47dd-8287-bb4130b7b48c",
   "metadata": {},
   "outputs": [],
   "source": [
    "# x_trj_opt = np.asarray(x_trj_opt)\n",
    "# x_trj_opt.shape"
   ]
  },
  {
   "cell_type": "code",
   "execution_count": 51,
   "id": "5063fe57-53e8-47b9-9c50-ce17dc31b593",
   "metadata": {
    "tags": []
   },
   "outputs": [
    {
     "data": {
      "image/png": "[encoded data removed]",
      "text/plain": [
       "<Figure size 950x800 with 1 Axes>"
      ]
     },
     "metadata": {},
     "output_type": "display_data"
    }
   ],
   "source": [
    "plt.figure(figsize=(9.5,8),dpi=100)\n",
    "#ax = plt.gca()\n",
    "\n",
    "# Plot resulting trajecotry of car\n",
    "plt.plot(x_trj_opt[:,0], x_trj_opt[:,1], '-r',linewidth=3,label='agent 1')\n",
    "plt.plot(x_trj_opt[:,4], x_trj_opt[:,5], '-g', linewidth=3,label='agent 2')\n",
    "plt.plot(x_trj_opt[:,8],x_trj_opt[:,9], '-k', linewidth=3,label='agent 3')\n",
    "#plt.text(-3, 4.2, \"Initial positions:$(0.5,3.5);(-3.5,3.5);(4.5,4.5)$\", bbox=dict(facecolor='blue', alpha=0.5),fontsize=13)\n",
    "#plt.arrow(x_trj[:,0][-1], x_trj[:,1][-1],-0.15,0.,shape='full', lw=2,\n",
    "   #length_includes_head=True, head_width=.05, color='r')\n",
    "\n",
    "#plt.arrow(x_trj[:,4][-1], x_trj[:,5][-1],0.15,0.,shape='full', lw=2,\n",
    "   #length_includes_head=True, head_width=.05, color='g')|\n",
    "\n",
    "#plt.arrow(x_trj[:,8][-1], x_trj[:,9][-1],-0.15,-0.05,shape='full', lw=2,\n",
    "   #length_includes_head=True, head_width=.05, color='k')\n",
    "\n",
    "\n",
    "plt.xlabel('x position',fontsize=13)\n",
    "plt.ylabel('y position',fontsize=13)\n",
    "#plt.yticks(ticks=np.arange(1.3,1.8,0.02))\n",
    "plt.legend(loc='upper left',fontsize=13);"
   ]
  },
  {
   "cell_type": "code",
   "execution_count": null,
   "id": "c5ab5af4-5c93-476c-a770-313ba7e30030",
   "metadata": {},
   "outputs": [],
   "source": [
    "fig = plt.figure(dpi=150)\n",
    "ax = plt.axes(xlim=(0.3,2.6), ylim=(1.2, 2.2))\n",
    "\n",
    "ax = plt.gca()\n",
    "\n",
    "# Plot initial line to fill in as we go\n",
    "line1, = ax.plot([], [], lw=3,color='r',label='agent 1')\n",
    "line2, = ax.plot([], [], lw=3,color='g',label='agent 2')\n",
    "line3, = ax.plot([], [], lw=3,color='k',label='agent 3')\n",
    "ax.legend(loc='upper right',fontsize=13)\n",
    "ax.set_xlabel('X coordinate (m)',fontsize=13)\n",
    "ax.set_ylabel('Y coordinate (m)',fontsize=13)\n",
    "ax.set_yticks(ticks=np.arange(1.2,2.2,0.04))\n",
    "ax.text(0.5, 2.0, \"Initial positions:$(0.5, 1.5);(2.5, 1.5);(1.5, 1.3)$\", bbox=dict(facecolor='blue', alpha=0.5),fontsize=11)\n",
    "ax.text(0.5,1.9, \"Horizon length = 50\",bbox=dict(facecolor='blue', alpha=0.5),fontsize=11)\n",
    "def animate(i):\n",
    "    # Plot resulting trajecotry of car\n",
    "    \n",
    "    \n",
    "    line1.set_xdata(x_trj_opt[:i,0])\n",
    "    line2.set_xdata(x_trj_opt[:i,4])\n",
    "    line3.set_xdata(x_trj_opt[:i,8])\n",
    "\n",
    "    #line.set_ydata(x_trj[:i,1:10:4])\n",
    "    line1.set_ydata(x_trj_opt[:i,1])\n",
    "    line2.set_ydata(x_trj_opt[:i,5])\n",
    "    line3.set_ydata(x_trj_opt[:i,9])\n",
    "\n",
    "    \n",
    "    return line1,line2,line3\n",
    "\n",
    "\n",
    "anim = FuncAnimation(fig, animate, frames=x_trj_opt.shape[0], interval=200) # animation doesn't show up?\n"
   ]
  },
  {
   "cell_type": "code",
   "execution_count": null,
   "id": "32d3fa92-2903-4df9-9cef-2b599c9a87af",
   "metadata": {},
   "outputs": [],
   "source": [
    "anim"
   ]
  },
  {
   "cell_type": "code",
   "execution_count": null,
   "id": "9d943b9e-77d8-4b0d-be20-a090872d25cd",
   "metadata": {},
   "outputs": [],
   "source": [
    "horizon = np.arange(1,N,1)\n",
    "plt.figure(figsize=(10,8),dpi=100)\n",
    "sns.scatterplot(x=horizon,y=u_trj[:,0],label='$\\omega$ for agent1 [rad/s]');\n",
    "sns.scatterplot(x=horizon,y=u_trj[:,1],label='acceleration for agent1[m/s]');\n",
    "\n",
    "sns.scatterplot(x=horizon,y=u_trj[:,2],label='$\\omega$ for agent2 [rad/s]');\n",
    "sns.scatterplot(x=horizon,y=u_trj[:,3],label='acceleration for agent2[m/s]');\n",
    "\n",
    "sns.scatterplot(x=horizon,y=u_trj[:,4],label='$\\omega$ for agent3 [rad/s]');\n",
    "sns.scatterplot(x=horizon,y=u_trj[:,5],label='acceleration for agent3[m/s]');\n",
    "\n",
    "plt.legend(fontsize=13);\n",
    "plt.xlabel('Horizon [$N$]');"
   ]
  },
  {
   "cell_type": "code",
   "execution_count": null,
   "id": "1b8e7f21-b4b1-46ed-b2f3-55245e1a20b3",
   "metadata": {},
   "outputs": [],
   "source": [
    "anim.save('videos/June8_3AgentsSim_N=50.mp4',fps=10)"
   ]
  },
  {
   "cell_type": "markdown",
   "id": "f907b675-10eb-4698-ae7b-6b759b4e83a8",
   "metadata": {},
   "source": [
    "### Convergence Anlysis:"
   ]
  },
  {
   "cell_type": "code",
   "execution_count": null,
   "id": "268e82e8-1436-4d2f-8dfc-5865039008cf",
   "metadata": {},
   "outputs": [],
   "source": [
    "plt.figure(dpi=100)\n",
    "plt.plot(alpha_trace)\n",
    "plt.xlabel('# Iteration')\n",
    "plt.ylabel('Learning rate for line search')\n"
   ]
  },
  {
   "cell_type": "code",
   "execution_count": null,
   "id": "f349b7b1-3767-468c-89ec-7cf0e0bd7e0f",
   "metadata": {},
   "outputs": [],
   "source": [
    "plt.subplots(figsize=(10,6))\n",
    "# Plot results\n",
    "plt.subplot(2, 2, 1)\n",
    "plt.plot(cost_trace)\n",
    "plt.xlabel('# Iteration')\n",
    "plt.ylabel('Total cost')\n",
    "plt.title('Cost trace')\n",
    "\n",
    "plt.subplot(2, 2, 2)\n",
    "delta_opt = (np.array(cost_trace) - cost_trace[-1])\n",
    "plt.plot(delta_opt)\n",
    "plt.yscale('log')\n",
    "plt.xlabel('# Iteration')\n",
    "plt.ylabel('Optimality gap')\n",
    "plt.title('Convergence plot')\n",
    "\n",
    "plt.subplot(2, 2, 3)\n",
    "plt.plot(redu_ratio_trace)\n",
    "plt.title('Ratio of actual reduction and expected reduction')\n",
    "plt.ylabel('Reduction ratio')\n",
    "plt.xlabel('# Iteration')\n",
    "\n",
    "plt.subplot(2, 2, 4)\n",
    "plt.plot(regu_trace)\n",
    "plt.title('Regularization trace')\n",
    "plt.ylabel('Regularization')\n",
    "plt.xlabel('# Iteration')\n",
    "plt.tight_layout()"
   ]
  },
  {
   "cell_type": "code",
   "execution_count": null,
   "id": "d219a65c-8b37-4214-87b8-d0f9c2506c84",
   "metadata": {},
   "outputs": [],
   "source": []
  }
 ],
 "metadata": {
  "kernelspec": {
   "display_name": "Python 3 (ipykernel)",
   "language": "python",
   "name": "python3"
  },
  "language_info": {
   "codemirror_mode": {
    "name": "ipython",
    "version": 3
   },
   "file_extension": ".py",
   "mimetype": "text/x-python",
   "name": "python",
   "nbconvert_exporter": "python",
   "pygments_lexer": "ipython3",
   "version": "3.7.6"
  }
 },
 "nbformat": 4,
 "nbformat_minor": 5
}
