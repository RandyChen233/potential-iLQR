{
 "cells": [
  {
   "cell_type": "code",
   "execution_count": 1,
   "id": "26176397-4653-4815-be8c-8481a8468b6f",
   "metadata": {},
   "outputs": [],
   "source": [
    "# python libraries\n",
    "import numpy as np\n",
    "import matplotlib.pyplot as plt\n",
    "import matplotlib as mpl\n",
    "import seaborn as sns\n",
    "import sympy as sym\n",
    "\n",
    "plt.style.use('seaborn')"
   ]
  },
  {
   "cell_type": "code",
   "execution_count": 3,
   "id": "8385e772-c7ba-437d-b8d8-3a797e365985",
   "metadata": {},
   "outputs": [
    {
     "name": "stdout",
     "output_type": "stream",
     "text": [
      "Requirement already satisfied: control in d:\\softwares\\anaconda\\lib\\site-packages (0.9.1)\n",
      "Requirement already satisfied: matplotlib in d:\\softwares\\anaconda\\lib\\site-packages (from control) (3.1.3)\n",
      "Requirement already satisfied: numpy in d:\\softwares\\anaconda\\lib\\site-packages (from control) (1.20.3)\n",
      "Requirement already satisfied: scipy in d:\\softwares\\anaconda\\lib\\site-packages (from control) (1.7.1)\n",
      "Requirement already satisfied: pyparsing!=2.0.4,!=2.1.2,!=2.1.6,>=2.0.1 in d:\\softwares\\anaconda\\lib\\site-packages (from matplotlib->control) (3.0.4)\n",
      "Requirement already satisfied: cycler>=0.10 in d:\\softwares\\anaconda\\lib\\site-packages (from matplotlib->control) (0.11.0)\n",
      "Requirement already satisfied: kiwisolver>=1.0.1 in d:\\softwares\\anaconda\\lib\\site-packages (from matplotlib->control) (1.3.1)\n",
      "Requirement already satisfied: python-dateutil>=2.1 in d:\\softwares\\anaconda\\lib\\site-packages (from matplotlib->control) (2.8.2)\n",
      "Requirement already satisfied: six>=1.5 in d:\\softwares\\anaconda\\lib\\site-packages (from python-dateutil>=2.1->matplotlib->control) (1.16.0)\n"
     ]
    }
   ],
   "source": [
    "!pip install control"
   ]
  },
  {
   "cell_type": "code",
   "execution_count": 2,
   "id": "86463d8e-9d9f-43a3-aaad-f50889b4a888",
   "metadata": {},
   "outputs": [],
   "source": [
    "import control"
   ]
  },
  {
   "cell_type": "code",
   "execution_count": 5,
   "id": "d4e5c874-1bf4-4cfb-8432-9f55b234e783",
   "metadata": {},
   "outputs": [
    {
     "name": "stdout",
     "output_type": "stream",
     "text": [
      "Requirement already satisfied: ffmpeg in d:\\softwares\\anaconda\\lib\\site-packages (1.4)\n"
     ]
    }
   ],
   "source": [
    "!pip install ffmpeg"
   ]
  },
  {
   "cell_type": "code",
   "execution_count": 3,
   "id": "21b8bd42-b88e-4001-a815-48785b5ce6fa",
   "metadata": {},
   "outputs": [],
   "source": [
    "from matplotlib.animation import FuncAnimation"
   ]
  },
  {
   "cell_type": "code",
   "execution_count": 4,
   "id": "83221d9a-27a4-4f31-8774-47aecdca0121",
   "metadata": {},
   "outputs": [],
   "source": [
    "from matplotlib import rc\n",
    "\n",
    "# equivalent to rcParams['animation.html'] = 'html5'\n",
    "rc('animation', html='html5')"
   ]
  },
  {
   "cell_type": "code",
   "execution_count": 8,
   "id": "9c870c84-6a4f-4e51-8282-fa03270cf581",
   "metadata": {},
   "outputs": [
    {
     "name": "stdout",
     "output_type": "stream",
     "text": [
      "Requirement already satisfied: quadprog in d:\\softwares\\anaconda\\lib\\site-packages (0.1.11)\n",
      "Requirement already satisfied: numpy in d:\\softwares\\anaconda\\lib\\site-packages (from quadprog) (1.20.3)\n"
     ]
    }
   ],
   "source": [
    "!pip install quadprog"
   ]
  },
  {
   "cell_type": "code",
   "execution_count": 5,
   "id": "cf319558-a7b5-4fd3-b586-de319d30fa11",
   "metadata": {},
   "outputs": [],
   "source": [
    "import quadprog"
   ]
  },
  {
   "cell_type": "markdown",
   "id": "f6ec4ecc-cadc-4ade-8988-4ac93ee17a60",
   "metadata": {},
   "source": [
    "### Define vehicle dynamics:\n"
   ]
  },
  {
   "cell_type": "code",
   "execution_count": 11,
   "id": "9a28dd63-9f92-409a-af67-043359658e80",
   "metadata": {},
   "outputs": [],
   "source": [
    "#unicycle dynamics\n",
    "n_x = 4\n",
    "n_u = 2\n",
    "def unicycle_continuous_dynamics(x, u):\n",
    "    # x = [x position, y position, heading, forward velocity] \n",
    "    # u = [omega, forward acceleration]\n",
    "    #m = sym if x.dtype == object else np # Check type for autodiff\n",
    "    x_pos = x[3]*np.cos(x[2])\n",
    "    y_pos = x[3]*np.sin(x[2])\n",
    "    heading_rate = u[0]\n",
    "    v_dot = u[1]\n",
    "    x_d = np.array([\n",
    "        x_pos,\n",
    "        y_pos,\n",
    "        heading_rate,\n",
    "        v_dot    \n",
    "    ])\n",
    "    return x_d"
   ]
  },
  {
   "cell_type": "markdown",
   "id": "b9c0eb3b-49c5-4773-ab36-db2413bfa6ba",
   "metadata": {},
   "source": [
    "#### Now I will attempt to linearize the dynamics given above such that I have the form: $\\dot x$ = $Ax + Bu$, $y = Cx$. Matrices $A$ and $B$ are found by taking the jacobians of $\\dot x$ with respect to the states and inputs respectively at the equilibrium tuple $(x_e,u_e)$"
   ]
  },
  {
   "cell_type": "code",
   "execution_count": 12,
   "id": "fa0eff1b-b981-45a7-90c1-837a8bbf278a",
   "metadata": {},
   "outputs": [],
   "source": [
    "# symbolic version of the equations of motion\n",
    "x1,y1,theta1,v1,x2,y2,theta2,v2,x3,y3,theta3,v3 = sym.symbols('x1,y1,theta1,v1,x2,y2,theta2,v2,x3,y3,theta3,y3',real=True)\n",
    "omega1,a1,omega2,a2,omega3,a3 = sym.symbols('omega1,a1,omega2,a2,omega3,a3',real=True)\n",
    "\n",
    "\n",
    "\n",
    "x_pos1 = v1*sym.cos(theta1)\n",
    "y_pos1 = v1*sym.sin(theta1)\n",
    "heading_rate1 = omega1\n",
    "v_dot1 = a1\n",
    "\n",
    "x_pos2 = v2*sym.cos(theta2)\n",
    "y_pos2 = v2*sym.sin(theta2)\n",
    "heading_rate2 = omega2\n",
    "v_dot2 = a2\n",
    "\n",
    "x_pos3 = v3*sym.cos(theta3)\n",
    "y_pos3 = v3*sym.sin(theta3)\n",
    "heading_rate3 = omega3\n",
    "v_dot3 = a3\n",
    "\n",
    "f = sym.Matrix([   #for 3 agents:\n",
    "    x_pos1,\n",
    "    y_pos1,\n",
    "    heading_rate1,\n",
    "    v_dot1,\n",
    "    \n",
    "    x_pos2,\n",
    "    y_pos2,\n",
    "    heading_rate2,\n",
    "    v_dot2,\n",
    "    \n",
    "    x_pos3,\n",
    "    y_pos3,\n",
    "    heading_rate3,\n",
    "    v_dot3\n",
    "])\n",
    "\n",
    " \n",
    "    \n",
    "#define equilibrium (reference) values such that the following QP problem is set up for trajectory tracking:\n",
    "x_ref = np.array([3.5, 1.5, 0. , 0. , 0.5, 1.5, 0. , 0. , 1.8, 2.4, 0. , 0. ])\n",
    "\n",
    "x_ref_T = x_ref\n",
    "\n",
    "\n",
    "x_e1 = x_ref[0]\n",
    "y_e1 = x_ref[1]\n",
    "v_e1 = 0\n",
    "theta_e1 = 0\n",
    "omega_e1 = 0\n",
    "a_e1 = 0\n",
    "\n",
    "x_e2 = x_ref[4]\n",
    "y_e2 = x_ref[5]\n",
    "v_e2 = 0\n",
    "theta_e2 = 0\n",
    "omega_e2 = 0\n",
    "a_e2 = 0\n",
    "\n",
    "x_e3 = x_ref[8]\n",
    "y_e3 = x_ref[9]\n",
    "v_e3 = 0\n",
    "theta_e3 = 0\n",
    "omega_e3 = 0\n",
    "a_e3 = 0\n",
    "\n",
    "\n",
    "eq = {\n",
    "    x1 :x_e1,\n",
    "    y1 :y_e1,\n",
    "    v1 :v_e1 ,\n",
    "    theta1 : theta_e1,\n",
    "    omega1: omega_e1,\n",
    "    a1 : a_e1,\n",
    "    \n",
    "    x2 :x_e2,\n",
    "    y2 :y_e2,\n",
    "    v2 :v_e2 ,\n",
    "    theta2 : theta_e2,\n",
    "    omega2: omega_e2,\n",
    "    a2 : a_e2,\n",
    "    \n",
    "    x3 :x_e3,\n",
    "    y3 :y_e3,\n",
    "    v3 :v_e3 ,\n",
    "    theta3 : theta_e3,\n",
    "    omega3: omega_e3,\n",
    "    a3 : a_e3,\n",
    "}"
   ]
  },
  {
   "cell_type": "code",
   "execution_count": 13,
   "id": "5522d588-ba28-48f0-a30b-7f27e0a18e11",
   "metadata": {},
   "outputs": [
    {
     "data": {
      "text/latex": [
       "$\\displaystyle \\left[\\begin{matrix}0\\\\0\\\\0\\\\0\\\\0\\\\0\\\\0\\\\0\\\\0\\\\0\\\\0\\\\0\\end{matrix}\\right]$"
      ],
      "text/plain": [
       "Matrix([\n",
       "[0],\n",
       "[0],\n",
       "[0],\n",
       "[0],\n",
       "[0],\n",
       "[0],\n",
       "[0],\n",
       "[0],\n",
       "[0],\n",
       "[0],\n",
       "[0],\n",
       "[0]])"
      ]
     },
     "execution_count": 13,
     "metadata": {},
     "output_type": "execute_result"
    }
   ],
   "source": [
    "f.subs(eq) #equilibrium verified"
   ]
  },
  {
   "cell_type": "code",
   "execution_count": 1636,
   "id": "3a58d6c0-e50f-4802-8ee1-51597276d7a0",
   "metadata": {},
   "outputs": [],
   "source": [
    "A = f.jacobian([x1,y1,theta1,v1,x2,y2,theta2,v2,x3,y3,theta3,v3]).subs(eq)\n",
    "B = f.jacobian([omega1,a1,omega2,a2,omega3,a3]).subs(eq)"
   ]
  },
  {
   "cell_type": "code",
   "execution_count": 1637,
   "id": "5da2b046-dc6b-4672-a8e8-d60bfcb2feb0",
   "metadata": {},
   "outputs": [
    {
     "data": {
      "text/plain": [
       "(1, 12)"
      ]
     },
     "execution_count": 1637,
     "metadata": {},
     "output_type": "execute_result"
    }
   ],
   "source": [
    "#Assuming full-state feedback, \n",
    "C = np.array([[1,1,1,1,1,1,1,1,1,1,1,1]])\n",
    "C.shape"
   ]
  },
  {
   "cell_type": "code",
   "execution_count": 1638,
   "id": "ac86d911-9d90-4891-953e-a9f8b24972b5",
   "metadata": {},
   "outputs": [],
   "source": [
    "global C"
   ]
  },
  {
   "cell_type": "code",
   "execution_count": 1639,
   "id": "b494d0f4-c63c-4ab9-b69b-e32b816c6624",
   "metadata": {},
   "outputs": [
    {
     "data": {
      "text/plain": [
       "9"
      ]
     },
     "execution_count": 1639,
     "metadata": {},
     "output_type": "execute_result"
    }
   ],
   "source": [
    "np.linalg.matrix_rank(control.ctrb(A,B))"
   ]
  },
  {
   "cell_type": "code",
   "execution_count": 1640,
   "id": "ab28c9ed-0f7c-4fcf-b55d-7265cd81651c",
   "metadata": {},
   "outputs": [],
   "source": [
    "#note: it appears that the state space model derived above is not controllable"
   ]
  },
  {
   "cell_type": "markdown",
   "id": "15a1117b-042e-4b22-b57e-69db0452faed",
   "metadata": {},
   "source": [
    "#### Compact notation for the predicted state sequence generated by the state space model:\n",
    "\n",
    "$$\n",
    "\\begin{aligned}\n",
    "&\\mathbf{x}_{k}=\\mathcal{M} x_{k}+\\mathcal{C} \\mathbf{u}_{k}\\\\\n",
    "&\\mathcal{M}=\\left[\\begin{array}{c}\n",
    "I \\\\\n",
    "A \\\\\n",
    "A^{2} \\\\\n",
    "\\vdots \\\\\n",
    "A^{N}\n",
    "\\end{array}\\right], \\quad \\mathcal{C}=\\left[\\begin{array}{cccc}\n",
    "0 & 0 & \\cdots & 0 \\\\\n",
    "\\hline B & & & \\\\\n",
    "A B & B & & \\\\\n",
    "\\vdots & \\vdots & \\ddots & \\\\\n",
    "A^{N-1} B & A^{N-2} B & \\cdots & B\n",
    "\\end{array}\\right] .\n",
    "\\end{aligned}\n",
    "$$"
   ]
  },
  {
   "cell_type": "markdown",
   "id": "a310d5be-95d5-4acf-91ca-dca60a810ad6",
   "metadata": {},
   "source": [
    "#### Here is a simple hard coded example for a MPC example problem from Mark Canon's notes on MPC:"
   ]
  },
  {
   "cell_type": "code",
   "execution_count": 2080,
   "id": "a58a7d84-092e-4800-aa18-67496ae8e0a9",
   "metadata": {},
   "outputs": [],
   "source": [
    "A = np.array([[1.1,2],[0,0.95]])\n",
    "B = np.array([[0],[0.0787]])\n",
    "C = np.array([[-1,1]])"
   ]
  },
  {
   "cell_type": "code",
   "execution_count": 2081,
   "id": "2c12037f-8370-4917-a904-602dd2a445cd",
   "metadata": {},
   "outputs": [],
   "source": [
    "N = 4  #length of the MOVING horizon\n",
    "n_x = 2"
   ]
  },
  {
   "cell_type": "code",
   "execution_count": 2122,
   "id": "3909397b-919d-4c29-9379-ba2a2a78611b",
   "metadata": {},
   "outputs": [],
   "source": [
    "#Block matrix M\n",
    "# M = np.zeros((N+1,1,A.shape[0],A.shape[1]))\n",
    "# M[0,0,:,:] = np.eye(A.shape[0])\n",
    "\n",
    "# for i in range(1,N):\n",
    "#     element = np.linalg.matrix_power(A,i)\n",
    "#     M[i,0,:,:] = element\n",
    "\n",
    "M = np.zeros(((N+1)*A.shape[0],A.shape[1]))\n",
    "M[0:2,:] = np.eye(A.shape[0]) \n",
    "M[2:4,:] = A\n",
    "M[4:6,:] = A**2\n",
    "M[6:8,:] = A**3\n",
    "M[8:10,:] = A**4\n"
   ]
  },
  {
   "cell_type": "code",
   "execution_count": null,
   "id": "e9cc5b68-5057-4647-9cdf-66ae6cf66d9b",
   "metadata": {},
   "outputs": [
    {
     "data": {
      "text/plain": [
       "array([[ 1.4641    , 16.        ],\n",
       "       [ 0.        ,  0.81450625]])"
      ]
     },
     "execution_count": 2130,
     "metadata": {},
     "output_type": "execute_result"
    }
   ],
   "source": [
    "A"
   ]
  },
  {
   "cell_type": "code",
   "execution_count": 2124,
   "id": "337216fc-53d5-4916-b705-805efa4918d8",
   "metadata": {},
   "outputs": [
    {
     "data": {
      "text/plain": [
       "array([[ 1.        ,  0.        ],\n",
       "       [ 0.        ,  1.        ],\n",
       "       [ 1.1       ,  2.        ],\n",
       "       [ 0.        ,  0.95      ],\n",
       "       [ 1.21      ,  4.        ],\n",
       "       [ 0.        ,  0.9025    ],\n",
       "       [ 1.331     ,  8.        ],\n",
       "       [ 0.        ,  0.857375  ],\n",
       "       [ 1.4641    , 16.        ],\n",
       "       [ 0.        ,  0.81450625]])"
      ]
     },
     "execution_count": 2124,
     "metadata": {},
     "output_type": "execute_result"
    }
   ],
   "source": [
    "M"
   ]
  },
  {
   "cell_type": "code",
   "execution_count": 1953,
   "id": "de1f8465-63ac-46f8-ba46-41d266f1f896",
   "metadata": {},
   "outputs": [],
   "source": [
    "#M.shape"
   ]
  },
  {
   "cell_type": "code",
   "execution_count": 1981,
   "id": "0f04e90c-62f1-4449-9adf-098ecbc996b4",
   "metadata": {},
   "outputs": [],
   "source": [
    "#Block matrix C\n",
    "C_block = np.zeros((N+1, N, A.shape[0], B.shape[1]))\n",
    "for i in range(N):\n",
    "    for j in range(i + 1):\n",
    "        C_block[i, j] = np.linalg.matrix_power(A, i - j) @ B\n",
    "\n",
    "        "
   ]
  },
  {
   "cell_type": "code",
   "execution_count": 1955,
   "id": "530b83b5-a4d4-4a15-8b40-700b6e6c3f6f",
   "metadata": {},
   "outputs": [],
   "source": [
    "# for i in range(N):\n",
    "#     for j in range(i + 1):\n",
    "#         print(i,j)\n",
    "#         print(i-j)"
   ]
  },
  {
   "cell_type": "code",
   "execution_count": 1956,
   "id": "c8555070-e846-4d9c-ae2e-5eaf6e8a5fc1",
   "metadata": {},
   "outputs": [],
   "source": [
    "# C_block.flatten().shape"
   ]
  },
  {
   "cell_type": "code",
   "execution_count": 1982,
   "id": "4264b2ef-e24f-4fe6-bc68-6d81789122af",
   "metadata": {},
   "outputs": [],
   "source": [
    "C_block_final = C_block[N,:,:].T\n",
    "for i in range(N):\n",
    "    element = C_block[i,:,:].T\n",
    "    C_block_final = np.block([[C_block_final],[element]])\n",
    "C_block = C_block_final"
   ]
  },
  {
   "cell_type": "code",
   "execution_count": 1983,
   "id": "41dc6104-8531-4c3d-88a1-ee71ab9ae6c3",
   "metadata": {},
   "outputs": [],
   "source": [
    "C_block = C_block.reshape(-1,N)"
   ]
  },
  {
   "cell_type": "code",
   "execution_count": 1999,
   "id": "91f2021a-9a6a-4a39-906f-31e50886a455",
   "metadata": {},
   "outputs": [
    {
     "data": {
      "text/plain": [
       "array([[0.        , 0.        , 0.        , 0.        ],\n",
       "       [0.        , 0.        , 0.        , 0.        ],\n",
       "       [0.        , 0.        , 0.        , 0.        ],\n",
       "       [0.0787    , 0.        , 0.        , 0.        ],\n",
       "       [0.1574    , 0.        , 0.        , 0.        ],\n",
       "       [0.074765  , 0.0787    , 0.        , 0.        ],\n",
       "       [0.32267   , 0.1574    , 0.        , 0.        ],\n",
       "       [0.07102675, 0.074765  , 0.0787    , 0.        ],\n",
       "       [0.4969905 , 0.32267   , 0.1574    , 0.        ],\n",
       "       [0.06747541, 0.07102675, 0.074765  , 0.0787    ]])"
      ]
     },
     "execution_count": 1999,
     "metadata": {},
     "output_type": "execute_result"
    }
   ],
   "source": [
    "C_block"
   ]
  },
  {
   "cell_type": "markdown",
   "id": "b2bcc187-5829-4898-8160-56c10dbaf76f",
   "metadata": {},
   "source": [
    "### Cost function: \n",
    "$$\n",
    "J=\\mathbf{x}_{k}^{\\top} \\tilde{Q} \\mathbf{x}_{k}+\\mathbf{u}_{k}^{\\top} \\tilde{R} \\mathbf{u}_{k}\n",
    "$$\n",
    "\n",
    "$$\n",
    "\\tilde{Q}=\\left[\\begin{array}{cccc}\n",
    "Q & & & \\\\\n",
    "& \\ddots & & \\\\\n",
    "& & Q & \\\\\n",
    "& & & \\bar{Q}\n",
    "\\end{array}\\right] \\text { and } \\tilde{R}=\\left[\\begin{array}{ccc}\n",
    "R & & \\\\\n",
    "& \\ddots & \\\\\n",
    "& & R\n",
    "\\end{array}\\right]\n",
    "$$\n",
    "\n",
    "substituting the state evolution equation:\n",
    "\n",
    "$$\n",
    "\\begin{aligned}\n",
    "J=\\mathbf{u}_{k}^{\\top} H \\mathbf{u}_{k} &+2 x_{k}^{\\top} F^{\\top} \\mathbf{u}_{k}+x_{k}^{\\top} G x_{k} \\\\\n",
    "H &=\\mathcal{C}^{\\top} \\tilde{Q} \\mathcal{C}+\\tilde{R} \\\\\n",
    "F &=\\mathcal{C}^{\\top} \\tilde{Q} \\mathcal{M} \\\\\n",
    "G &=\\mathcal{M}^{\\top} \\tilde{Q} \\mathcal{M}\n",
    "\\end{aligned}\n",
    "$$\n",
    "\n",
    "$G$ can be neglected when solving for the optimal $u$\n",
    "\n",
    "\n"
   ]
  },
  {
   "cell_type": "code",
   "execution_count": 2000,
   "id": "234f0e6b-2ea5-4d24-8803-73c3f4c518e5",
   "metadata": {},
   "outputs": [
    {
     "data": {
      "text/plain": [
       "(10, 4)"
      ]
     },
     "execution_count": 2000,
     "metadata": {},
     "output_type": "execute_result"
    }
   ],
   "source": [
    "C_block.shape"
   ]
  },
  {
   "cell_type": "code",
   "execution_count": 2021,
   "id": "541955f5-7b41-4148-a7c1-a8dd404fe459",
   "metadata": {
    "tags": []
   },
   "outputs": [],
   "source": [
    "#Blcok matrix Q\n",
    "Q = C.T @ C\n",
    "Q_block = np.zeros((C_block.shape[0],C_block.shape[0]))\n",
    "\n",
    "element = Q\n",
    "\n",
    "Q_block[0:2,0:2] = Q\n",
    "Q_block[2:4,2:4] = Q\n",
    "Q_block[4:6,4:6] = Q\n",
    "Q_block[6:8,6:8] = Q\n",
    "Q_block[8:10,8:10] = Q\n",
    "\n",
    "\n",
    "#for i in range(0,C_block.shape[0]):\n",
    "    #Q_block[i:i+Q.shape[0],i:i+Q.shape[0]] = element\n",
    "    \n"
   ]
  },
  {
   "cell_type": "code",
   "execution_count": 2024,
   "id": "367b6f83-4c83-4995-9332-01e239df3013",
   "metadata": {},
   "outputs": [
    {
     "data": {
      "text/plain": [
       "array([[ 1., -1.,  0.,  0.,  0.,  0.,  0.,  0.,  0.,  0.],\n",
       "       [-1.,  1.,  0.,  0.,  0.,  0.,  0.,  0.,  0.,  0.],\n",
       "       [ 0.,  0.,  1., -1.,  0.,  0.,  0.,  0.,  0.,  0.],\n",
       "       [ 0.,  0., -1.,  1.,  0.,  0.,  0.,  0.,  0.,  0.],\n",
       "       [ 0.,  0.,  0.,  0.,  1., -1.,  0.,  0.,  0.,  0.],\n",
       "       [ 0.,  0.,  0.,  0., -1.,  1.,  0.,  0.,  0.,  0.],\n",
       "       [ 0.,  0.,  0.,  0.,  0.,  0.,  1., -1.,  0.,  0.],\n",
       "       [ 0.,  0.,  0.,  0.,  0.,  0., -1.,  1.,  0.,  0.],\n",
       "       [ 0.,  0.,  0.,  0.,  0.,  0.,  0.,  0.,  1., -1.],\n",
       "       [ 0.,  0.,  0.,  0.,  0.,  0.,  0.,  0., -1.,  1.]])"
      ]
     },
     "execution_count": 2024,
     "metadata": {},
     "output_type": "execute_result"
    }
   ],
   "source": [
    "Q_block"
   ]
  },
  {
   "cell_type": "code",
   "execution_count": 2025,
   "id": "0316183d-02ab-4b9f-a232-fa8a968aedf2",
   "metadata": {},
   "outputs": [],
   "source": [
    "#Block matrix R\n",
    "R = np.array([[0.01]])\n",
    "R_block = np.zeros((N, N , R.shape[0] , R.shape[0]))\n",
    "for i in range(N):\n",
    "    R_block[i,i] = R\n"
   ]
  },
  {
   "cell_type": "code",
   "execution_count": 2026,
   "id": "aa77138f-7731-41f3-a2c9-0c7bbdf4e06d",
   "metadata": {},
   "outputs": [],
   "source": [
    "R_block = R_block.reshape((N)*R.shape[0],-1)"
   ]
  },
  {
   "cell_type": "code",
   "execution_count": 2027,
   "id": "163592be-d9ed-4ab9-b271-8c43591b974f",
   "metadata": {},
   "outputs": [
    {
     "data": {
      "text/plain": [
       "(4, 4)"
      ]
     },
     "execution_count": 2027,
     "metadata": {},
     "output_type": "execute_result"
    }
   ],
   "source": [
    "R_block.shape"
   ]
  },
  {
   "cell_type": "code",
   "execution_count": 2028,
   "id": "b0d0296e-4348-47b1-a87a-6b0f00f80289",
   "metadata": {},
   "outputs": [
    {
     "data": {
      "text/plain": [
       "array([[0.01, 0.  , 0.  , 0.  ],\n",
       "       [0.  , 0.01, 0.  , 0.  ],\n",
       "       [0.  , 0.  , 0.01, 0.  ],\n",
       "       [0.  , 0.  , 0.  , 0.01]])"
      ]
     },
     "execution_count": 2028,
     "metadata": {},
     "output_type": "execute_result"
    }
   ],
   "source": [
    "R_block"
   ]
  },
  {
   "cell_type": "code",
   "execution_count": 2029,
   "id": "0e18274e-957f-40b2-b535-e6cd06f2dd2a",
   "metadata": {},
   "outputs": [
    {
     "data": {
      "text/plain": [
       "array([[ 0.27082977,  0.12237574,  0.01568866, -0.03380284],\n",
       "       [ 0.12237574,  0.08634656,  0.01429117, -0.01980432],\n",
       "       [ 0.01568866,  0.01429117,  0.02302223, -0.00650337],\n",
       "       [-0.03380284, -0.01980432, -0.00650337,  0.01619369]])"
      ]
     },
     "execution_count": 2029,
     "metadata": {},
     "output_type": "execute_result"
    }
   ],
   "source": [
    "C_blockT = C_block.T\n",
    "C_blockT_times_Q = np.matmul(C_blockT, Q_block)\n",
    "H = np.matmul(C_blockT_times_Q, C_block) + R_block\n",
    "H"
   ]
  },
  {
   "cell_type": "code",
   "execution_count": 2087,
   "id": "43dd37b7-8911-4962-b4be-3148f3fb00df",
   "metadata": {},
   "outputs": [
    {
     "data": {
      "text/plain": [
       "array([[ 0.97720856,  8.49311896],\n",
       "       [ 0.38319107,  4.16778457],\n",
       "       [ 0.0162362 ,  0.69272869],\n",
       "       [-0.11522467, -1.19509836]])"
      ]
     },
     "execution_count": 2087,
     "metadata": {},
     "output_type": "execute_result"
    }
   ],
   "source": [
    "F = C_block.T@Q_block@M\n",
    "F"
   ]
  },
  {
   "cell_type": "code",
   "execution_count": 2088,
   "id": "110ae625-4825-459f-99f8-fcc46d4074fc",
   "metadata": {},
   "outputs": [
    {
     "data": {
      "text/plain": [
       "array([[  7.58924981,  35.64289027],\n",
       "       [ 35.64289027, 293.31331857]])"
      ]
     },
     "execution_count": 2088,
     "metadata": {},
     "output_type": "execute_result"
    }
   ],
   "source": [
    "G = M.T @ Q_block @ M\n",
    "G"
   ]
  },
  {
   "cell_type": "code",
   "execution_count": 2131,
   "id": "4097e67c-5dd9-47f1-9fea-88f6e69ff6f4",
   "metadata": {},
   "outputs": [
    {
     "data": {
      "text/plain": [
       "array([[ -4.35631266, -26.43033777],\n",
       "       [  1.63828522,  -8.57209642],\n",
       "       [  1.41406608,  -5.02637101],\n",
       "       [  0.59345792,   6.12738681]])"
      ]
     },
     "execution_count": 2131,
     "metadata": {},
     "output_type": "execute_result"
    }
   ],
   "source": [
    "-np.linalg.inv(H)@F"
   ]
  },
  {
   "cell_type": "code",
   "execution_count": 2132,
   "id": "6d2cefe4-cdc0-4cd2-a681-bfc38eca9862",
   "metadata": {},
   "outputs": [],
   "source": [
    "L = (-np.linalg.inv(H)@F)[0]"
   ]
  },
  {
   "cell_type": "code",
   "execution_count": 2133,
   "id": "c4608f34-3d79-4313-9992-ac4482b0e67e",
   "metadata": {},
   "outputs": [
    {
     "data": {
      "text/plain": [
       "array([ -4.35631266, -26.43033777])"
      ]
     },
     "execution_count": 2133,
     "metadata": {},
     "output_type": "execute_result"
    }
   ],
   "source": [
    "L"
   ]
  },
  {
   "cell_type": "code",
   "execution_count": 2134,
   "id": "e21d287f-9acd-49f5-b5af-67470888bb83",
   "metadata": {},
   "outputs": [],
   "source": [
    "xk = np.array([0.5,-0.5]) # a random state vector\n",
    "#the resulting receding horizon control law is a fixed linear feedback controller:\n",
    "uPredict = L@xk"
   ]
  },
  {
   "cell_type": "code",
   "execution_count": 2135,
   "id": "92a40d4d-7407-4f70-ab82-7324e8ec77ab",
   "metadata": {},
   "outputs": [
    {
     "data": {
      "text/plain": [
       "11.037012552305157"
      ]
     },
     "execution_count": 2135,
     "metadata": {},
     "output_type": "execute_result"
    }
   ],
   "source": [
    "uPredict"
   ]
  },
  {
   "cell_type": "code",
   "execution_count": 2136,
   "id": "63bdd2d1-ec57-4040-9260-ff69f74e6e0f",
   "metadata": {},
   "outputs": [
    {
     "data": {
      "text/plain": [
       "array([-1.])"
      ]
     },
     "execution_count": 2136,
     "metadata": {},
     "output_type": "execute_result"
    }
   ],
   "source": [
    "y = C@xk\n",
    "y"
   ]
  },
  {
   "cell_type": "markdown",
   "id": "7bf47438-cb30-4531-955b-85ed65f901e5",
   "metadata": {},
   "source": [
    "#### Now we have obtained all the necessary block matrices for constructing the QP problem above. Note that the block matrix $G$ is neglected because when minimizing the objective function with respect to $u$, it is obvious that $G$ has no effect on the optimal solution."
   ]
  },
  {
   "cell_type": "markdown",
   "id": "018aeec0-6fe2-4167-bf77-bab106d8e1a2",
   "metadata": {},
   "source": [
    "### Rollout :\n",
    "$$\n",
    "\\begin{aligned}\n",
    "&\\mathbf{x}_{k}=\\mathcal{M} x_{k}+\\mathcal{C} \\mathbf{u}_{k}\\\\\n",
    "&\\mathcal{M}=\\left[\\begin{array}{c}\n",
    "I \\\\\n",
    "A \\\\\n",
    "A^{2} \\\\\n",
    "\\vdots \\\\\n",
    "A^{N}\n",
    "\\end{array}\\right], \\quad \\mathcal{C}=\\left[\\begin{array}{cccc}\n",
    "0 & 0 & \\cdots & 0 \\\\\n",
    "\\hline B & & & \\\\\n",
    "A B & B & & \\\\\n",
    "\\vdots & \\vdots & \\ddots & \\\\\n",
    "A^{N-1} B & A^{N-2} B & \\cdots & B\n",
    "\\end{array}\\right] .\n",
    "\\end{aligned}\n",
    "$$\n"
   ]
  },
  {
   "cell_type": "code",
   "execution_count": 1245,
   "id": "75c378af-4976-4624-9dfc-dcf48fd4c216",
   "metadata": {},
   "outputs": [],
   "source": [
    "# def rollout(x0, u_trj): #rolling out the state trajectory based on the state evolution equation (discretized equation of motion)\n",
    "\n",
    "#     x_trj = np.zeros((u_trj.shape[0]+1, x0.shape[0]))\n",
    "\n",
    "#     x_trj[0,:] = x0\n",
    "    \n",
    "#     for i in range(0,x_trj.shape[0]-1): \n",
    "#         x_trj[i+1,:] = discrete_dynamics_multiple(x_trj[i,:],u_trj[i,:],(4,4,4),(2,2,2))\n",
    "#     return x_trj\n",
    "\n",
    "# N = 15\n",
    "# x0 = np.array([3.5,3.5,0.1, 0.5,     #1st row for agent1, 2nd row for agent2, 3rd row for agent3\n",
    "#                -3.5,3.5,0.2,0.5,   \n",
    "#                3, 3.5,0.1, 0.3]) \n",
    "# u_trj = np.zeros((N-1, 3*n_u))\n",
    "# x_trj = rollout(x0, u_trj)"
   ]
  },
  {
   "cell_type": "markdown",
   "id": "4bd59c12-79fa-4a5a-9027-659572e8cec0",
   "metadata": {},
   "source": [
    "### The Optimal Constrained Control Problem of Linear MPC Reference Tracking takes the form:\n",
    "$$\n",
    "\\begin{aligned}\n",
    "&\\min _{\\Delta \\mathbf{U}} \\sum_{k=0}^{N-1}(\\mathbf{y}(k+1)-\\mathbf{r}(t))^{T} \\mathbf{Q}(\\mathbf{y}(k+1)-\\mathbf{r}(t))+(\\mathbf{u}(k)-\\mathbf{u}(k-1))^{T} \\mathbf{R}(\\mathbf{u}(k)-\\mathbf{u}(k-1)) \\\\\n",
    "&\\text { s.t. }: \\mathbf{u}_{\\min } \\leq \\mathbf{u}(k) \\leq \\mathbf{u}_{\\max }, k=0, \\ldots, N-1 \\\\\n",
    "&\\Delta \\mathbf{u}_{\\min } \\leq \\mathbf{u}(k)-\\mathbf{u}(k-1) \\leq \\Delta \\mathbf{u}_{\\max }, k=0, \\ldots, N-1 \\\\\n",
    "&\\mathbf{y}_{\\min } \\leq \\mathbf{y}(k) \\leq \\mathbf{y}_{\\max }, k=1, \\ldots, N\n",
    "\\end{aligned}\n",
    "$$\n",
    "\n",
    "### Can also be re-written in a more general form:\n",
    "\n",
    "$$\n",
    "\\begin{aligned}\n",
    "&\\min _{\\Delta \\mathbf{U}} J(\\Delta \\mathbf{U}, \\mathbf{x}(t))=\\frac{1}{2} \\Delta \\mathbf{U}^{T} \\mathbf{H} \\Delta \\mathbf{U}+\\left[\\mathbf{x}^{T}(t) \\mathbf{r}^{T}(t) \\mathbf{u}^{T}(t-1)\\right] \\mathbf{F} \\Delta \\mathbf{U} \\\\\n",
    "&\\text { s.t. } \\mathbf{G} \\Delta \\mathbf{U} \\leq \\mathbf{W}+\\mathbf{S}\\left[\\begin{array}{c}\n",
    "\\mathbf{x}(t) \\\\\n",
    "\\mathbf{r}(t) \\\\\n",
    "\\mathbf{u}(t-1)\n",
    "\\end{array}\\right]\n",
    "\\end{aligned}\n",
    "$$"
   ]
  },
  {
   "cell_type": "markdown",
   "id": "41a6adde-49ea-4c21-84a7-6058c6144772",
   "metadata": {},
   "source": [
    "#### The simplified version used in my case is given as the following ($\\delta u$ constraint is ignored):\n",
    "$$\n",
    "\\begin{aligned} \n",
    "min_{u} J = u_{k}^{T} H u_{k} + 2 x_{k}^{T} F^{T} u_{k}\n",
    "\\end{aligned}\n",
    "$$\n",
    "#### subject to:\n",
    "\n",
    "$$\n",
    "\\begin{aligned} \n",
    "A_{c}u_{k} \\leq b_{0} + B_{x} x_{k}\n",
    "\\end{aligned}\n",
    "$$\n",
    "\n",
    "#### The inequality constraint accounts for actuator limits"
   ]
  },
  {
   "cell_type": "code",
   "execution_count": 2089,
   "id": "d4f8b0ff-3217-4be8-a303-ae4d1991ab9f",
   "metadata": {},
   "outputs": [],
   "source": [
    "def quadprog_solve_qp(P, q, G=None, h=None, A=None, b=None):\n",
    "    qp_G = .5 * (P + P.T)   # make sure P is symmetric\n",
    "    qp_a = -q\n",
    "    if A is not None:\n",
    "        qp_C = -np.vstack([A, G]).T\n",
    "        qp_b = -np.hstack([b, h])\n",
    "        meq = A.shape[0]\n",
    "    else:  # no equality constraint\n",
    "        qp_C = -G.T\n",
    "        qp_b = -h\n",
    "        meq = 0\n",
    "    return quadprog.solve_qp(qp_G, qp_a, qp_C, qp_b, meq)[0]\n",
    "\n"
   ]
  },
  {
   "cell_type": "markdown",
   "id": "f6f6f7c5-1ec3-48f8-8cff-ac42f9d60f62",
   "metadata": {},
   "source": [
    "#### We now assume an actuator limit of $\\pm$ 10 $\\frac{rad}{s}$ and $\\pm$ 10 $\\frac{m}{s^{2}}$"
   ]
  },
  {
   "cell_type": "code",
   "execution_count": 1396,
   "id": "77162070-6223-443f-843b-8f05b2658b5a",
   "metadata": {},
   "outputs": [],
   "source": [
    "# Ac = np.zeros((N+1,1,2*B.shape[1],B.shape[1]))\n",
    "# b0 = np.zeros((N+1,1,2*B.shape[1],B.shape[1]))\n",
    "# Ac[:,:,0:B.shape[1],:]=np.eye(B.shape[1])\n",
    "# Ac[:,:,B.shape[1]:2*B.shape[1],:]=-np.eye(B.shape[1])\n",
    "       \n",
    "# b0[:,:,0:B.shape[1],:] = np.ones(6)*10\n",
    "# b0[:,:,B.shape[1]:2*B.shape[1],:] = -np.ones(6)*10"
   ]
  },
  {
   "cell_type": "code",
   "execution_count": 2090,
   "id": "eeda6ed7-5d63-4ae6-a743-44cf94754653",
   "metadata": {},
   "outputs": [],
   "source": [
    "Aplus = np.eye(B.shape[1])\n",
    "Aminus = -np.eye(B.shape[1])\n",
    "\n",
    "Ac = np.vstack([Aplus,Aminus])\n",
    "#b0 = np.zeros((2*B.shape[1],B.shape[1]))\n"
   ]
  },
  {
   "cell_type": "code",
   "execution_count": 2091,
   "id": "45932698-0124-473b-a9b6-653810d9f5c4",
   "metadata": {},
   "outputs": [
    {
     "data": {
      "text/plain": [
       "array([[ 1.],\n",
       "       [-1.]])"
      ]
     },
     "execution_count": 2091,
     "metadata": {},
     "output_type": "execute_result"
    }
   ],
   "source": [
    "Ac"
   ]
  },
  {
   "cell_type": "code",
   "execution_count": 2092,
   "id": "999aaac0-64ff-4134-91ce-dd1eda57e059",
   "metadata": {},
   "outputs": [],
   "source": [
    "b0 = np.zeros((Ac.shape[0],B.shape[1]))\n",
    "b0[:,:]=10"
   ]
  },
  {
   "cell_type": "code",
   "execution_count": 2093,
   "id": "5515bdae-bcc1-42c7-9636-258832cbdb9e",
   "metadata": {},
   "outputs": [
    {
     "data": {
      "text/plain": [
       "array([[10.],\n",
       "       [10.]])"
      ]
     },
     "execution_count": 2093,
     "metadata": {},
     "output_type": "execute_result"
    }
   ],
   "source": [
    "b0[:,:]"
   ]
  },
  {
   "cell_type": "code",
   "execution_count": 1402,
   "id": "eba13573-e51c-4a8b-afab-578a5dc41f2e",
   "metadata": {},
   "outputs": [],
   "source": [
    "x0 = np.array([0.5, 1.5, 0.05, 1,      #1st row for agent1, 2nd row for agent2, 3rd row for agent3\n",
    "               3.5, 1.5, 0.2 ,0.5,  \n",
    "               1.8, 1.2, 0.15 , 0.1 ]) \n",
    "u0 = np.random.randn(3*n_u)*0.05\n"
   ]
  },
  {
   "cell_type": "code",
   "execution_count": 1449,
   "id": "75399b3a-9c6a-4ad1-909a-433771caac3e",
   "metadata": {},
   "outputs": [],
   "source": [
    "# u_trj = []\n",
    "# x_trj = [x0]\n",
    "# for i in range(1,N+1):\n",
    "#     u_opt = quadprog_solve_qp(P=H[i,i,:,:],q=(M[i,0,:,:]@x0 + C_block[i,i,:,:]@u0).T@F[i,i,:,:].T,G = Ac, h = b0 , A=None,b=None)\n",
    "#     u_trj.append(u_opt)\n",
    "#     x_next = M[i,0,:,:]@x0 + C_block[i,i,:,:]@u_opt\n",
    "#     x_trj.append(x_next)\n",
    "     \n",
    "    \n",
    "# u_trj_opt = np.asarray(u_trj[0])\n"
   ]
  },
  {
   "cell_type": "code",
   "execution_count": 1341,
   "id": "df022786-8ad0-4141-a894-8ba6c2671295",
   "metadata": {},
   "outputs": [
    {
     "data": {
      "text/plain": [
       "11"
      ]
     },
     "execution_count": 1341,
     "metadata": {},
     "output_type": "execute_result"
    }
   ],
   "source": [
    "len(x_trj)"
   ]
  },
  {
   "cell_type": "code",
   "execution_count": 1342,
   "id": "e2c102cd-cb0d-4c63-b569-12beb8708592",
   "metadata": {},
   "outputs": [
    {
     "data": {
      "text/plain": [
       "10"
      ]
     },
     "execution_count": 1342,
     "metadata": {},
     "output_type": "execute_result"
    }
   ],
   "source": [
    "len(u_trj)"
   ]
  },
  {
   "cell_type": "code",
   "execution_count": 1343,
   "id": "2034e864-b7fa-4c1f-9f05-93aecd76fa9a",
   "metadata": {},
   "outputs": [
    {
     "data": {
      "text/plain": [
       "array([ 0.,  0.,  0.,  0.,  0., -0.])"
      ]
     },
     "execution_count": 1343,
     "metadata": {},
     "output_type": "execute_result"
    }
   ],
   "source": [
    "u_trj_opt"
   ]
  },
  {
   "cell_type": "code",
   "execution_count": 1344,
   "id": "8f38aa93-3b7e-412b-95a7-759443341e3a",
   "metadata": {},
   "outputs": [
    {
     "data": {
      "text/plain": [
       "array([0.5 , 1.5 , 0.05, 1.  , 3.5 , 1.5 , 0.2 , 0.5 , 1.8 , 1.2 , 0.15,\n",
       "       0.1 ])"
      ]
     },
     "execution_count": 1344,
     "metadata": {},
     "output_type": "execute_result"
    }
   ],
   "source": [
    "x0"
   ]
  },
  {
   "cell_type": "code",
   "execution_count": 1277,
   "id": "d7f51a17-139e-4a63-8de4-41e508e8f8ea",
   "metadata": {},
   "outputs": [
    {
     "data": {
      "text/plain": [
       "array([1. , 0. , 0. , 0. , 0.5, 0. , 0. , 0. , 1.3, 0. , 0. , 0. ])"
      ]
     },
     "execution_count": 1277,
     "metadata": {},
     "output_type": "execute_result"
    }
   ],
   "source": [
    "x_new = x_trj[1] #new state trajectory after the very first optimization at the first time step with a prediction horizon of 10\n",
    "x_new"
   ]
  },
  {
   "cell_type": "markdown",
   "id": "3de37a25-de9e-4ffa-a485-45fac8780746",
   "metadata": {},
   "source": [
    "#### The code shown above is an example of how the very first prediction update is computed. Now we will put everything in a loop and solves the above optimization \"many times\" in a receding-horizon fashion"
   ]
  },
  {
   "cell_type": "code",
   "execution_count": 1142,
   "id": "f1f13afd-aed3-49b1-a10d-1cdf7ca5e055",
   "metadata": {},
   "outputs": [],
   "source": [
    "N=10"
   ]
  },
  {
   "cell_type": "code",
   "execution_count": 1143,
   "id": "bed8742a-a4e0-4b33-b3cb-7a8f75d9eff0",
   "metadata": {},
   "outputs": [],
   "source": [
    "#Block matrix M\n",
    "def M(i,N,A):\n",
    "    M = np.zeros((N+1,1,A.shape[0],A.shape[1]))\n",
    "    for j,m in zip(range(i,i+N-1),range(N+1)):\n",
    "        element = np.linalg.matrix_power(A,j)\n",
    "        M[m,0,:,:] = element\n",
    "         \n",
    "    \n",
    "    return M"
   ]
  },
  {
   "cell_type": "code",
   "execution_count": 1144,
   "id": "6629472e-762a-40f5-8132-8ff9605bbb0b",
   "metadata": {},
   "outputs": [
    {
     "name": "stdout",
     "output_type": "stream",
     "text": [
      "(11, 1, 12, 12)\n"
     ]
    }
   ],
   "source": [
    "print(M(3,N,A).shape)"
   ]
  },
  {
   "cell_type": "code",
   "execution_count": 1145,
   "id": "5ec64974-d791-4cfc-84b0-a82e1f94d0db",
   "metadata": {},
   "outputs": [],
   "source": [
    "# #Block matrix C\n",
    "# C_block = np.zeros((N+1, N+1, A.shape[0], B.shape[1]))\n",
    "# for i in range(N):\n",
    "#     for j in range(i + 1):\n",
    "#         C_block[i+1, j] = np.linalg.matrix_power(A, i - j) @ B\n"
   ]
  },
  {
   "cell_type": "code",
   "execution_count": 1175,
   "id": "32db2183-d334-47de-80cd-fab117c42aae",
   "metadata": {},
   "outputs": [
    {
     "name": "stdout",
     "output_type": "stream",
     "text": [
      "1 1\n",
      "0\n",
      "2 1\n",
      "1\n",
      "2 2\n",
      "0\n",
      "3 1\n",
      "2\n",
      "3 2\n",
      "1\n",
      "3 3\n",
      "0\n",
      "4 1\n",
      "3\n",
      "4 2\n",
      "2\n",
      "4 3\n",
      "1\n",
      "4 4\n",
      "0\n",
      "5 1\n",
      "4\n",
      "5 2\n",
      "3\n",
      "5 3\n",
      "2\n",
      "5 4\n",
      "1\n",
      "5 5\n",
      "0\n"
     ]
    }
   ],
   "source": [
    "# for m in range(N+1):\n",
    "#         for q in range(1,m+1):\n",
    "#             print(m,q)\n",
    "#             print(m-q)"
   ]
  },
  {
   "cell_type": "code",
   "execution_count": 1176,
   "id": "69c1d164-c0b7-4c9a-8742-8d472c3d5845",
   "metadata": {},
   "outputs": [],
   "source": [
    "def C_block(i,N,A,B): #i >= 0 , which refers to the time step k within the total_horizon\n",
    "    C_ = np.zeros((N+1, N+1, A.shape[0], B.shape[1]))\n",
    "    if i == 0:\n",
    "        for m in range(N+1):\n",
    "            for q in range(1,m+1):\n",
    "                C_[m,q] = np.linalg.matrix_power(A,m - q) @ B\n",
    "    else:\n",
    "        for m in range(N+1):\n",
    "            for q in range(0,m+1+i-1):\n",
    "                if q <= (N):\n",
    "                    C_[m,q] = np.linalg.matrix_power(A, abs(m - q+i-1)) @ B \n",
    "    \n",
    "    return C_"
   ]
  },
  {
   "cell_type": "code",
   "execution_count": 1177,
   "id": "63b062a3-7673-4109-86d8-bd1cc774360d",
   "metadata": {},
   "outputs": [],
   "source": [
    "# N=3"
   ]
  },
  {
   "cell_type": "code",
   "execution_count": 1178,
   "id": "59dcf8ad-c18b-4a2c-bab6-646ff14bd6ed",
   "metadata": {},
   "outputs": [],
   "source": [
    "\n",
    "# i=2\n",
    "# for m in range(N+1):\n",
    "#     for q in range(0,m+1+i-1):\n",
    "#         if q <= (N):\n",
    "#             print(m,q)\n",
    "            \n",
    "#             print(abs(m-q+i-1))\n",
    "            "
   ]
  },
  {
   "cell_type": "code",
   "execution_count": 1179,
   "id": "f06f257c-996a-423e-817d-3e1744fc431d",
   "metadata": {},
   "outputs": [
    {
     "name": "stdout",
     "output_type": "stream",
     "text": [
      "(6, 6, 12, 6)\n"
     ]
    }
   ],
   "source": [
    "print(C_block(4,N,A,B).shape)"
   ]
  },
  {
   "cell_type": "code",
   "execution_count": 1180,
   "id": "11153ff8-1907-496a-8184-adec4c8814d1",
   "metadata": {},
   "outputs": [
    {
     "name": "stdout",
     "output_type": "stream",
     "text": [
      "(6, 6, 12, 6)\n"
     ]
    }
   ],
   "source": [
    "print(C_block(0,N,A,B).shape)"
   ]
  },
  {
   "cell_type": "code",
   "execution_count": 1150,
   "id": "4bfa293e-382f-40ed-91b6-0267bf1b3d91",
   "metadata": {},
   "outputs": [],
   "source": [
    "# C_block(4,N,A,B)[0,0,:,:]"
   ]
  },
  {
   "cell_type": "code",
   "execution_count": 1151,
   "id": "4040b541-ff88-4c8c-b38a-4610205c05b4",
   "metadata": {},
   "outputs": [],
   "source": [
    "# np.isclose(C_block(4,N,A,B)[0,0,:,:],np.asarray(A**3@B,dtype='float64')).all()"
   ]
  },
  {
   "cell_type": "code",
   "execution_count": 1153,
   "id": "332fd9d5-f85d-40aa-909f-b08b5a33e0cd",
   "metadata": {},
   "outputs": [],
   "source": [
    "#Blcok matrix Q\n",
    "\n",
    "def Q_block(Q,N):\n",
    "    Q = C.T@C\n",
    "    Q_ = np.zeros((N+1,N+1,*Q.shape))\n",
    "    for j in range(0,N+1):\n",
    "        Q_[j,j] = Q\n",
    "        \n",
    "    return Q_"
   ]
  },
  {
   "cell_type": "code",
   "execution_count": 1154,
   "id": "ef11bce2-ba3f-4168-b144-251dd6c98507",
   "metadata": {},
   "outputs": [
    {
     "name": "stdout",
     "output_type": "stream",
     "text": [
      "(11, 11, 12, 12)\n"
     ]
    }
   ],
   "source": [
    "print(Q_block(Q,N).shape)"
   ]
  },
  {
   "cell_type": "code",
   "execution_count": 1155,
   "id": "e6ec804b-cd27-4785-8b8f-2dda5912a3e5",
   "metadata": {},
   "outputs": [],
   "source": [
    "#Block matrix R\n",
    "def R_block(R,N):\n",
    "    R = np.eye(6)\n",
    "    R_ = np.zeros((N+1,N+1,*R.shape))\n",
    "    for j in range(N+1):\n",
    "        R_[j,j] = R\n",
    "    return R_"
   ]
  },
  {
   "cell_type": "code",
   "execution_count": 1156,
   "id": "0bf0b2bf-3a6f-46f3-9a15-49da1b17eeee",
   "metadata": {},
   "outputs": [
    {
     "name": "stdout",
     "output_type": "stream",
     "text": [
      "(11, 11, 6, 6)\n"
     ]
    }
   ],
   "source": [
    "print(R_block(R,N).shape)"
   ]
  },
  {
   "cell_type": "code",
   "execution_count": 1157,
   "id": "eb8dd17d-e9dd-4cf8-9689-8612c48bfd7e",
   "metadata": {},
   "outputs": [],
   "source": [
    "def H_block(C_block,R_block,Q_block):\n",
    "    C_blockT = np.swapaxes(C_block,2,3)\n",
    "    C_blockT_times_Q = np.matmul(C_blockT, Q_block)\n",
    "    H = np.matmul(C_blockT_times_Q, C_block) + R_block\n",
    "    \n",
    "    return H\n",
    "\n",
    "def F_block(C_block,Q_block,M):\n",
    "    C_blockT = np.swapaxes(C_block,2,3)\n",
    "    F = np.matmul(np.matmul(C_blockT,Q_block),M)\n",
    "    \n",
    "    return F"
   ]
  },
  {
   "cell_type": "code",
   "execution_count": 1158,
   "id": "1df69b25-b8d1-4700-82e1-9fa5b3f6c00a",
   "metadata": {},
   "outputs": [
    {
     "data": {
      "text/plain": [
       "(11, 11, 6, 6)"
      ]
     },
     "execution_count": 1158,
     "metadata": {},
     "output_type": "execute_result"
    }
   ],
   "source": [
    "H_block(C_block(4,N,A,B),R_block(R,N),Q_block(Q,N)).shape"
   ]
  },
  {
   "cell_type": "code",
   "execution_count": 1161,
   "id": "dc877338-fde1-46b7-9ffa-bf75aed7f80d",
   "metadata": {},
   "outputs": [],
   "source": [
    "# H_block(C_block(15,N,A,B),R_block(R,N),Q_block(Q,N))"
   ]
  },
  {
   "cell_type": "code",
   "execution_count": 1159,
   "id": "1a3c8500-8d26-4c10-b08f-709009261329",
   "metadata": {},
   "outputs": [
    {
     "data": {
      "text/plain": [
       "(11, 11, 6, 12)"
      ]
     },
     "execution_count": 1159,
     "metadata": {},
     "output_type": "execute_result"
    }
   ],
   "source": [
    "F_block(C_block(4,N,A,B),Q_block(Q,N),M(4,N,A)).shape"
   ]
  },
  {
   "cell_type": "code",
   "execution_count": 1162,
   "id": "e06bf215-9aa4-4682-a703-f59aa219d3de",
   "metadata": {},
   "outputs": [],
   "source": [
    "def Ac(i,N,B):\n",
    "    A_ = np.zeros((N+1,1,B.shape[1],B.shape[1]))\n",
    "    A_[:,:,:,:] = np.eye(B.shape[1])\n",
    "    for j in range(N+1):\n",
    "        if j%2 ==0:\n",
    "            A_[j,:,:,:] = -np.eye(B.shape[1])\n",
    "            \n",
    "    return A_\n",
    "\n",
    "def b0(B):\n",
    "    b_ = np.ones(B.shape[1])*10\n",
    "    \n",
    "    return b_\n",
    "\n",
    "\n",
    "    "
   ]
  },
  {
   "cell_type": "code",
   "execution_count": 1163,
   "id": "29e3ad1b-35ac-4da7-bde6-9fba8efaeb1f",
   "metadata": {},
   "outputs": [
    {
     "data": {
      "text/plain": [
       "(11, 1, 6, 6)"
      ]
     },
     "execution_count": 1163,
     "metadata": {},
     "output_type": "execute_result"
    }
   ],
   "source": [
    "Ac(4,10,B).shape"
   ]
  },
  {
   "cell_type": "code",
   "execution_count": 1164,
   "id": "fe7d2b41-6232-46ba-a869-b8e549f3e73b",
   "metadata": {},
   "outputs": [
    {
     "data": {
      "text/plain": [
       "(6,)"
      ]
     },
     "execution_count": 1164,
     "metadata": {},
     "output_type": "execute_result"
    }
   ],
   "source": [
    "b0(B).shape"
   ]
  },
  {
   "cell_type": "markdown",
   "id": "2fdc3cd5-ab5d-48ea-b500-53ab007be716",
   "metadata": {
    "tags": []
   },
   "source": [
    "#### The purpose of defining those block matrices as functions is that we can keep updating those block matrices in a loop, which is an important step in receding-horizon control"
   ]
  },
  {
   "cell_type": "code",
   "execution_count": 1165,
   "id": "44d3f094-8e9f-4cf3-9abf-352f768c95bf",
   "metadata": {},
   "outputs": [
    {
     "data": {
      "text/plain": [
       "array([-0.06914748,  0.04946508,  0.0432293 ,  0.03151069,  0.02968232,\n",
       "       -0.00062887])"
      ]
     },
     "execution_count": 1165,
     "metadata": {},
     "output_type": "execute_result"
    }
   ],
   "source": [
    "u0 #randomly-generated initial input"
   ]
  },
  {
   "cell_type": "code",
   "execution_count": 1166,
   "id": "4b619c09-a702-4244-97a2-0d63e54f8aa4",
   "metadata": {},
   "outputs": [
    {
     "data": {
      "text/plain": [
       "array([0.5 , 1.5 , 0.05, 1.  , 3.5 , 1.5 , 0.2 , 0.5 , 1.8 , 1.2 , 0.15,\n",
       "       0.1 ])"
      ]
     },
     "execution_count": 1166,
     "metadata": {},
     "output_type": "execute_result"
    }
   ],
   "source": [
    "x0 #arbitrarily-chosen initial state"
   ]
  },
  {
   "cell_type": "code",
   "execution_count": 1168,
   "id": "6867df47-7843-4986-9572-55c493bb375f",
   "metadata": {},
   "outputs": [],
   "source": [
    "# for i in range(total_horizon):\n",
    "    \n",
    "#     for j in range(N):\n",
    "        \n",
    "#         print(i,j)"
   ]
  },
  {
   "cell_type": "code",
   "execution_count": 1207,
   "id": "8ad51401-b076-4a66-b13d-1004c45bb25e",
   "metadata": {},
   "outputs": [],
   "source": [
    "total_horizon = 20 #total horizon\n",
    "N = 5 #prediction horizon\n",
    "\n",
    "#x_trj = [x0]\n",
    "u_trj_opt = []\n",
    "x_trj = [x0]\n",
    "#A nested loop will be run: as the algorithm updates over the total_horizon, at each step k , a QP problem is sovled over \n",
    "#the prediction horizon N using quadprog such that the optimal control sequence at every step k is collected, and the closed-loop trajectory is updated \n",
    "#based on the calculated optimal control at each step k. Note that no matter how long the prediction horizon is, at each step k the solved optimal control\n",
    "#is only a single vector whose length is independent of the prediction horizon length. In summary, since the total_horizon = 100, I should expect to get an\n",
    "#optimal control sequence that has 100 rows at the very end.\n",
    "\n",
    "for i in range(total_horizon):\n",
    "    \n",
    "    for j in range(N):\n",
    "        \n",
    "        u_opt = quadprog_solve_qp(P=H_block(C_block(i,N,A,B), R_block(R,N), Q_block(Q,N))[j,j,:,:],\n",
    "                              q=(M(i,N,A)[j,0,:,:]@x0 + C_block(i,N,A,B)[j,j,:,:]@u0).T @ F_block(C_block(i,N,A,B),Q_block(Q,N),M(i,N,A))[j,j,:,:].T,\n",
    "                              G = Ac(i,N,B)[j,0,:,:], \n",
    "                              h = b0(B), \n",
    "                              A=None,\n",
    "                              b=None)\n",
    "        \n",
    "        x_next = M(i,N,A)[j,0,:,:]@x0 + C_block(i,N,A,B)[j,j,:,:]@u_opt\n",
    "            \n",
    "        u_trj_opt.append(u_opt)\n",
    "    \n",
    "        x_trj.append(x_next)\n",
    "    \n",
    "    "
   ]
  },
  {
   "cell_type": "code",
   "execution_count": 1208,
   "id": "83908c78-1112-4b8a-b94f-95af0c244434",
   "metadata": {},
   "outputs": [
    {
     "data": {
      "text/plain": [
       "100"
      ]
     },
     "execution_count": 1208,
     "metadata": {},
     "output_type": "execute_result"
    }
   ],
   "source": [
    "len(u_trj_opt)"
   ]
  },
  {
   "cell_type": "code",
   "execution_count": 1219,
   "id": "0bcd6f36-d4df-4a7e-be39-0595d6b48749",
   "metadata": {},
   "outputs": [
    {
     "data": {
      "text/plain": [
       "array([[ 0.        ,  0.        ,  0.        ,  0.        ,  0.        ,\n",
       "        -0.        ],\n",
       "       [-0.01147813, -0.01147813, -0.01147813, -0.01147813, -0.01147813,\n",
       "        -0.01147813],\n",
       "       [ 0.        ,  0.        ,  0.        ,  0.        ,  0.        ,\n",
       "        -0.        ],\n",
       "       [ 0.        ,  0.        ,  0.        ,  0.        ,  0.        ,\n",
       "        -0.        ],\n",
       "       [ 0.        ,  0.        ,  0.        ,  0.        ,  0.        ,\n",
       "        -0.        ],\n",
       "       [ 0.        ,  0.        ,  0.        ,  0.        ,  0.        ,\n",
       "        -0.        ],\n",
       "       [ 0.        ,  0.        ,  0.        ,  0.        ,  0.        ,\n",
       "        -0.        ],\n",
       "       [ 0.        ,  0.        ,  0.        ,  0.        ,  0.        ,\n",
       "        -0.        ],\n",
       "       [ 0.        ,  0.        ,  0.        ,  0.        ,  0.        ,\n",
       "        -0.        ],\n",
       "       [ 0.        ,  0.        ,  0.        ,  0.        ,  0.        ,\n",
       "        -0.        ],\n",
       "       [ 0.        ,  0.        ,  0.        ,  0.        ,  0.        ,\n",
       "        -0.        ],\n",
       "       [ 0.        ,  0.        ,  0.        ,  0.        ,  0.        ,\n",
       "        -0.        ],\n",
       "       [ 0.        ,  0.        ,  0.        ,  0.        ,  0.        ,\n",
       "        -0.        ],\n",
       "       [ 0.        ,  0.        ,  0.        ,  0.        ,  0.        ,\n",
       "        -0.        ],\n",
       "       [ 0.        ,  0.        ,  0.        ,  0.        ,  0.        ,\n",
       "        -0.        ],\n",
       "       [ 0.        ,  0.        ,  0.        ,  0.        ,  0.        ,\n",
       "        -0.        ],\n",
       "       [ 0.        ,  0.        ,  0.        ,  0.        ,  0.        ,\n",
       "        -0.        ],\n",
       "       [ 0.        ,  0.        ,  0.        ,  0.        ,  0.        ,\n",
       "        -0.        ],\n",
       "       [ 0.        ,  0.        ,  0.        ,  0.        ,  0.        ,\n",
       "        -0.        ],\n",
       "       [ 0.        ,  0.        ,  0.        ,  0.        ,  0.        ,\n",
       "        -0.        ]])"
      ]
     },
     "execution_count": 1219,
     "metadata": {},
     "output_type": "execute_result"
    }
   ],
   "source": [
    "u_trj_opt[0:100:5]"
   ]
  },
  {
   "cell_type": "code",
   "execution_count": 1220,
   "id": "002eaf21-b30f-4b52-a694-8fd5d2df70e1",
   "metadata": {},
   "outputs": [
    {
     "data": {
      "text/plain": [
       "101"
      ]
     },
     "execution_count": 1220,
     "metadata": {},
     "output_type": "execute_result"
    }
   ],
   "source": [
    "len(x_trj)"
   ]
  },
  {
   "cell_type": "markdown",
   "id": "f4e53f8d-0765-429c-9373-4791030103b7",
   "metadata": {},
   "source": [
    "### Plotting the resulting trajectory:\n",
    "\n"
   ]
  },
  {
   "cell_type": "code",
   "execution_count": 790,
   "id": "1bf49776-bdc4-4373-a8e4-3922749a4183",
   "metadata": {},
   "outputs": [
    {
     "data": {
      "text/plain": [
       "array([0.5 , 1.5 , 0.05, 1.  , 3.5 , 1.5 , 0.2 , 0.5 , 1.8 , 1.2 , 0.15,\n",
       "       0.1 ])"
      ]
     },
     "execution_count": 790,
     "metadata": {},
     "output_type": "execute_result"
    }
   ],
   "source": [
    "x0"
   ]
  },
  {
   "cell_type": "code",
   "execution_count": 791,
   "id": "7295700a-c0f9-4e3b-a9c5-f616b8fb40fb",
   "metadata": {},
   "outputs": [
    {
     "data": {
      "text/plain": [
       "array([3.5, 1.5, 0. , 0. , 0.5, 1.5, 0. , 0. , 1.8, 2.4, 0. , 0. ])"
      ]
     },
     "execution_count": 791,
     "metadata": {},
     "output_type": "execute_result"
    }
   ],
   "source": [
    "x_ref"
   ]
  },
  {
   "cell_type": "code",
   "execution_count": 789,
   "id": "5063fe57-53e8-47b9-9c50-ce17dc31b593",
   "metadata": {},
   "outputs": [
    {
     "data": {
      "image/png": "[encoded data removed]",
      "text/plain": [
       "<Figure size 684x576 with 1 Axes>"
      ]
     },
     "metadata": {},
     "output_type": "display_data"
    }
   ],
   "source": [
    "plt.figure(figsize=(9.5,8))\n",
    "#ax = plt.gca()\n",
    "\n",
    "# Plot resulting trajecotry of car\n",
    "plt.plot(x_trj[:,0], x_trj[:,1], '-r',linewidth=3,label='agent 1')\n",
    "plt.plot(x_trj[:,3], x_trj[:,4], '-g', linewidth=3,label='agent2')\n",
    "plt.plot(x_trj[:,6],x_trj[:,7], '-k', linewidth=3,label='agent3')\n",
    "#plt.text(1.7, 4.25, \"Initial positions:$(3.5,3.5);(1.5,3.5);(4.5,4.5)$\", bbox=dict(facecolor='blue', alpha=0.5),fontsize=13)\n",
    "\n",
    "plt.xlabel('x position',fontsize=13)\n",
    "plt.ylabel('y position',fontsize=13)\n",
    "plt.legend(loc='upper left',fontsize=13);"
   ]
  },
  {
   "cell_type": "code",
   "execution_count": 792,
   "id": "c5ab5af4-5c93-476c-a770-313ba7e30030",
   "metadata": {},
   "outputs": [
    {
     "data": {
      "image/png": "[encoded data removed]",
      "text/plain": [
       "<Figure size 576x396 with 1 Axes>"
      ]
     },
     "metadata": {},
     "output_type": "display_data"
    }
   ],
   "source": [
    "fig = plt.figure()\n",
    "ax = plt.axes(xlim=(-0.1,3.6), ylim=(-4 , 4))\n",
    "\n",
    "ax = plt.gca()\n",
    "\n",
    "# Plot initial line to fill in as we go\n",
    "line1, = ax.plot([], [], lw=3,color='r',label='agent 1')\n",
    "line2, = ax.plot([], [], lw=3,color='g',label='agent 2')\n",
    "line3, = ax.plot([], [], lw=3,color='k',label='agent 3')\n",
    "ax.legend(loc='upper right')\n",
    "ax.set_xlabel('X coordinate (m)')\n",
    "ax.set_ylabel('Y coordinate (m)')\n",
    "#ax.text(1.55, 5.6, \"Initial positions:$(3.5,3.5);(-3.5,3.5);(4.5,4.5)$\", bbox=dict(facecolor='blue', alpha=0.5),fontsize=13)\n",
    "def animate(i):\n",
    "    # Plot resulting trajecotry of car\n",
    "    \n",
    "    \n",
    "    line1.set_xdata(x_trj[:i,0])\n",
    "    line2.set_xdata(x_trj[:i,3])\n",
    "    line3.set_xdata(x_trj[:i,6])\n",
    "\n",
    "    \n",
    "    line1.set_ydata(x_trj[:i,1])\n",
    "    line2.set_ydata(x_trj[:i,4])\n",
    "    line3.set_ydata(x_trj[:i,7])\n",
    "\n",
    "    \n",
    "    return line1,line2,line3\n",
    "\n",
    "\n",
    "anim = FuncAnimation(fig, animate, frames=x_trj.shape[0], interval=200) # animation doesn't show up?\n"
   ]
  },
  {
   "cell_type": "code",
   "execution_count": 793,
   "id": "1374ace4-0974-4bcb-9254-57d81047a0f7",
   "metadata": {},
   "outputs": [
    {
     "data": {
      "text/plain": [
       "array([3.5, 1.5, 0. , 0. , 0.5, 1.5, 0. , 0. , 1.8, 2.4, 0. , 0. ])"
      ]
     },
     "execution_count": 793,
     "metadata": {},
     "output_type": "execute_result"
    }
   ],
   "source": [
    "x_ref"
   ]
  },
  {
   "cell_type": "code",
   "execution_count": 794,
   "id": "a0c92d20-2da8-4ea5-8b7e-eb92aea8a029",
   "metadata": {},
   "outputs": [
    {
     "data": {
      "text/plain": [
       "array([0.5 , 1.5 , 0.05, 1.  , 3.5 , 1.5 , 0.2 , 0.5 , 1.8 , 1.2 , 0.15,\n",
       "       0.1 ])"
      ]
     },
     "execution_count": 794,
     "metadata": {},
     "output_type": "execute_result"
    }
   ],
   "source": [
    "x0"
   ]
  },
  {
   "cell_type": "code",
   "execution_count": 795,
   "id": "32d3fa92-2903-4df9-9cef-2b599c9a87af",
   "metadata": {},
   "outputs": [
    {
     "data": {
      "text/html": [
       "<video width=\"576\" height=\"396\" controls autoplay loop>\n",
       "  <source type=\"video/mp4\" src=\"data:video/mp4;base64,AAAAIGZ0eXBNNFYgAAACAE00ViBpc29taXNvMmF2YzEAAAAIZnJlZQAAKo5tZGF0AAACnwYF//+b\n",
       "3EXpvebZSLeWLNgg2SPu73gyNjQgLSBjb3JlIDE2MSAtIEguMjY0L01QRUctNCBBVkMgY29kZWMg\n",
       "LSBDb3B5bGVmdCAyMDAzLTIwMjAgLSBodHRwOi8vd3d3LnZpZGVvbGFuLm9yZy94MjY0Lmh0bWwg\n",
       "LSBvcHRpb25zOiBjYWJhYz0xIHJlZj0zIGRlYmxvY2s9MTowOjAgYW5hbHlzZT0weDM6MHgxMTMg\n",
       "bWU9aGV4IHN1Ym1lPTcgcHN5PTEgcHN5X3JkPTEuMDA6MC4wMCBtaXhlZF9yZWY9MSBtZV9yYW5n\n",
       "ZT0xNiBjaHJvbWFfbWU9MSB0cmVsbGlzPTEgOHg4ZGN0PTEgY3FtPTAgZGVhZHpvbmU9MjEsMTEg\n",
       "ZmFzdF9wc2tpcD0xIGNocm9tYV9xcF9vZmZzZXQ9LTIgdGhyZWFkcz05IGxvb2thaGVhZF90aHJl\n",
       "YWRzPTEgc2xpY2VkX3RocmVhZHM9MCBucj0wIGRlY2ltYXRlPTEgaW50ZXJsYWNlZD0wIGJsdXJh\n",
       "eV9jb21wYXQ9MCBjb25zdHJhaW5lZF9pbnRyYT0wIGJmcmFtZXM9MyBiX3B5cmFtaWQ9MiBiX2Fk\n",
       "YXB0PTEgYl9iaWFzPTAgZGlyZWN0PTEgd2VpZ2h0Yj0xIG9wZW5fZ29wPTAgd2VpZ2h0cD0yIGtl\n",
       "eWludD0yNTAga2V5aW50X21pbj01IHNjZW5lY3V0PTQwIGludHJhX3JlZnJlc2g9MCByY19sb29r\n",
       "YWhlYWQ9NDAgcmM9Y3JmIG1idHJlZT0xIGNyZj0yMy4wIHFjb21wPTAuNjAgcXBtaW49MCBxcG1h\n",
       "eD02OSBxcHN0ZXA9NCBpcF9yYXRpbz0xLjQwIGFxPTE6MS4wMACAAAAVPmWIhAAT//73sY+BTcgA\n",
       "DZc6inof4RWx9JBRerHZoGTqAAADAAADAABOFqne+b9ctAjWAAAHvoP/Bav8QH6G+F/i16OeenmR\n",
       "Tc9kU1NHUFljgOWaIdqKMoEjQNzClv4d8e9Yg39XNTyanFDGjP4rGoKgOZbCRJVsYyXQ6OG/DefP\n",
       "7zz9xzAd1mTmHJnM7xkTNgGR8XATugSfsciuFzg1MkaFXJLhcz9A82jVFHRiUFq9evlXc75oQFqq\n",
       "f029vRUfneqQiBSZzP9MNsNPC1V7sRt3Xlr1DpH235cFlMZX1mCoC23kwxijJrZj9AN4779pZ7Vj\n",
       "SdsZRXjeYDkVuybekmMdyGCZYxHL0LzDn/ukqWWI013AtRvR81PeCvbmHd+FDHa+aUV5Fa/+pBGR\n",
       "w2Kyv95ul2+ZPtZJWPHQyU+6XKHSL9ArNXxcfkfzT5wFWgfA81gzqrgVKoFT2mRq1oiwdFe0tcg2\n",
       "2oSY0OZwwR8Rby+/Jb0zHHaCDTg/MGUQkDpgqokrBsa13XiDGGldq3jkRq6on1F4zXBsq4oTLe1M\n",
       "aufJfOEsL3+d4kCWTywRKR19YmA9APXIBnH2NJ0n8W91LmI1c5A/K2YGFAWiPhIBSJzZWk7OW8Dm\n",
       "a1AIzvmpje3Ju7zkvgv/dozWSu6glk4IY9fD1SK/NVCxQ4q/R7zlEO6ZsYyjoTNLpXwNwxgA25Hw\n",
       "S6A/3mUUtka7yPXe374fqNvAU0ReVGkvKyBhICqVf54MHO/9D334mVgXzqHowX8OD2/y8TBd7xBJ\n",
       "iySfgGNVJjoiJkhEt2dlr1g+GJ1k1+NaVvlBud+Sl4E709z17htR4TQcrN3dVzmHFzd9YjZR3XRZ\n",
       "eyoRpaSQTp8eR3RgoiM1n4uvL6KDb7GgTTfN/Z++zZaGSHLvs7XkSl9nl/f37Fd8IZm2WaNIVMBs\n",
       "09RZ0wcRnFY25eBvP2I6FuBBs+xtynbR55kdrfOxDciLf6zLgf0e0QOL1lGFj/NkjPuLGqEZaugv\n",
       "Lw1mlv0UDPTBqZy2yCI2qfcCuoXE9rve/KWeueDIog8sE/X/R3xIPvfHYZyjdT0zUlP8WetZpcOY\n",
       "hC98W3YQZH5fMS8+HZYtX2JvXywRctjLVLEtkR3cIJuk63LKHGgCjQupvfFqoX8HFHWdf6W6a2Yl\n",
       "ID6E2hEog/RPJW8zEEb0SS9za5diB3c1/h8YU85jTyLtnF3Kf7vujbHSSePBtKcIGy8luYQVEZ+l\n",
       "KSU2JicKncCvcag8rCnxdybB4pimEsHpr0jPpXB/m8baq9Wvmp2R8mTs/E0ag5btyTOfu0dfy3IM\n",
       "/g35d2VUqniQ3Mh4zegwMclJ7ZUNfSHKruzftZVJyPlBkX+AuxnOIf17sSgnkAEWMbt/V8YJjQuz\n",
       "sXrBa3+x201Jx4nyKPPWCT1BIwa2y1JNYqJZvdgOux4oiJAcp/QEnsxrEEAb//00jtUx/Svju2qc\n",
       "aEoZEV1mxFEP0KaBUxWL6lGj0taDG6sMogM9CcGTovyYaxIAOf+nqxRPJ1zSXKJ3wL9lD74Hx4xY\n",
       "vrXKDa3XJ/JdPAxEd0R78a1TPXxqCvU2P2szJ+G8j4jkPGWxzhcZtQNE3lisVbn24z9djpyKyoKR\n",
       "Q2N6y1QKYWNv2K/PXTG4cbQq6ql1ETuO3ZA0qJWOQrbhSIwdyy/MdeL+VDvcKez2wpoJTEEvmLo1\n",
       "uJheEdeY4mBj46AjG2Ua2OZ76vBUryDotd2bu8EOXl/rgj/GaDVlJEKCAR7dDbxlHadurXSYphG4\n",
       "hglqHSGXUigcIrGzbyza/ujUjbhZAMlM5kgw/qaEmRN+xihhCCWlbi7zlC1aE8Ipv4/I6Pq9vqBF\n",
       "ZxE1awl2h6YsnZMNTRX3SPVNDyH1u2eh1RgtTcFoe8WrQAv5t8Elg8QKTQKhBQx2EXsvgDr2akle\n",
       "FK5G59AGe2DyKbFwEStBWffTE7deb5sZu84YTIDge9EjyqYSjkabBxsKCUhnN4vxegEqpScpXiDO\n",
       "dCXAEo1xXgJ3h0lG09R2VLSWOn2t16c63JTyfa4RWo/jA8wxYC4Mwi1fqvyrDpBW21BCPUARoht/\n",
       "RiMrDqREGskT2gADczZmB/98PaU40oZOSvN0jrEUvRROYUsTzxssfRsnB63e9GDA+3nRd/ZrXnQd\n",
       "NDzzC5J7l9jqLDJ72DrkruHW/SstnHi7JMMpLxvtdJZNrjY4MrTApgQC+C8DfSJvKrDYmJIB0H/w\n",
       "aUlZl/y8FTn0czygQlGTNevmp7z1qgTG6as1EazKDYNRn/XNo1OP8UAulqCHIql3iu7MCIefjuH2\n",
       "xbWJODnTVmNCaLeU300wIVJUuabhy41hAOaF8eQMSCiegM+vP+cvLSPz3aBspFZSI2banMclrfbN\n",
       "G6AOHig3vHPsIeq268eFFgNRZ4QX4E497Sfo0FRzz9dOQuTxFBe4mn1Fqn3shK5bciCAm98J7wAA\n",
       "GMxmz/742+i3+OVqeKOdcRYYI4pbZ0xt7osj8v/f1m5J3or+33Jte2U4982dazaiq75dvc9DNI9E\n",
       "QXH+mf+wRxg0IADtFRy7bnJn5fZTl8uLaKg5fXYP0Clo0gbsAAP1OZrhvNQzC1MbviS4vTXh09ih\n",
       "kJPViA9Xwm4KT5GL/O2B4bH/nO3QpzlEBNFdQ6bQmIKNkDn6tgaatUI6Pqz89cmIRPkYgA/tFjYT\n",
       "HolAQ1VsDAoRmdWAYwirSJqYXz0oizecTHDr1CdLoDSCHUZYS02mYAvzEJCy0qV5G0lRjPlfT51m\n",
       "8r22BRPAf5muJfFnvA+w14LMPne57lIYT4IHH//0BupcuNiaz2QWT8dZQ9I3TrxqmlbQIMcVCqB1\n",
       "/beJs0FY8q8m4qaWT1hFUKf49MQBVNLZEDVpetyKoUxTzrGI38HVAZ5Gpj81sH/GyuTVTXorvTsn\n",
       "fTPz8DcxCjApjjqcXivqJfugz0CZ/3HTXvW744Ie+Ax422jtBUBpRSjWZr7nsquJyngbGEWp9GtK\n",
       "nrnMWxWBA5Jt+Zl7gaW9xmLlRf7dosSO8xjLL+l3X8m8WVu+LwZo3uirAos+Jj1LkAQH4MTDnA6r\n",
       "iJzaEyrkd2tZY3jEXMI/Oqf4oFGZYCTnKJh0bHwYntk3sLf+k7fsszcw7+CkY8a7cj+ejayhn1pY\n",
       "7aObZjdv6czcrYOVT2eiwi0uB7Iq8yH3yb+Hv12ZrAPEahypAAmxIrRYyrb7vP4aM33DIBqzsNtl\n",
       "nhl8POvVNxAvTCdrPPmTRjr8oOR4VRGtKqCKEbK0VJ4sn2/b5RYdQNZzDp0nQAqu8YFmpuAqbz3M\n",
       "nMXY1XX06Ad4aX9dcubNj30Lwj+HmOQcVLsOEY2mo6iYNa2ggNJAyr4VFNMTOJKIJRmsgBOOYf/G\n",
       "Ubb4DcCtk1vm/o6t16GVSXGGofMr1xv+FWIUM+W7Dpk8J/w/4MgCM5GEPjENZ6su6VOELqt1cRGn\n",
       "54N2EAHuv//6i1x6c9FE23vlYncb0O+W3WOdgjYp9vw/yQQ88ETe1SESS7/PB3vh/+M6M+l5s+Nc\n",
       "5zPsJz+mKj5EdLRqBL+Q4vWjxnQ7KPL2wwNeAqZs0aK0KE4IFACeNcT76Rcdnkm3Y+AItIPwx+cU\n",
       "35uiaTjs54u4rrS+rV5De8y4lHEH7PaXvvDjcR7SzUiusAtEqt3veqB/kNRTO1YYc4lNkExY6jAG\n",
       "eW55PIlEGGt9O/hpLa0ywiyJgzs+r9iiHesBK4oqAmITuZGoP1V/j2eNer+Otb+jMFYdOA43d+ed\n",
       "frAI5mbQYIROho3ckqkpK8E7dJRrvJtMsIeHVjD0lsknWz/RD5laO3CqPe1ogRlzIzQ+8UQ7ucWA\n",
       "AQcPMPlrq2IQkleMYq8TOSc4hvPYIuKnkjmDyBMZ8ZtvmsYEHtBxiUgi8PSTf6zrJPE/BsrtORGg\n",
       "zYX0n36pnvu5IS2OuTHk0zxmVdo1KOZmnJfMJajkbxvot4Ikz3HI4dGENzfXSHw1mSqOMToaud0W\n",
       "xrzwUs+4P4w7jakTaT0ify0y4d0hGgbKLbinSGkc8uBvymBcJ5eQrupDSH3dXFne6p4neLNepdxL\n",
       "WmlOn/9beUpYUDxmKtUivy4siD8VxHciYk2T9zpEtJ4DBE805P4F+hke5nUloHRLrxVR9qQxvs/5\n",
       "isL/u9anUiQno/7/nH/ntP+2Y4hjG7hUyM+wdvFmIqRKvVfSMRoB91C2msp5BMVnEqQUsA/Wv7ty\n",
       "0+0iEHxnuHvtSAcxQQQimTMJX+Gv8aewD3pNf6x6qOxqaXDH9QdYg560Rk9aKVpvoiSDz/aucPSh\n",
       "8CGcgAAGrM1mT7PNK7kOjml+5Egzj11AS6/h4hbGjvbJQO6Gm51k5PRWn4hoFhpdGgw771+EgN9Q\n",
       "N4pm6AClIylgf4yheffJGnPVlxfYOs2Z1zc6Ad/dbGy6AO7ZMHfI2ipwl/+KACULb31lkP7GPOIF\n",
       "/uhfNxnKqupKEyoXfmEb4X2bHGrkl8dw0Wqp7MFX5wNzudVXKrusqGcXxpRvShUKBRteX7kOlsIB\n",
       "YC4Kp4c9/xdlDaENytO4Q1dfQr8gaiX7oKlzQi5gShXQvoEOLH60wGI4GtOUjRQEw2TyI9zHh7xb\n",
       "nK4+6L2Z/PTk8WakCtVc2YBT0gQqqF0tTXaraEYBDwJh2//+P3a12xaw3eRDRU+DY0LNKgoZR96+\n",
       "Zb98ahZ0igVnAKTYiWkkSv+S4MaHnc06kXBSDvBT01RESGAjTOjyEyAVSpNH45iuohk6B2MkXmNx\n",
       "SoqMa9uWf/8/EXsCVtnplCIMp5tAOrxG06T2MIMf6d0FdiZ1qPhqpxvE4Rw0FdSYs0NgqZx1f2AN\n",
       "KiXZYFdZZmX9dATuYo5CxJO2WlUtnXfuEUZ6WnRY/IY/YdtklP8ii/3Ws0il5iOfrku0lLlAkbUA\n",
       "i0g/DG1Nc6AqZKEedWkGyJbrmf+z13ewm5YCmGQVB4d3tQMkDYGqr+p7zAeZQX55kXfUvUJHc6qi\n",
       "s4MufR3dyA8schhAAFIlEcER09D5rgvY6fr92T3LZifDApN/AaRZRQ6VTHPM0Rzs4I72+1viVWzG\n",
       "izgolNrNdk9XfBb9s2BUJAOKtjwPMGqyW9mXENIjGJ//cl6Yof+3OtZ2pc0iD9rls0ead8wUnm3l\n",
       "+Uk0PAY5SO/ds7J4RhNVueOUBxSoKcSl/wXK4gaGQ/63wiTSe6L6cVP9ZPOo+2wirq/l5UlQp1Qk\n",
       "XMtcuLV/q+xgq9pHJO+UXxy6nFXd8bqy/UJ188Iw5twxbgH7S8R9WKD5o+yos90hEGUBjnZKNEvJ\n",
       "y09ZWDWCOHjlA6fUHLKhWA6p/LENAGfKPSWIBrHv+EVBM6nie8tomEZhr9aUxz2N9IyUXmFs0sJS\n",
       "cU5nXB+gjOn2qXWORPQqRFJAj4Yv3msjln4RyDzmFNrIxvSb5vkdgLGCWKjLjwDiizFa5s/fMdU+\n",
       "Lf4KOj7oPogjyWQVHYkJH8PxSzjMcXa7XF8OzIUpKRIqvCdx1Sl1K0wnJLWg+zaZSfx60jhi6gZ+\n",
       "VdPgNLplLKfK78D9xhIwIRyAXACvFgqR1I93PtJsPFxzX9MXgRx5es+3lZ4VJeRRzNBK21nxOi+z\n",
       "OcHIbQkLQWGB95oAZF3yzso34fS5Gg/lrY4Im4FYDVZ1O9fwKyUIbkvMVPo8CWGF5z+GaTEUPlfk\n",
       "ZdgG0lDWq0idZUxpiW6GhhLCQtlI9nUFu5n8kaOWiT4BvQPWIkSkqXGpXKXtiXhl7u6PmK3Xlbr1\n",
       "8RIgpzI/Ii7r52uWW/lj0YSWkPXnzwJzG5cIsJA0YmXYChuSAyoC4pVvLfbPUqmLqofwJxvjcrV/\n",
       "zv3HP4aJ5Cxfk2yfyWWlvxrjR4lOIwQ1Y/4VTXeLyrHv5TcSKt2vA4LVkJmBW1kZnuVDTV4l8D9k\n",
       "eCO6t+k0+elOiKrRGKvRFUEuHHb4dbzDKgSY1NVU6H0r2Kh1MMzGn6fO6ce24TdBsqEZ6/RdjzOq\n",
       "7CpuSfwCe4oIKU3op6z8c0J5rz3jB0SWVCZbEpIqRXiyn0s0VLMtWZlf24QConwamjj6leHTVBjM\n",
       "LcIaENo/lNb9/aH3oIjuggTsGeU+2npQ7ed59Lb0B/lbqcY1icwrlgj4C1F3NZ2uPGdMc3Ei4UA6\n",
       "8uBHMyhdJf0JFOlMo4OWA2ITKtqioSLWvgedYVMl5R32jbOD/Yy//eWaTJ/pa0eqaF3gkqEYb1Vn\n",
       "kHonQgwBiv1tk1KOfl0HzYvczgywMX01TomPLdRxLuxg+vXkP+DHzLdvBRHT/hx/NwPDVHdfRrpw\n",
       "RgPnG+yJkeApslJfetABNmQnX2CcW4Zt2KTCg8vQbMicgT08yBtrF5727L37vTvgBigaP6xURK45\n",
       "NIXd/F+0iwfkudPFw3IMpSv7DXcsWafYAfykDaBPdVxaMsNbcOa/04T2c623cjYIjmI/uD9XJxvr\n",
       "RKoIWzmtlzY63EoryW1aQ/LKuupsjhWEBJeexks00nbLRiId8ndmlz8NYOanGal4F5NQwkIOiuB7\n",
       "7N8UABWo6yh/0wdAkvOtUns5imUMD94SE+/B6rOyWZBzZdP4auy/AAADAMiQyBSWsCDUkigz68bg\n",
       "4QLi3H8PJOqbIYCICrL20r4YC1OQ0mN5WxrjgBnoT/Nf3JoGgABOv0b4oS5YVe5sxA2FLhj1fptn\n",
       "nZpqWO7AKRD1ZAQ9xVQxPddnqxR2HSx7S7YM2JSB9yNj5D7kY5VPz7Ax/40Fz4HnYOqt4DLaJbGP\n",
       "KpvST634Gh8vZZ79flBZr3ntvWnK7TL9Lv74Av9gQuFsiSqP6/0B7z9gyhgEWCCtm3veulbgH3Su\n",
       "Lq895gAeBHc4XZLt/pXZN8KXX2tcyBFSyCr+mR6P/x97ITHNGVMrgFIh8fgiw+PdqeJxZZMZWHCR\n",
       "Z532RiFx9GGgj3vCv20V0YcFiQ3MlkMW9BJu8H0gdgIWvCmSl+v5ew1uae0CK9FHN5A4VRBtSz9x\n",
       "lmQgU8EO1td6Te0nsOl66TjIUaNtmAdYgtcnUrYNUZczmBayIIlc7IDKLeQDoDtY6CVgW7HpLEcw\n",
       "7DumujBWujugp7WR7MexRDZ29lr5ODAtJHZye2o4gG/41WFOuhyjPwJ7YCyvrq+YDH49p/67rgot\n",
       "KqMNjmgLuquMhVtV/nJKW/XsudWgtG6WQRHQnCz9jZ14vq7dIeLQAkklnVhDIlqfNlD2U7A81jxi\n",
       "WgGvoPFFtDKzLgoZ5NzOE3JprhZ5JFFhdlmhdfsKQqNOF6vf0nkfz5OqBrtWOFrn93sHEXNjGfTQ\n",
       "ye9q9uAAABSxAAAByUGaImxBT/7WjLABx3REAF95rVO5V1QstMBdSfq7bMKAiO0DMJptfB1tsJ3n\n",
       "rbCBQp1NeJy+E7o/N/Yx8pLm0BlRy9Wg7OiSjA/tg37Gh6waVJxT7LXZVZ/bXRc1HQp3l9f8EDwE\n",
       "yWiZskctTmL84P9B6VnfbJbF4/h//wvgdBJ6i9g2XQxXRejMKtvAl6UtQ+p4IR58d2gKS9YXR2up\n",
       "WrAmDfggnpLFVjChenzXFOA3auuiWOwyKWGwduYB3jMCcExMGfT8t7cJYy/vVsnjj3hJ18C8aG+l\n",
       "dhpqVzPEVdXZ3KdxwKkQfuxkGY8ejOEFSn+OzTxcsUrlA2x0fFkko2///KiGpuBV/FcFosP3gJxz\n",
       "dYBmJkNrxS6bbqSYnAp8YBi7Wkk0lciHPz5y5JJeF7EzPpSM+ZTP9dwv3k4Y0Xq3O1EguCWZCHWd\n",
       "sOudmvyO99m1tTSWPkrWHsPf1+XKiPcLiyOPnOSzPisyb/Iyrd1IxJciF8pOw6gvvZkmoQhm5CxE\n",
       "TNPXlQmPfqIHzlEOb8KDKwA/kXdFt/FuTiIYp7iiXrQVFZd8fDUYglo9joXiW0rH1xTM7aIqGpJV\n",
       "otBVUqZeUx/TsxdwGB8AAAAcAZ5BeQ//AAmrSMC7eL4RN+TPJSZ4XuTPrUAGVQAABbVBmkY8IZMp\n",
       "hBT//taMsAHHUDnXQBP+WlflIeZqZ8qFAziNrG8ZFU7nooi99EoflUKebR/5wu+9JE/ggiw4JOgD\n",
       "3vW4z+du38tFEnsrUiUSqLFWnl8fKMRL2GqOAUops31kVOzQ9qoPg3peaoOz9P0/h9xcGBM16iM9\n",
       "R1S1dNHD9vgSBXrn3UIDZXLswSRLpwNo+BTs8V1UsNrv0JV6WPjS2j5SmQQAKQT/cHup05joxPny\n",
       "5hvTtnxNQvWObDO/5KyMpIEmnVLNOwnZG7ww2Ae9Vdw/7M3+3KARI42nVBEXjxqfewbw73f7AbE8\n",
       "hvAeGGEgZgCMFkz1skXoU9HXZ3N3vgFGVEExbUnx0hbTaa/sWLIx74+8+vpKECzd/HS1yJPqpdKF\n",
       "7pj/llcmnYT2fff0VIEKBI5EKwLUUYe8qelaAyCCqQeB3GPCvzOpw8YNvtfHrFTnZ12rdBujpxMd\n",
       "A8EDF960UaFMiB0YqFf84/HuG4z7wqXiMDp1XO+v9XUtVSHFi+kwq/cp0xPKjBX6BlGScI3uhScX\n",
       "0a0S0m++W58Jm4rMQcFYMH7zGR0WjSHdZEi6WGqbzBJtCP2uByN5Mr9Ij1JhKCheKsWkCIdmLkn2\n",
       "qwR1CCvV4Ws2PJn1vcO9GX+Bx6/IGJ6yAepNiM9kGl3rK9QDV8DoiAlJkko997Tn8SO0GvZQVU43\n",
       "aSdETXF5yiUH4dgTQB7+KK58G9FTp2xQmOSLpWABHTR3LaKzTS3L4mTpazsjWTvM/gAE2aq2LONg\n",
       "posIpJkLYeXbLk0C+12OcZ5/qa9h2Ruk4YhTe9CQvtvXPnY1sql44vpLQr1TstF/XL+xSIIUpRzs\n",
       "GFAUS4GgwVcygVOSAQSQ5kadb1lF/Cu1fQbwfdtNwvgyag/slgaNlyyEOmP6arEoAJBzvUau1Yq8\n",
       "jBVJWp9US9PiTR+D6F9MLXo8/n2jLR37j1LBbSSeIJp/p2ShRR5EMqlGEG0VOgJksjsa00EqJsow\n",
       "d7PpZ8h/AMUwyaZNJKx6e4mO2gyDPNtwLP+Jsz0kH6ogQL6pZJJmIiFSGGyDthTYVa1R5zycq8YH\n",
       "vyeGYhJrYH44nEHyxwuW2SbILhPlAcQSKXBHEE57lINGQzbu+h+EjHLv97EfTvV+MamI4QKgg1A+\n",
       "JV+YwRr963nGNF32k5pHd63SqPEao967RzElj11gaWdkoXiNmyiy8pGyb7t+dbMyBaIJoF0EHVVF\n",
       "5vpODe/i/LmTnaY1vC2jcsVi7Er6dbw/fVIY8bZent8M1sCHa+StRx2YJem40U/JdDSPp6JOx5Ss\n",
       "9JDoHz7wyqJJSt5RwEeYdxkFt2/LmHi90KNHdockFWjoJWnlqbDRyunGb3XsK8JhO9sPrNX35UBj\n",
       "6NEgxFW8TOVKL8f1Y10UQUT3rK+h0zh5Qwn+6+dJPtdCypFGyU3C5gpEP3qtZhdRw0K6hyQPRJWb\n",
       "VjTvU+EZfxYGEcgVjU+/D9PnN3tGzImQJgt6vxwPL2C3psNImXhTaoARRhslkN9n36epACyUVjaS\n",
       "sD+aUZyPlLG5nodZcHRHTkAUJsCqR+TCAkL1806GTCCuxctkHf1hnUHiEGB61mF9wfkNAyJ+H4uu\n",
       "JlzW7VMg/kYgGmFVzPjudQKgINuHtWZcumPCVfpnP570HGWLKLDdCvhh0AqFA+G0PKHVhjwT6Tp1\n",
       "pl/dttQ1K7mzg2LF3RDVHUK1ly8HI/XNLfwYMceLc5O2hJn8oN+9nJfgnHjrsE+6TrUbaWffMYeV\n",
       "X+iW5lAYIAIkystqY2iS9/Jo6PidZLTP36IVmSpWU8dJMlJZrrSMLDpdzhtixozDpVDVJna2bmDR\n",
       "DUSuFgYyNYbu2jjaW4jAqabL5oDQ3oOrWcmnvEe/CWJEneO140r5n8WxHxZ+tt43FMcj0zkpAkM3\n",
       "FEVhK09bYYQ++dNB3Xs8qDs2l7kQF6ULsjJHBgQAAAA7QZ5kalPBDwADc0OmTy3mnMfdzahseaNz\n",
       "Ywl1u6hgadgmrPL94YACVh8oM3WII3H1+Vzp/hP7HtAAFBEAAACgAZ6DdEP/AAeWvZjPQpUQ2RHs\n",
       "tRwyak4Z9s1yPtjQ736ACEohCgYGnHVwpTNRAdlYL9zu2V3QoOU2X/VbRmuE+SErvpQW9RqgxKgZ\n",
       "G+rij5V2UvdG5E6atkOae8SPjNMy2KjCZ6RAGhd/SS1YGefLcn41z7Hf0wdGRF3ImLmVtrxMnirE\n",
       "f21mCDuNNkvcn292rVGdPQ31gpqi0L2AEACXgQAAABoBnoVqQ/8AAAMC1o+agr/DyZHeAvfwE7MB\n",
       "gQAAAVRBmopJqEFomUwIKf/+1oywAF3Az4Jtr1u5O5joxW9gAUHAs+rCmIBgSTHkqu8ew/A2y8bp\n",
       "Hhtco3LDDh/BYl4t3mmjGRvUrDmuWz3UANvC3RwoM55nHbJdJXwLoyMHK2otbwiakZAqMy8Jn95e\n",
       "RzQjQD4eC1hyWXemCbi9Xoz5qIYdZDWeqsbpFu8/A3Ie86my30zNwb/e70bYmcKSnmFH4PjCeUEZ\n",
       "Zf/q90yxydYmD3zKoTfTRqJnXmT8A6oyELYb0Co2r4w2R8pDuHE1w0vQP2tjjN/y0Sswk2y6yTn0\n",
       "pEhd76jRZ/cicoz/5bFFPO//zf7xU0H6tiJfsCRoyhd2IQLeTr3mkgc0geiswiKTHfMHluPSyC55\n",
       "yYw4EOA2NrV4UGJQ3B6tKxh+lIWQwbnJt0R9tNcq4hcUQa0tnpLf9Qqb7E78IzayuWXPVQJ+QnaO\n",
       "mK7hAAAAH0GeqEURLBD/AALEWmh3NTO3SomUnktkfSyyaUQgKCAAAAAsAZ7HdEP/AAAHl1ygd/yK\n",
       "ADVuv4E8iHpd9pRc+5j0age0QNjaJ8bMurYhAUEAAAAQAZ7JakP/AAADASWDZvwBXwAAACFBms5J\n",
       "qEFsmUwIKf/+1oywAAAbKzPlX+VgAKgA58AAmYAAAAAUQZ7sRRUsEP8AAsRaaHZ2oCBABZwAAAAQ\n",
       "AZ8LdEP/AAADASVcp2AB7QAAAA8Bnw1qQ/8AAAMAAAMAh4EAAAAXQZsSSahBbJlMCCn//taMsAAA\n",
       "AwAADLkAAAASQZ8wRRUsEP8AAsRaaHYAADegAAAADwGfT3RD/wAAAwAAAwCHgAAAAA8Bn1FqQ/8A\n",
       "AAMAAAMAh4EAAAAXQZtWSahBbJlMCCn//taMsAAAAwAADLgAAAASQZ90RRUsEP8AAsRaaHYAADeg\n",
       "AAAADwGfk3RD/wAAAwAAAwCHgQAAAA8Bn5VqQ/8AAAMAAAMAh4AAAAAXQZuaSahBbJlMCCn//taM\n",
       "sAAAAwAADLkAAAASQZ+4RRUsEP8AAsRaaHYAADehAAAADwGf13RD/wAAAwAAAwCHgAAAAA8Bn9lq\n",
       "Q/8AAAMAAAMAh4EAAAAXQZveSahBbJlMCCn//taMsAAAAwAADLgAAAASQZ/8RRUsEP8AAsRaaHYA\n",
       "ADehAAAADwGeG3RD/wAAAwAAAwCHgQAAAA8Bnh1qQ/8AAAMAAAMAh4AAAAAXQZoCSahBbJlMCCn/\n",
       "/taMsAAAAwAADLgAAAASQZ4gRRUsEP8AAsRaaHYAADehAAAADwGeX3RD/wAAAwAAAwCHgAAAAA8B\n",
       "nkFqQ/8AAAMAAAMAh4EAAAAXQZpGSahBbJlMCCn//taMsAAAAwAADLgAAAASQZ5kRRUsEP8AAsRa\n",
       "aHYAADehAAAADwGeg3RD/wAAAwAAAwCHgQAAAA8BnoVqQ/8AAAMAAAMAh4EAAAAXQZqKSahBbJlM\n",
       "CCn//taMsAAAAwAADLkAAAASQZ6oRRUsEP8AAsRaaHYAADegAAAADwGex3RD/wAAAwAAAwCHgAAA\n",
       "AA8BnslqQ/8AAAMAAAMAh4EAAAAXQZrOSahBbJlMCCn//taMsAAAAwAADLgAAAASQZ7sRRUsEP8A\n",
       "AsRaaHYAADegAAAADwGfC3RD/wAAAwAAAwCHgQAAAA8Bnw1qQ/8AAAMAAAMAh4EAAAAXQZsSSahB\n",
       "bJlMCCn//taMsAAAAwAADLkAAAASQZ8wRRUsEP8AAsRaaHYAADegAAAADwGfT3RD/wAAAwAAAwCH\n",
       "gAAAAA8Bn1FqQ/8AAAMAAAMAh4EAAAAXQZtWSahBbJlMCCn//taMsAAAAwAADLgAAAASQZ90RRUs\n",
       "EP8AAsRaaHYAADegAAAADwGfk3RD/wAAAwAAAwCHgQAAAA8Bn5VqQ/8AAAMAAAMAh4AAAAAXQZua\n",
       "SahBbJlMCCn//taMsAAAAwAADLkAAAASQZ+4RRUsEP8AAsRaaHYAADehAAAADwGf13RD/wAAAwAA\n",
       "AwCHgAAAAA8Bn9lqQ/8AAAMAAAMAh4EAAAAXQZveSahBbJlMCCn//taMsAAAAwAADLgAAAASQZ/8\n",
       "RRUsEP8AAsRaaHYAADehAAAADwGeG3RD/wAAAwAAAwCHgQAAAA8Bnh1qQ/8AAAMAAAMAh4AAAAAh\n",
       "QZoCSahBbJlMCCn//taMsAAjDjrAAtjUpoABBXpmDkFMAAAAEkGeIEUVLBD/AALEWmh2AAA3oQAA\n",
       "AA8Bnl90Q/8AAAMAAAMAh4AAAAAPAZ5BakP/AAADAAADAIeBAAAAQEGaRkmoQWyZTAgp//7WjLAB\n",
       "vNxTEE6Wb18mfKY+n1+8SYDrpE/RxGfNb1l/+/1xHtX+bLrlGlgJYXgZ0QdQMWAAAAASQZ5kRRUs\n",
       "EP8AAsRaaHYAADehAAAADwGeg3RD/wAAAwAAAwCHgQAAAA8BnoVqQ/8AAAMAAAMAh4EAAAAoQZqK\n",
       "SahBbJlMCCn//taMsAAjDjrAAtjUrQ+pLJX5h3wKXXrVgiNfXwAAABJBnqhFFSwQ/wACxFpodgAA\n",
       "N6AAAAAPAZ7HdEP/AAADAAADAIeAAAAADwGeyWpD/wAAAwAAAwCHgQAAACxBms5JqEFsmUwIKf/+\n",
       "1oywAOlBEQACnsKi94ukixyspaomo8F8ZMh2CY4jfAAAABJBnuxFFSwQ/wACxFpodgAAN6AAAAAP\n",
       "AZ8LdEP/AAADAAADAIeBAAAADwGfDWpD/wAAAwAAAwCHgQAAADFBmxJJqEFsmUwIJ//+tSqABsto\n",
       "+AEqGxh2LLkx9L5+t0wMzgJ+qnvSjIKy7qAQ9Z/1AAAAEkGfMEUVLBD/AALEWmh2AAA3oAAAAA8B\n",
       "n090Q/8AAAMAAAMAh4AAAAAPAZ9RakP/AAADAAADAIeBAAAAHUGbVkmoQWyZTAgn//61KoAAiDgt\n",
       "wA5u+YAAADKgAAAAEkGfdEUVLBD/AALEWmh2AAA3oAAAAA8Bn5N0Q/8AAAMAAAMAh4EAAAAPAZ+V\n",
       "akP/AAADAAADAIeAAAAAF0GbmkmoQWyZTAgn//61KoAAAAMAADGhAAAAEkGfuEUVLBD/AALEWmh2\n",
       "AAA3oQAAAA8Bn9d0Q/8AAAMAAAMAh4AAAAAPAZ/ZakP/AAADAAADAIeBAAAAF0Gb3kmoQWyZTAgn\n",
       "//61KoAAAAMAADGgAAAAEkGf/EUVLBD/AALEWmh2AAA3oQAAAA8Bnht0Q/8AAAMAAAMAh4EAAAAP\n",
       "AZ4dakP/AAADAAADAIeAAAAAIkGaAkmoQWyZTAgj//61KoAGy1q9APEcKttpSO7qosAAAYsAAAAS\n",
       "QZ4gRRUsEP8AAsRaaHYAADehAAAADwGeX3RD/wAAAwAAAwCHgAAAAA8BnkFqQ/8AAAMAAAMAh4EA\n",
       "AAAYQZpESahBbJlMFEw///6plgAAAwAAAwGDAAAAEAGeY2pD/wAGIDLOwAAAvYEAAAfvbW9vdgAA\n",
       "AGxtdmhkAAAAAAAAAAAAAAAAAAAD6AAATugAAQAAAQAAAAAAAAAAAAAAAAEAAAAAAAAAAAAAAAAA\n",
       "AAABAAAAAAAAAAAAAAAAAABAAAAAAAAAAAAAAAAAAAAAAAAAAAAAAAAAAAAAAAAAAgAABxl0cmFr\n",
       "AAAAXHRraGQAAAADAAAAAAAAAAAAAAABAAAAAAAATugAAAAAAAAAAAAAAAAAAAAAAAEAAAAAAAAA\n",
       "AAAAAAAAAAABAAAAAAAAAAAAAAAAAABAAAAAAkAAAAGMAAAAAAAkZWR0cwAAABxlbHN0AAAAAAAA\n",
       "AAEAAE7oAAAQAAABAAAAAAaRbWRpYQAAACBtZGhkAAAAAAAAAAAAAAAAAAAoAAADKABVxAAAAAAA\n",
       "LWhkbHIAAAAAAAAAAHZpZGUAAAAAAAAAAAAAAABWaWRlb0hhbmRsZXIAAAAGPG1pbmYAAAAUdm1o\n",
       "ZAAAAAEAAAAAAAAAAAAAACRkaW5mAAAAHGRyZWYAAAAAAAAAAQAAAAx1cmwgAAAAAQAABfxzdGJs\n",
       "AAAAuHN0c2QAAAAAAAAAAQAAAKhhdmMxAAAAAAAAAAEAAAAAAAAAAAAAAAAAAAAAAkABjABIAAAA\n",
       "SAAAAAAAAAABAAAAAAAAAAAAAAAAAAAAAAAAAAAAAAAAAAAAAAAAAAAAGP//AAAANmF2Y0MBZAAW\n",
       "/+EAGWdkABas2UCQM/uEAAADAAQAAAMAKDxYtlgBAAZo6+PLIsD9+PgAAAAAHHV1aWRraEDyXyRP\n",
       "xbo5pRvPAyPzAAAAAAAAABhzdHRzAAAAAAAAAAEAAABlAAAIAAAAABRzdHNzAAAAAAAAAAEAAAAB\n",
       "AAADOGN0dHMAAAAAAAAAZQAAAAEAABAAAAAAAQAAGAAAAAABAAAIAAAAAAEAACgAAAAAAQAAEAAA\n",
       "AAABAAAAAAAAAAEAAAgAAAAAAQAAKAAAAAABAAAQAAAAAAEAAAAAAAAAAQAACAAAAAABAAAoAAAA\n",
       "AAEAABAAAAAAAQAAAAAAAAABAAAIAAAAAAEAACgAAAAAAQAAEAAAAAABAAAAAAAAAAEAAAgAAAAA\n",
       "AQAAKAAAAAABAAAQAAAAAAEAAAAAAAAAAQAACAAAAAABAAAoAAAAAAEAABAAAAAAAQAAAAAAAAAB\n",
       "AAAIAAAAAAEAACgAAAAAAQAAEAAAAAABAAAAAAAAAAEAAAgAAAAAAQAAKAAAAAABAAAQAAAAAAEA\n",
       "AAAAAAAAAQAACAAAAAABAAAoAAAAAAEAABAAAAAAAQAAAAAAAAABAAAIAAAAAAEAACgAAAAAAQAA\n",
       "EAAAAAABAAAAAAAAAAEAAAgAAAAAAQAAKAAAAAABAAAQAAAAAAEAAAAAAAAAAQAACAAAAAABAAAo\n",
       "AAAAAAEAABAAAAAAAQAAAAAAAAABAAAIAAAAAAEAACgAAAAAAQAAEAAAAAABAAAAAAAAAAEAAAgA\n",
       "AAAAAQAAKAAAAAABAAAQAAAAAAEAAAAAAAAAAQAACAAAAAABAAAoAAAAAAEAABAAAAAAAQAAAAAA\n",
       "AAABAAAIAAAAAAEAACgAAAAAAQAAEAAAAAABAAAAAAAAAAEAAAgAAAAAAQAAKAAAAAABAAAQAAAA\n",
       "AAEAAAAAAAAAAQAACAAAAAABAAAoAAAAAAEAABAAAAAAAQAAAAAAAAABAAAIAAAAAAEAACgAAAAA\n",
       "AQAAEAAAAAABAAAAAAAAAAEAAAgAAAAAAQAAKAAAAAABAAAQAAAAAAEAAAAAAAAAAQAACAAAAAAB\n",
       "AAAoAAAAAAEAABAAAAAAAQAAAAAAAAABAAAIAAAAAAEAACgAAAAAAQAAEAAAAAABAAAAAAAAAAEA\n",
       "AAgAAAAAAQAAKAAAAAABAAAQAAAAAAEAAAAAAAAAAQAACAAAAAABAAAoAAAAAAEAABAAAAAAAQAA\n",
       "AAAAAAABAAAIAAAAAAEAABgAAAAAAQAACAAAAAAcc3RzYwAAAAAAAAABAAAAAQAAAGUAAAABAAAB\n",
       "qHN0c3oAAAAAAAAAAAAAAGUAABflAAABzQAAACAAAAW5AAAAPwAAAKQAAAAeAAABWAAAACMAAAAw\n",
       "AAAAFAAAACUAAAAYAAAAFAAAABMAAAAbAAAAFgAAABMAAAATAAAAGwAAABYAAAATAAAAEwAAABsA\n",
       "AAAWAAAAEwAAABMAAAAbAAAAFgAAABMAAAATAAAAGwAAABYAAAATAAAAEwAAABsAAAAWAAAAEwAA\n",
       "ABMAAAAbAAAAFgAAABMAAAATAAAAGwAAABYAAAATAAAAEwAAABsAAAAWAAAAEwAAABMAAAAbAAAA\n",
       "FgAAABMAAAATAAAAGwAAABYAAAATAAAAEwAAABsAAAAWAAAAEwAAABMAAAAlAAAAFgAAABMAAAAT\n",
       "AAAARAAAABYAAAATAAAAEwAAACwAAAAWAAAAEwAAABMAAAAwAAAAFgAAABMAAAATAAAANQAAABYA\n",
       "AAATAAAAEwAAACEAAAAWAAAAEwAAABMAAAAbAAAAFgAAABMAAAATAAAAGwAAABYAAAATAAAAEwAA\n",
       "ACYAAAAWAAAAEwAAABMAAAAcAAAAFAAAABRzdGNvAAAAAAAAAAEAAAAwAAAAYnVkdGEAAABabWV0\n",
       "YQAAAAAAAAAhaGRscgAAAAAAAAAAbWRpcmFwcGwAAAAAAAAAAAAAAAAtaWxzdAAAACWpdG9vAAAA\n",
       "HWRhdGEAAAABAAAAAExhdmY1OC40NS4xMDA=\n",
       "\">\n",
       "  Your browser does not support the video tag.\n",
       "</video>"
      ],
      "text/plain": [
       "<matplotlib.animation.FuncAnimation at 0x2a7617b1608>"
      ]
     },
     "execution_count": 795,
     "metadata": {},
     "output_type": "execute_result"
    }
   ],
   "source": [
    "anim"
   ]
  },
  {
   "cell_type": "code",
   "execution_count": 506,
   "id": "1b8e7f21-b4b1-46ed-b2f3-55245e1a20b3",
   "metadata": {},
   "outputs": [],
   "source": [
    "#anim.save('videos/May_23.mp4',fps=100)"
   ]
  },
  {
   "cell_type": "code",
   "execution_count": null,
   "id": "110ca2e8-bb0f-4cbf-aee4-c51c430e21a3",
   "metadata": {},
   "outputs": [
    {
     "data": {
      "text/plain": [
       "(100, 6)"
      ]
     },
     "execution_count": 798,
     "metadata": {},
     "output_type": "execute_result"
    }
   ],
   "source": [
    "u_trj_opt.shape"
   ]
  },
  {
   "cell_type": "code",
   "execution_count": 801,
   "id": "437f56c4-6f19-473d-9d27-78777d9c6a9a",
   "metadata": {},
   "outputs": [
    {
     "data": {
      "text/plain": [
       "20"
      ]
     },
     "execution_count": 801,
     "metadata": {},
     "output_type": "execute_result"
    }
   ],
   "source": [
    "total_horizon"
   ]
  },
  {
   "cell_type": "code",
   "execution_count": 800,
   "id": "c496d412-d08d-4ecd-a3ca-409cb1f516ce",
   "metadata": {},
   "outputs": [
    {
     "ename": "ValueError",
     "evalue": "All arrays must be of the same length",
     "output_type": "error",
     "traceback": [
      "\u001b[1;31m---------------------------------------------------------------------------\u001b[0m",
      "\u001b[1;31mValueError\u001b[0m                                Traceback (most recent call last)",
      "\u001b[1;32m~\\AppData\\Local\\Temp/ipykernel_6708/1013237183.py\u001b[0m in \u001b[0;36m<module>\u001b[1;34m\u001b[0m\n\u001b[0;32m      1\u001b[0m \u001b[0mhorizon\u001b[0m \u001b[1;33m=\u001b[0m \u001b[0mnp\u001b[0m\u001b[1;33m.\u001b[0m\u001b[0marange\u001b[0m\u001b[1;33m(\u001b[0m\u001b[1;36m1\u001b[0m\u001b[1;33m,\u001b[0m\u001b[0mtotal_horizon\u001b[0m\u001b[1;33m-\u001b[0m\u001b[1;36m5\u001b[0m\u001b[1;33m,\u001b[0m\u001b[1;36m1\u001b[0m\u001b[1;33m)\u001b[0m\u001b[1;33m\u001b[0m\u001b[1;33m\u001b[0m\u001b[0m\n\u001b[0;32m      2\u001b[0m \u001b[0mplt\u001b[0m\u001b[1;33m.\u001b[0m\u001b[0mfigure\u001b[0m\u001b[1;33m(\u001b[0m\u001b[0mfigsize\u001b[0m\u001b[1;33m=\u001b[0m\u001b[1;33m(\u001b[0m\u001b[1;36m10\u001b[0m\u001b[1;33m,\u001b[0m\u001b[1;36m8\u001b[0m\u001b[1;33m)\u001b[0m\u001b[1;33m)\u001b[0m\u001b[1;33m\u001b[0m\u001b[1;33m\u001b[0m\u001b[0m\n\u001b[1;32m----> 3\u001b[1;33m \u001b[0msns\u001b[0m\u001b[1;33m.\u001b[0m\u001b[0mscatterplot\u001b[0m\u001b[1;33m(\u001b[0m\u001b[0mx\u001b[0m\u001b[1;33m=\u001b[0m\u001b[0mhorizon\u001b[0m\u001b[1;33m,\u001b[0m\u001b[0my\u001b[0m\u001b[1;33m=\u001b[0m\u001b[0mu_trj_opt\u001b[0m\u001b[1;33m[\u001b[0m\u001b[1;33m:\u001b[0m\u001b[1;33m,\u001b[0m\u001b[1;36m0\u001b[0m\u001b[1;33m]\u001b[0m\u001b[1;33m,\u001b[0m\u001b[0mlabel\u001b[0m\u001b[1;33m=\u001b[0m\u001b[1;34m'$\\omega$ for agent1 [rad/s]'\u001b[0m\u001b[1;33m)\u001b[0m\u001b[1;33m;\u001b[0m\u001b[1;33m\u001b[0m\u001b[1;33m\u001b[0m\u001b[0m\n\u001b[0m\u001b[0;32m      4\u001b[0m \u001b[0msns\u001b[0m\u001b[1;33m.\u001b[0m\u001b[0mscatterplot\u001b[0m\u001b[1;33m(\u001b[0m\u001b[0mx\u001b[0m\u001b[1;33m=\u001b[0m\u001b[0mhorizon\u001b[0m\u001b[1;33m,\u001b[0m\u001b[0my\u001b[0m\u001b[1;33m=\u001b[0m\u001b[0mu_trj_opt\u001b[0m\u001b[1;33m[\u001b[0m\u001b[1;33m:\u001b[0m\u001b[1;33m,\u001b[0m\u001b[1;36m1\u001b[0m\u001b[1;33m]\u001b[0m\u001b[1;33m,\u001b[0m\u001b[0mlabel\u001b[0m\u001b[1;33m=\u001b[0m\u001b[1;34m'acceleration for agent1[m/s]'\u001b[0m\u001b[1;33m)\u001b[0m\u001b[1;33m;\u001b[0m\u001b[1;33m\u001b[0m\u001b[1;33m\u001b[0m\u001b[0m\n\u001b[0;32m      5\u001b[0m \u001b[1;33m\u001b[0m\u001b[0m\n",
      "\u001b[1;32mD:\\Softwares\\Anaconda\\lib\\site-packages\\seaborn\\_decorators.py\u001b[0m in \u001b[0;36minner_f\u001b[1;34m(*args, **kwargs)\u001b[0m\n\u001b[0;32m     44\u001b[0m             )\n\u001b[0;32m     45\u001b[0m         \u001b[0mkwargs\u001b[0m\u001b[1;33m.\u001b[0m\u001b[0mupdate\u001b[0m\u001b[1;33m(\u001b[0m\u001b[1;33m{\u001b[0m\u001b[0mk\u001b[0m\u001b[1;33m:\u001b[0m \u001b[0marg\u001b[0m \u001b[1;32mfor\u001b[0m \u001b[0mk\u001b[0m\u001b[1;33m,\u001b[0m \u001b[0marg\u001b[0m \u001b[1;32min\u001b[0m \u001b[0mzip\u001b[0m\u001b[1;33m(\u001b[0m\u001b[0msig\u001b[0m\u001b[1;33m.\u001b[0m\u001b[0mparameters\u001b[0m\u001b[1;33m,\u001b[0m \u001b[0margs\u001b[0m\u001b[1;33m)\u001b[0m\u001b[1;33m}\u001b[0m\u001b[1;33m)\u001b[0m\u001b[1;33m\u001b[0m\u001b[1;33m\u001b[0m\u001b[0m\n\u001b[1;32m---> 46\u001b[1;33m         \u001b[1;32mreturn\u001b[0m \u001b[0mf\u001b[0m\u001b[1;33m(\u001b[0m\u001b[1;33m**\u001b[0m\u001b[0mkwargs\u001b[0m\u001b[1;33m)\u001b[0m\u001b[1;33m\u001b[0m\u001b[1;33m\u001b[0m\u001b[0m\n\u001b[0m\u001b[0;32m     47\u001b[0m     \u001b[1;32mreturn\u001b[0m \u001b[0minner_f\u001b[0m\u001b[1;33m\u001b[0m\u001b[1;33m\u001b[0m\u001b[0m\n\u001b[0;32m     48\u001b[0m \u001b[1;33m\u001b[0m\u001b[0m\n",
      "\u001b[1;32mD:\\Softwares\\Anaconda\\lib\\site-packages\\seaborn\\relational.py\u001b[0m in \u001b[0;36mscatterplot\u001b[1;34m(x, y, hue, style, size, data, palette, hue_order, hue_norm, sizes, size_order, size_norm, markers, style_order, x_bins, y_bins, units, estimator, ci, n_boot, alpha, x_jitter, y_jitter, legend, ax, **kwargs)\u001b[0m\n\u001b[0;32m    810\u001b[0m         \u001b[0mx_bins\u001b[0m\u001b[1;33m=\u001b[0m\u001b[0mx_bins\u001b[0m\u001b[1;33m,\u001b[0m \u001b[0my_bins\u001b[0m\u001b[1;33m=\u001b[0m\u001b[0my_bins\u001b[0m\u001b[1;33m,\u001b[0m\u001b[1;33m\u001b[0m\u001b[1;33m\u001b[0m\u001b[0m\n\u001b[0;32m    811\u001b[0m         \u001b[0mestimator\u001b[0m\u001b[1;33m=\u001b[0m\u001b[0mestimator\u001b[0m\u001b[1;33m,\u001b[0m \u001b[0mci\u001b[0m\u001b[1;33m=\u001b[0m\u001b[0mci\u001b[0m\u001b[1;33m,\u001b[0m \u001b[0mn_boot\u001b[0m\u001b[1;33m=\u001b[0m\u001b[0mn_boot\u001b[0m\u001b[1;33m,\u001b[0m\u001b[1;33m\u001b[0m\u001b[1;33m\u001b[0m\u001b[0m\n\u001b[1;32m--> 812\u001b[1;33m         \u001b[0malpha\u001b[0m\u001b[1;33m=\u001b[0m\u001b[0malpha\u001b[0m\u001b[1;33m,\u001b[0m \u001b[0mx_jitter\u001b[0m\u001b[1;33m=\u001b[0m\u001b[0mx_jitter\u001b[0m\u001b[1;33m,\u001b[0m \u001b[0my_jitter\u001b[0m\u001b[1;33m=\u001b[0m\u001b[0my_jitter\u001b[0m\u001b[1;33m,\u001b[0m \u001b[0mlegend\u001b[0m\u001b[1;33m=\u001b[0m\u001b[0mlegend\u001b[0m\u001b[1;33m,\u001b[0m\u001b[1;33m\u001b[0m\u001b[1;33m\u001b[0m\u001b[0m\n\u001b[0m\u001b[0;32m    813\u001b[0m     )\n\u001b[0;32m    814\u001b[0m \u001b[1;33m\u001b[0m\u001b[0m\n",
      "\u001b[1;32mD:\\Softwares\\Anaconda\\lib\\site-packages\\seaborn\\relational.py\u001b[0m in \u001b[0;36m__init__\u001b[1;34m(self, data, variables, x_bins, y_bins, estimator, ci, n_boot, alpha, x_jitter, y_jitter, legend)\u001b[0m\n\u001b[0;32m    585\u001b[0m         )\n\u001b[0;32m    586\u001b[0m \u001b[1;33m\u001b[0m\u001b[0m\n\u001b[1;32m--> 587\u001b[1;33m         \u001b[0msuper\u001b[0m\u001b[1;33m(\u001b[0m\u001b[1;33m)\u001b[0m\u001b[1;33m.\u001b[0m\u001b[0m__init__\u001b[0m\u001b[1;33m(\u001b[0m\u001b[0mdata\u001b[0m\u001b[1;33m=\u001b[0m\u001b[0mdata\u001b[0m\u001b[1;33m,\u001b[0m \u001b[0mvariables\u001b[0m\u001b[1;33m=\u001b[0m\u001b[0mvariables\u001b[0m\u001b[1;33m)\u001b[0m\u001b[1;33m\u001b[0m\u001b[1;33m\u001b[0m\u001b[0m\n\u001b[0m\u001b[0;32m    588\u001b[0m \u001b[1;33m\u001b[0m\u001b[0m\n\u001b[0;32m    589\u001b[0m         \u001b[0mself\u001b[0m\u001b[1;33m.\u001b[0m\u001b[0malpha\u001b[0m \u001b[1;33m=\u001b[0m \u001b[0malpha\u001b[0m\u001b[1;33m\u001b[0m\u001b[1;33m\u001b[0m\u001b[0m\n",
      "\u001b[1;32mD:\\Softwares\\Anaconda\\lib\\site-packages\\seaborn\\_core.py\u001b[0m in \u001b[0;36m__init__\u001b[1;34m(self, data, variables)\u001b[0m\n\u001b[0;32m    603\u001b[0m     \u001b[1;32mdef\u001b[0m \u001b[0m__init__\u001b[0m\u001b[1;33m(\u001b[0m\u001b[0mself\u001b[0m\u001b[1;33m,\u001b[0m \u001b[0mdata\u001b[0m\u001b[1;33m=\u001b[0m\u001b[1;32mNone\u001b[0m\u001b[1;33m,\u001b[0m \u001b[0mvariables\u001b[0m\u001b[1;33m=\u001b[0m\u001b[1;33m{\u001b[0m\u001b[1;33m}\u001b[0m\u001b[1;33m)\u001b[0m\u001b[1;33m:\u001b[0m\u001b[1;33m\u001b[0m\u001b[1;33m\u001b[0m\u001b[0m\n\u001b[0;32m    604\u001b[0m \u001b[1;33m\u001b[0m\u001b[0m\n\u001b[1;32m--> 605\u001b[1;33m         \u001b[0mself\u001b[0m\u001b[1;33m.\u001b[0m\u001b[0massign_variables\u001b[0m\u001b[1;33m(\u001b[0m\u001b[0mdata\u001b[0m\u001b[1;33m,\u001b[0m \u001b[0mvariables\u001b[0m\u001b[1;33m)\u001b[0m\u001b[1;33m\u001b[0m\u001b[1;33m\u001b[0m\u001b[0m\n\u001b[0m\u001b[0;32m    606\u001b[0m \u001b[1;33m\u001b[0m\u001b[0m\n\u001b[0;32m    607\u001b[0m         \u001b[1;32mfor\u001b[0m \u001b[0mvar\u001b[0m\u001b[1;33m,\u001b[0m \u001b[0mcls\u001b[0m \u001b[1;32min\u001b[0m \u001b[0mself\u001b[0m\u001b[1;33m.\u001b[0m\u001b[0m_semantic_mappings\u001b[0m\u001b[1;33m.\u001b[0m\u001b[0mitems\u001b[0m\u001b[1;33m(\u001b[0m\u001b[1;33m)\u001b[0m\u001b[1;33m:\u001b[0m\u001b[1;33m\u001b[0m\u001b[1;33m\u001b[0m\u001b[0m\n",
      "\u001b[1;32mD:\\Softwares\\Anaconda\\lib\\site-packages\\seaborn\\_core.py\u001b[0m in \u001b[0;36massign_variables\u001b[1;34m(self, data, variables)\u001b[0m\n\u001b[0;32m    667\u001b[0m             \u001b[0mself\u001b[0m\u001b[1;33m.\u001b[0m\u001b[0minput_format\u001b[0m \u001b[1;33m=\u001b[0m \u001b[1;34m\"long\"\u001b[0m\u001b[1;33m\u001b[0m\u001b[1;33m\u001b[0m\u001b[0m\n\u001b[0;32m    668\u001b[0m             plot_data, variables = self._assign_variables_longform(\n\u001b[1;32m--> 669\u001b[1;33m                 \u001b[0mdata\u001b[0m\u001b[1;33m,\u001b[0m \u001b[1;33m**\u001b[0m\u001b[0mvariables\u001b[0m\u001b[1;33m,\u001b[0m\u001b[1;33m\u001b[0m\u001b[1;33m\u001b[0m\u001b[0m\n\u001b[0m\u001b[0;32m    670\u001b[0m             )\n\u001b[0;32m    671\u001b[0m \u001b[1;33m\u001b[0m\u001b[0m\n",
      "\u001b[1;32mD:\\Softwares\\Anaconda\\lib\\site-packages\\seaborn\\_core.py\u001b[0m in \u001b[0;36m_assign_variables_longform\u001b[1;34m(self, data, **kwargs)\u001b[0m\n\u001b[0;32m    925\u001b[0m         \u001b[1;31m# Construct a tidy plot DataFrame. This will convert a number of\u001b[0m\u001b[1;33m\u001b[0m\u001b[1;33m\u001b[0m\u001b[1;33m\u001b[0m\u001b[0m\n\u001b[0;32m    926\u001b[0m         \u001b[1;31m# types automatically, aligning on index in case of pandas objects\u001b[0m\u001b[1;33m\u001b[0m\u001b[1;33m\u001b[0m\u001b[1;33m\u001b[0m\u001b[0m\n\u001b[1;32m--> 927\u001b[1;33m         \u001b[0mplot_data\u001b[0m \u001b[1;33m=\u001b[0m \u001b[0mpd\u001b[0m\u001b[1;33m.\u001b[0m\u001b[0mDataFrame\u001b[0m\u001b[1;33m(\u001b[0m\u001b[0mplot_data\u001b[0m\u001b[1;33m)\u001b[0m\u001b[1;33m\u001b[0m\u001b[1;33m\u001b[0m\u001b[0m\n\u001b[0m\u001b[0;32m    928\u001b[0m \u001b[1;33m\u001b[0m\u001b[0m\n\u001b[0;32m    929\u001b[0m         \u001b[1;31m# Reduce the variables dictionary to fields with valid data\u001b[0m\u001b[1;33m\u001b[0m\u001b[1;33m\u001b[0m\u001b[1;33m\u001b[0m\u001b[0m\n",
      "\u001b[1;32mD:\\Softwares\\Anaconda\\lib\\site-packages\\pandas\\core\\frame.py\u001b[0m in \u001b[0;36m__init__\u001b[1;34m(self, data, index, columns, dtype, copy)\u001b[0m\n\u001b[0;32m    612\u001b[0m         \u001b[1;32melif\u001b[0m \u001b[0misinstance\u001b[0m\u001b[1;33m(\u001b[0m\u001b[0mdata\u001b[0m\u001b[1;33m,\u001b[0m \u001b[0mdict\u001b[0m\u001b[1;33m)\u001b[0m\u001b[1;33m:\u001b[0m\u001b[1;33m\u001b[0m\u001b[1;33m\u001b[0m\u001b[0m\n\u001b[0;32m    613\u001b[0m             \u001b[1;31m# GH#38939 de facto copy defaults to False only in non-dict cases\u001b[0m\u001b[1;33m\u001b[0m\u001b[1;33m\u001b[0m\u001b[1;33m\u001b[0m\u001b[0m\n\u001b[1;32m--> 614\u001b[1;33m             \u001b[0mmgr\u001b[0m \u001b[1;33m=\u001b[0m \u001b[0mdict_to_mgr\u001b[0m\u001b[1;33m(\u001b[0m\u001b[0mdata\u001b[0m\u001b[1;33m,\u001b[0m \u001b[0mindex\u001b[0m\u001b[1;33m,\u001b[0m \u001b[0mcolumns\u001b[0m\u001b[1;33m,\u001b[0m \u001b[0mdtype\u001b[0m\u001b[1;33m=\u001b[0m\u001b[0mdtype\u001b[0m\u001b[1;33m,\u001b[0m \u001b[0mcopy\u001b[0m\u001b[1;33m=\u001b[0m\u001b[0mcopy\u001b[0m\u001b[1;33m,\u001b[0m \u001b[0mtyp\u001b[0m\u001b[1;33m=\u001b[0m\u001b[0mmanager\u001b[0m\u001b[1;33m)\u001b[0m\u001b[1;33m\u001b[0m\u001b[1;33m\u001b[0m\u001b[0m\n\u001b[0m\u001b[0;32m    615\u001b[0m         \u001b[1;32melif\u001b[0m \u001b[0misinstance\u001b[0m\u001b[1;33m(\u001b[0m\u001b[0mdata\u001b[0m\u001b[1;33m,\u001b[0m \u001b[0mma\u001b[0m\u001b[1;33m.\u001b[0m\u001b[0mMaskedArray\u001b[0m\u001b[1;33m)\u001b[0m\u001b[1;33m:\u001b[0m\u001b[1;33m\u001b[0m\u001b[1;33m\u001b[0m\u001b[0m\n\u001b[0;32m    616\u001b[0m             \u001b[1;32mimport\u001b[0m \u001b[0mnumpy\u001b[0m\u001b[1;33m.\u001b[0m\u001b[0mma\u001b[0m\u001b[1;33m.\u001b[0m\u001b[0mmrecords\u001b[0m \u001b[1;32mas\u001b[0m \u001b[0mmrecords\u001b[0m\u001b[1;33m\u001b[0m\u001b[1;33m\u001b[0m\u001b[0m\n",
      "\u001b[1;32mD:\\Softwares\\Anaconda\\lib\\site-packages\\pandas\\core\\internals\\construction.py\u001b[0m in \u001b[0;36mdict_to_mgr\u001b[1;34m(data, index, columns, dtype, typ, copy)\u001b[0m\n\u001b[0;32m    463\u001b[0m \u001b[1;33m\u001b[0m\u001b[0m\n\u001b[0;32m    464\u001b[0m     return arrays_to_mgr(\n\u001b[1;32m--> 465\u001b[1;33m         \u001b[0marrays\u001b[0m\u001b[1;33m,\u001b[0m \u001b[0mdata_names\u001b[0m\u001b[1;33m,\u001b[0m \u001b[0mindex\u001b[0m\u001b[1;33m,\u001b[0m \u001b[0mcolumns\u001b[0m\u001b[1;33m,\u001b[0m \u001b[0mdtype\u001b[0m\u001b[1;33m=\u001b[0m\u001b[0mdtype\u001b[0m\u001b[1;33m,\u001b[0m \u001b[0mtyp\u001b[0m\u001b[1;33m=\u001b[0m\u001b[0mtyp\u001b[0m\u001b[1;33m,\u001b[0m \u001b[0mconsolidate\u001b[0m\u001b[1;33m=\u001b[0m\u001b[0mcopy\u001b[0m\u001b[1;33m\u001b[0m\u001b[1;33m\u001b[0m\u001b[0m\n\u001b[0m\u001b[0;32m    466\u001b[0m     )\n\u001b[0;32m    467\u001b[0m \u001b[1;33m\u001b[0m\u001b[0m\n",
      "\u001b[1;32mD:\\Softwares\\Anaconda\\lib\\site-packages\\pandas\\core\\internals\\construction.py\u001b[0m in \u001b[0;36marrays_to_mgr\u001b[1;34m(arrays, arr_names, index, columns, dtype, verify_integrity, typ, consolidate)\u001b[0m\n\u001b[0;32m    117\u001b[0m         \u001b[1;31m# figure out the index, if necessary\u001b[0m\u001b[1;33m\u001b[0m\u001b[1;33m\u001b[0m\u001b[1;33m\u001b[0m\u001b[0m\n\u001b[0;32m    118\u001b[0m         \u001b[1;32mif\u001b[0m \u001b[0mindex\u001b[0m \u001b[1;32mis\u001b[0m \u001b[1;32mNone\u001b[0m\u001b[1;33m:\u001b[0m\u001b[1;33m\u001b[0m\u001b[1;33m\u001b[0m\u001b[0m\n\u001b[1;32m--> 119\u001b[1;33m             \u001b[0mindex\u001b[0m \u001b[1;33m=\u001b[0m \u001b[0m_extract_index\u001b[0m\u001b[1;33m(\u001b[0m\u001b[0marrays\u001b[0m\u001b[1;33m)\u001b[0m\u001b[1;33m\u001b[0m\u001b[1;33m\u001b[0m\u001b[0m\n\u001b[0m\u001b[0;32m    120\u001b[0m         \u001b[1;32melse\u001b[0m\u001b[1;33m:\u001b[0m\u001b[1;33m\u001b[0m\u001b[1;33m\u001b[0m\u001b[0m\n\u001b[0;32m    121\u001b[0m             \u001b[0mindex\u001b[0m \u001b[1;33m=\u001b[0m \u001b[0mensure_index\u001b[0m\u001b[1;33m(\u001b[0m\u001b[0mindex\u001b[0m\u001b[1;33m)\u001b[0m\u001b[1;33m\u001b[0m\u001b[1;33m\u001b[0m\u001b[0m\n",
      "\u001b[1;32mD:\\Softwares\\Anaconda\\lib\\site-packages\\pandas\\core\\internals\\construction.py\u001b[0m in \u001b[0;36m_extract_index\u001b[1;34m(data)\u001b[0m\n\u001b[0;32m    633\u001b[0m             \u001b[0mlengths\u001b[0m \u001b[1;33m=\u001b[0m \u001b[0mlist\u001b[0m\u001b[1;33m(\u001b[0m\u001b[0mset\u001b[0m\u001b[1;33m(\u001b[0m\u001b[0mraw_lengths\u001b[0m\u001b[1;33m)\u001b[0m\u001b[1;33m)\u001b[0m\u001b[1;33m\u001b[0m\u001b[1;33m\u001b[0m\u001b[0m\n\u001b[0;32m    634\u001b[0m             \u001b[1;32mif\u001b[0m \u001b[0mlen\u001b[0m\u001b[1;33m(\u001b[0m\u001b[0mlengths\u001b[0m\u001b[1;33m)\u001b[0m \u001b[1;33m>\u001b[0m \u001b[1;36m1\u001b[0m\u001b[1;33m:\u001b[0m\u001b[1;33m\u001b[0m\u001b[1;33m\u001b[0m\u001b[0m\n\u001b[1;32m--> 635\u001b[1;33m                 \u001b[1;32mraise\u001b[0m \u001b[0mValueError\u001b[0m\u001b[1;33m(\u001b[0m\u001b[1;34m\"All arrays must be of the same length\"\u001b[0m\u001b[1;33m)\u001b[0m\u001b[1;33m\u001b[0m\u001b[1;33m\u001b[0m\u001b[0m\n\u001b[0m\u001b[0;32m    636\u001b[0m \u001b[1;33m\u001b[0m\u001b[0m\n\u001b[0;32m    637\u001b[0m             \u001b[1;32mif\u001b[0m \u001b[0mhave_dicts\u001b[0m\u001b[1;33m:\u001b[0m\u001b[1;33m\u001b[0m\u001b[1;33m\u001b[0m\u001b[0m\n",
      "\u001b[1;31mValueError\u001b[0m: All arrays must be of the same length"
     ]
    },
    {
     "data": {
      "text/plain": [
       "<Figure size 720x576 with 0 Axes>"
      ]
     },
     "metadata": {},
     "output_type": "display_data"
    }
   ],
   "source": [
    "horizon = np.arange(1,total_horizon,1)\n",
    "plt.figure(figsize=(10,8))\n",
    "sns.scatterplot(x=horizon,y=u_trj_opt[:,0],label='$\\omega$ for agent1 [rad/s]');\n",
    "sns.scatterplot(x=horizon,y=u_trj_opt[:,1],label='acceleration for agent1[m/s]');\n",
    "\n",
    "sns.scatterplot(x=horizon,y=u_trj_opt[:,2],label='$\\omega$ for agent1 [rad/s]');\n",
    "sns.scatterplot(x=horizon,y=u_trj_opt[:,3],label='acceleration for agent1[m/s]');\n",
    "\n",
    "sns.scatterplot(x=horizon,y=u_trj_opt[:,4],label='$\\omega$ for agent1 [rad/s]');\n",
    "sns.scatterplot(x=horizon,y=u_trj_opt[:,5],label='acceleration for agent1[m/s]');\n",
    "\n",
    "plt.legend(fontsize=13);\n",
    "plt.xlabel('Horizon [$N$]');"
   ]
  },
  {
   "cell_type": "code",
   "execution_count": null,
   "id": "3f5c955a-09fe-4c7d-9971-36e03e117264",
   "metadata": {},
   "outputs": [],
   "source": []
  }
 ],
 "metadata": {
  "kernelspec": {
   "display_name": "Python 3 (ipykernel)",
   "language": "python",
   "name": "python3"
  },
  "language_info": {
   "codemirror_mode": {
    "name": "ipython",
    "version": 3
   },
   "file_extension": ".py",
   "mimetype": "text/x-python",
   "name": "python",
   "nbconvert_exporter": "python",
   "pygments_lexer": "ipython3",
   "version": "3.7.6"
  }
 },
 "nbformat": 4,
 "nbformat_minor": 5
}
