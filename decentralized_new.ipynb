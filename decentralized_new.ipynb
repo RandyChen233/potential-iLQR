{
 "cells": [
  {
   "cell_type": "code",
   "execution_count": 1,
   "id": "f80dd68c-8e42-408f-a4b6-c8c75c568a88",
   "metadata": {},
   "outputs": [],
   "source": [
    "# python libraries\n",
    "import numpy as np\n",
    "# import autograd.numpy as np\n",
    "\n",
    "from autograd import elementwise_grad as egrad\n",
    "from autograd import hessian,jacobian\n",
    "import matplotlib.pyplot as plt\n",
    "import matplotlib as mpl\n",
    "import seaborn as sns\n",
    "plt.style.use('seaborn') "
   ]
  },
  {
   "cell_type": "code",
   "execution_count": 2,
   "id": "d9a2ebac-b852-45fa-8229-246fcfc9125a",
   "metadata": {},
   "outputs": [],
   "source": [
    "from matplotlib.animation import FuncAnimation"
   ]
  },
  {
   "cell_type": "code",
   "execution_count": null,
   "id": "4a4fdecf-b17c-488d-a46d-d9e054331eca",
   "metadata": {},
   "outputs": [],
   "source": [
    "# from matplotlib import rc\n",
    "\n",
    "# # equivalent to rcParams['animation.html'] = 'html5'\n",
    "# rc('animation', html='html5')"
   ]
  },
  {
   "cell_type": "code",
   "execution_count": 3,
   "id": "27612b32-08da-4c45-857f-c3718d33c753",
   "metadata": {},
   "outputs": [],
   "source": [
    "from source import decentralized"
   ]
  },
  {
   "cell_type": "code",
   "execution_count": null,
   "id": "56954dd4-6e49-4097-8e5e-9cb0d03b8bd0",
   "metadata": {},
   "outputs": [],
   "source": []
  },
  {
   "cell_type": "code",
   "execution_count": null,
   "id": "1083d9f7-ddf9-4b6e-a79e-e29abce4c726",
   "metadata": {},
   "outputs": [],
   "source": []
  },
  {
   "cell_type": "code",
   "execution_count": null,
   "id": "4606db1e-0880-4bf7-835c-cd72d2ca1aba",
   "metadata": {},
   "outputs": [],
   "source": []
  },
  {
   "cell_type": "code",
   "execution_count": null,
   "id": "162f53d7-2bb4-4deb-9711-0bc4f8fd12dc",
   "metadata": {},
   "outputs": [],
   "source": []
  },
  {
   "cell_type": "code",
   "execution_count": null,
   "id": "a090088f-1956-4205-8773-4944a195a777",
   "metadata": {},
   "outputs": [],
   "source": []
  },
  {
   "cell_type": "code",
   "execution_count": null,
   "id": "00514e33-d45c-4ea6-88df-89a7362b42c2",
   "metadata": {},
   "outputs": [],
   "source": []
  }
 ],
 "metadata": {
  "kernelspec": {
   "display_name": "Python 3 (ipykernel)",
   "language": "python",
   "name": "python3"
  },
  "language_info": {
   "codemirror_mode": {
    "name": "ipython",
    "version": 3
   },
   "file_extension": ".py",
   "mimetype": "text/x-python",
   "name": "python",
   "nbconvert_exporter": "python",
   "pygments_lexer": "ipython3",
   "version": "3.7.6"
  }
 },
 "nbformat": 4,
 "nbformat_minor": 5
}
