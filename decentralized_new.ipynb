{
 "cells": [
  {
   "cell_type": "code",
   "execution_count": 7,
   "id": "f80dd68c-8e42-408f-a4b6-c8c75c568a88",
   "metadata": {},
   "outputs": [],
   "source": [
    "# python libraries\n",
    "import autograd.numpy as np\n",
    "import torch\n",
    "import itertools\n",
    "from autograd import elementwise_grad as egrad\n",
    "from autograd import hessian,jacobian\n",
    "import matplotlib.pyplot as plt\n",
    "import matplotlib as mpl\n",
    "import seaborn as sns\n",
    "plt.style.use('seaborn') "
   ]
  },
  {
   "cell_type": "code",
   "execution_count": 8,
   "id": "d9a2ebac-b852-45fa-8229-246fcfc9125a",
   "metadata": {},
   "outputs": [],
   "source": [
    "from matplotlib.animation import FuncAnimation"
   ]
  },
  {
   "cell_type": "code",
   "execution_count": 9,
   "id": "4a4fdecf-b17c-488d-a46d-d9e054331eca",
   "metadata": {},
   "outputs": [],
   "source": [
    "# from matplotlib import rc\n",
    "\n",
    "# # equivalent to rcParams['animation.html'] = 'html5'\n",
    "# rc('animation', html='html5')"
   ]
  },
  {
   "cell_type": "code",
   "execution_count": 10,
   "id": "27612b32-08da-4c45-857f-c3718d33c753",
   "metadata": {},
   "outputs": [],
   "source": [
    "from source import decentralized"
   ]
  },
  {
   "cell_type": "code",
   "execution_count": 11,
   "id": "56954dd4-6e49-4097-8e5e-9cb0d03b8bd0",
   "metadata": {},
   "outputs": [],
   "source": [
    "def unicycle_continuous_dynamics(x, u):\n",
    "    # x = [x position, y position, heading, forward velocity] \n",
    "    # u = [omega, forward acceleration]\n",
    "\n",
    "    x_pos = x[3]*np.cos(x[2])\n",
    "    y_pos = x[3]*np.sin(x[2])\n",
    "    heading_rate = u[0]\n",
    "    v_dot = u[1]\n",
    "    \n",
    "    x_d = np.array([\n",
    "        x_pos,\n",
    "        y_pos,\n",
    "        heading_rate,\n",
    "        v_dot    \n",
    "    ])\n",
    "    \n",
    "    return x_d"
   ]
  },
  {
   "cell_type": "code",
   "execution_count": 12,
   "id": "1083d9f7-ddf9-4b6e-a79e-e29abce4c726",
   "metadata": {},
   "outputs": [],
   "source": [
    "def discrete_dynamics(x, u):\n",
    "    \n",
    "    dt = 0.05\n",
    "    #Euler integrator below and return the next state\n",
    "    x = x + dt*unicycle_continuous_dynamics(x,u)\n",
    "    x_next = x\n",
    "    return x_next"
   ]
  },
  {
   "cell_type": "code",
   "execution_count": 13,
   "id": "4606db1e-0880-4bf7-835c-cd72d2ca1aba",
   "metadata": {},
   "outputs": [],
   "source": [
    "def discrete_dynamics_multiple(x,u,x_dim,u_dim):\n",
    "        \n",
    "    x_new = np.hstack(\n",
    "         [discrete_dynamics(x[i*n_states:(i+1)*n_states],u[i*n_inputs:(i+1)*n_inputs]) for i in range(len(x_dim))]\n",
    "    )\n",
    "\n",
    "    return x_new"
   ]
  },
  {
   "cell_type": "code",
   "execution_count": 14,
   "id": "162f53d7-2bb4-4deb-9711-0bc4f8fd12dc",
   "metadata": {},
   "outputs": [],
   "source": [
    "def rollout(x0, u_trj, x_dim, u_dim): #rolling out the state trajectory based on the euqations of motion (discretized)\n",
    "\n",
    "    x_trj = np.zeros((u_trj.shape[0]+1, x0.shape[0]))\n",
    "\n",
    "    x_trj[0,:] = x0\n",
    "    \n",
    "    for i in range(0,x_trj.shape[0]-1): \n",
    "        x_trj[i+1,:] = discrete_dynamics_multiple(x_trj[i,:],u_trj[i,:],x_dim,u_dim)\n",
    "    \n",
    "    return x_trj"
   ]
  },
  {
   "cell_type": "code",
   "execution_count": 15,
   "id": "a090088f-1956-4205-8773-4944a195a777",
   "metadata": {},
   "outputs": [],
   "source": [
    "def cost_trj(x,u,x_ref): #x-> state vector, u-> input vectora\n",
    "    #m = sym if x.dtype == object else np\n",
    "    \n",
    "    Q = np.eye(x.shape[0])*100\n",
    "    \n",
    "    R = np.eye(u.shape[0])\n",
    "    \n",
    "    cost = (x-x_ref).T @ Q @(x-x_ref) +(u).T @ R @ (u)\n",
    "\n",
    "    return cost #trajectory cost for an agent with index i"
   ]
  },
  {
   "cell_type": "code",
   "execution_count": 16,
   "id": "3dcd243d-c6fc-414e-8334-bfc789a04dbd",
   "metadata": {},
   "outputs": [],
   "source": [
    "def cost_trj_Final(x_T,x_ref_T):\n",
    "   # m = sym if x.dtype == object else np\n",
    "    Q = np.eye(x_T.shape[0])*1600\n",
    "    \n",
    "    terminal_cost = (x_T-x_ref_T).T @ Q @ (x_T-x_ref_T)\n",
    "\n",
    "    return terminal_cost #final trajectory cost for an agent with index i"
   ]
  },
  {
   "cell_type": "code",
   "execution_count": 17,
   "id": "c835d3b4-22a0-456a-b80f-79a2727cc18d",
   "metadata": {},
   "outputs": [],
   "source": [
    "def compute_pairwise_distance(X, x_dims):\n",
    "    \"\"\"Compute the distance between each pair of agents\"\"\"\n",
    "    assert len(set(x_dims)) == 1\n",
    "\n",
    "    n_agents = len(x_dims)\n",
    "    n_states = x_dims[0]\n",
    "    \n",
    "    pair_inds = np.array(list(itertools.combinations(range(n_agents), 2)))\n",
    "    X_agent = X.reshape(-1, n_agents, n_states).swapaxes(0, 2)\n",
    "    dX = X_agent[:2, pair_inds[:, 0]] - X_agent[:2, pair_inds[:, 1]]\n",
    "\n",
    "    if torch.is_tensor(X):\n",
    "        return torch.linalg.norm(dX, dim=0)\n",
    "    \n",
    "    \n",
    "    return np.linalg.norm(dX, axis=0)"
   ]
  },
  {
   "cell_type": "code",
   "execution_count": 18,
   "id": "d5d97897-4bfd-412e-ac56-58bfd443b24a",
   "metadata": {},
   "outputs": [],
   "source": [
    "def cost_avoidance(x,x_dim):\n",
    "    \n",
    "    if len(x_dim) == 1:\n",
    "        \n",
    "        return 0\n",
    "    \n",
    "    threshold = 0.5\n",
    "\n",
    "    distances = compute_pairwise_distance(x,x_dim)\n",
    "\n",
    "    cost_avoid = np.sum((distances[distances<threshold]-threshold)**2)*1000\n",
    "\n",
    "    return cost_avoid"
   ]
  },
  {
   "cell_type": "code",
   "execution_count": 19,
   "id": "0afa65fd-1edd-4ca0-963a-9bb6f4788704",
   "metadata": {},
   "outputs": [],
   "source": [
    "def cost_stage(x, u, x_dim, x_ref):\n",
    "    \n",
    "    c_avoid = cost_avoidance(x,x_dim)\n",
    "    c_trj = cost_trj(x,u,x_ref)\n",
    "    \n",
    "    return c_avoid + c_trj"
   ]
  },
  {
   "cell_type": "code",
   "execution_count": 20,
   "id": "495e7e78-1518-4fe1-9edd-27077233b2bd",
   "metadata": {},
   "outputs": [],
   "source": [
    "def cost_sum(x_trj, u_trj, x_dim, x_ref, x_ref_T):\n",
    "\n",
    "    total = 0.0\n",
    "    # TODO: Sum up all costs\n",
    "    for i in range(0,x_trj.shape[0]-1): #(0,1,2,3,....)\n",
    "        total = total + cost_stage(x_trj[i,:], u_trj[i,:], x_dim, x_ref) \n",
    "\n",
    "    total = total + cost_trj_Final(x_trj[-1,:], x_ref_T)\n",
    "\n",
    "    return total"
   ]
  },
  {
   "cell_type": "code",
   "execution_count": 21,
   "id": "8bc3cbf3-c927-4557-aa4e-b5e6fa00f182",
   "metadata": {},
   "outputs": [],
   "source": [
    "from scipy.optimize import approx_fprime"
   ]
  },
  {
   "cell_type": "code",
   "execution_count": 22,
   "id": "6e32d2cd-9ba3-4894-8ab5-01491fd46b48",
   "metadata": {},
   "outputs": [],
   "source": [
    "jac_eps = np.sqrt(np.finfo(float).eps)\n",
    "hess_eps = np.sqrt(jac_eps)\n",
    "def l_x(x,u,x_dim,x_ref):\n",
    "  \n",
    "    return egrad(cost_stage,0)(x,u,x_dim,x_ref)\n",
    "    # return approx_fprime(x, lambda x: cost_stage(x, u, x_dim, x_ref), jac_eps)\n",
    "    \n",
    "def l_u(x,u,x_dim,x_ref):\n",
    "    \n",
    "    return egrad(cost_stage,1)(x,u,x_dim,x_ref)\n",
    "    # return approx_fprime(u, lambda u: cost_stage(x, u, x_dim, x_ref), jac_eps)\n",
    "    \n",
    "def l_xx(x,u,x_dim,x_ref):\n",
    "    \n",
    "    return hessian(cost_stage,0)(x,u,x_dim,x_ref)\n",
    "    # return np.vstack(\n",
    "         # [approx_fprime(x, lambda x: l_x(x,u,x_dim,x_ref)[i], hess_eps) for i in range(len(x))]\n",
    "    # )\n",
    "    \n",
    "def l_uu(x,u,x_dim,x_ref):\n",
    "    \n",
    "    return hessian(cost_stage,1)(x,u,x_dim,x_ref)\n",
    "    # return  np.vstack(\n",
    "    #      [approx_fprime(u, lambda u: l_u(x,u,x_dim,x_ref)[i], hess_eps) for i in range(len(u))]\n",
    "    #  )\n",
    "    \n",
    "\n",
    "def l_ux(x,u,x_dim,x_ref): #this is not correct?\n",
    "    \n",
    "    # return egrad(l_u,0)(x,u,x_dim,x_ref)#, somehow auto-differentiation throws warning on l_ux all the time\n",
    "    \n",
    "    return  np.vstack(\n",
    "        [approx_fprime(x, lambda x: l_u(x,u,x_dim,x_ref)[i], hess_eps) for i in range(len(u))]\n",
    "    )\n",
    " "
   ]
  },
  {
   "cell_type": "code",
   "execution_count": 23,
   "id": "12f339d1-ae24-4c0c-b926-51b4473dc7a4",
   "metadata": {},
   "outputs": [],
   "source": [
    "\n",
    "def f(x,u,x_dim,u_dim):\n",
    "    \n",
    "    return discrete_dynamics_multiple(x,u,x_dim,u_dim)\n",
    "\n",
    "def f_x(x,u,x_dim,u_dim):\n",
    "    \n",
    "    return jacobian(f,0)(x,u,x_dim,u_dim)\n",
    "    # return np.vstack([approx_fprime(x, lambda x: f(x,u,x_dim,u_dim)[i], jac_eps) for i in range(len(x))])\n",
    "\n",
    "def f_u(x,u,x_dim,u_dim): #this is not correct\n",
    "    \n",
    "    \n",
    "    return jacobian(f,1)(x,u,x_dim,u_dim)\n",
    "    # return np.vstack([approx_fprime(u, lambda u: f(x,u,x_dim,u_dim)[i], jac_eps) for i in range(len(x))])\n",
    "    "
   ]
  },
  {
   "cell_type": "code",
   "execution_count": 24,
   "id": "fc99a346-235c-4dec-98d9-19107a229b14",
   "metadata": {},
   "outputs": [],
   "source": [
    "def l_final_x(x_T,x_ref_T):\n",
    "    \n",
    "    \n",
    "    return np.eye(x_T.shape[0])*1600@(x_T-x_ref_T)\n",
    "\n",
    "\n",
    "def l_final_xx(x_T):\n",
    "    \n",
    "\n",
    "    return np.eye(x_T.shape[0])*1600\n"
   ]
  },
  {
   "cell_type": "code",
   "execution_count": 25,
   "id": "4d34b98f-8599-4fe0-bfb9-41d289942cf9",
   "metadata": {},
   "outputs": [],
   "source": [
    "def Q_terms(V_x, V_xx , x, u, x_dim, u_dim, x_ref):\n",
    "\n",
    "    Q_x = l_x(x,u,x_dim,x_ref) + f_x(x,u,x_dim,u_dim).T.dot(V_x);\n",
    "    \n",
    "    Q_u = l_u(x,u,x_dim,x_ref) + f_u(x,u,x_dim,u_dim).T.dot(V_x);\n",
    "    \n",
    "    Q_xx = l_xx(x,u,x_dim,x_ref) + f_x(x,u,x_dim,u_dim).T.dot(V_xx.dot(f_x(x,u,x_dim,u_dim)))\n",
    "    \n",
    "    Q_ux = l_ux(x,u,x_dim,x_ref) + f_u(x,u,x_dim,u_dim).T.dot(V_xx.dot(f_x(x,u,x_dim,u_dim)))\n",
    "    Q_uu = l_uu(x,u,x_dim,x_ref) + f_u(x,u,x_dim,u_dim).T.dot(V_xx.dot(f_u(x,u,x_dim,u_dim)))\n",
    "\n",
    "    return Q_x, Q_u, Q_xx, Q_ux, Q_uu"
   ]
  },
  {
   "cell_type": "code",
   "execution_count": 26,
   "id": "53189dd5-e902-4bc7-af23-d52df3c27c2a",
   "metadata": {},
   "outputs": [],
   "source": [
    "def gains(Q_uu, Q_u, Q_ux):\n",
    "    \n",
    "    k = np.linalg.solve(Q_uu,-Q_u)\n",
    "    K = np.linalg.solve(Q_uu,-Q_ux)\n",
    "    \n",
    "    \n",
    "    return k, K"
   ]
  },
  {
   "cell_type": "code",
   "execution_count": 27,
   "id": "af277b92-6530-4c18-887d-0cc7e5adfec3",
   "metadata": {},
   "outputs": [],
   "source": [
    "def V_terms(Q_x, Q_u, Q_xx, Q_ux, Q_uu, K, k):\n",
    "\n",
    "    V_x = Q_x + K.T.dot(Q_uu.dot(k)) + K.T.dot(Q_u) + Q_ux.T.dot(k);\n",
    "    V_xx = Q_xx  + K.T.dot(Q_uu.dot(K)) + K.T.dot(Q_ux) + Q_ux.T.dot(K) ;\n",
    "    \n",
    "    \n",
    "    \n",
    "    return V_x, V_xx"
   ]
  },
  {
   "cell_type": "code",
   "execution_count": 28,
   "id": "06dc137d-1a18-4870-8875-8421d2470865",
   "metadata": {},
   "outputs": [],
   "source": [
    "def expected_cost_reduction(Q_u, Q_uu, k, alpha):\n",
    "    \n",
    "    return - alpha*Q_u.T.dot(k) - 0.5  * alpha**2 *   k.T.dot(Q_uu.dot(k))"
   ]
  },
  {
   "cell_type": "code",
   "execution_count": 29,
   "id": "925619ef-2db9-4a80-b0ff-95bc1eed807f",
   "metadata": {},
   "outputs": [],
   "source": [
    "def forward_pass(x_trj, u_trj, k_trj, K_trj, expected_cost_redu, total_cost, alpha, x_dim, u_dim):\n",
    "    #alpha is the gradient descent rate\n",
    "\n",
    "  \n",
    "    x_trj_new = np.zeros(x_trj.shape)\n",
    "    x_trj_new[0,:] = x_trj[0,:]\n",
    "    u_trj_new = np.zeros(u_trj.shape)\n",
    "    \n",
    "#     for n in range(u_trj.shape[0]):\n",
    "#         u_trj_new[n,:] = # Apply feedback law\n",
    "#         x_trj_new[n+1,:] = # Apply dynamics\n",
    "\n",
    "    for n in range(u_trj.shape[0]):\n",
    "        \n",
    "        u_trj_new[n,:] =u_trj[n,:]+ alpha * k_trj[n,:] + K_trj[n,:].dot((x_trj_new[n,:]-x_trj[n,:])); # Apply feedback law\n",
    "        \n",
    "        x_trj_new[n+1,:] =discrete_dynamics_multiple(x_trj_new[n,:],u_trj_new[n,:], x_dim, u_dim);\n",
    "    \n",
    "   \n",
    "    \n",
    "    return x_trj_new, u_trj_new"
   ]
  },
  {
   "cell_type": "code",
   "execution_count": 30,
   "id": "6b68a6dd-a9aa-406c-ac5c-7a536c6bebf8",
   "metadata": {},
   "outputs": [],
   "source": [
    "def backward_pass(x_trj, u_trj, regu, alpha, x_dim, u_dim,x_ref_T,x_ref):\n",
    "    k_trj = np.zeros([u_trj.shape[0], u_trj.shape[1]])\n",
    "    K_trj = np.zeros([u_trj.shape[0], u_trj.shape[1], x_trj.shape[1]])\n",
    "    expected_cost_redu = 0\n",
    "\n",
    "    V_x = l_final_x(x_trj[-1,:],x_ref_T)\n",
    "\n",
    "    V_xx = l_final_xx(x_trj[-1,:])\n",
    "    \n",
    "    \n",
    "    for n in range(u_trj.shape[0]-1, -1, -1):\n",
    "        \n",
    "        Q_x,Q_u,Q_xx,Q_ux,Q_uu = Q_terms(V_x, V_xx,x_trj[n+1,:],u_trj[n,:],x_dim,u_dim,x_ref)\n",
    "        \n",
    "        # We add regularization to ensure that Q_uu is invertible and nicely conditioned\n",
    "        Q_uu_regu = Q_uu + np.eye(Q_uu.shape[0])*regu\n",
    "       \n",
    "        k, K = gains(Q_uu_regu, Q_u, Q_ux)\n",
    "        \n",
    "        k_trj[n,:] = k\n",
    "        K_trj[n,:,:] = K\n",
    "        \n",
    "        V_x, V_xx = V_terms(Q_x, Q_u, Q_xx, Q_ux, Q_uu, K, k)\n",
    "        \n",
    "        expected_cost_redu += expected_cost_reduction(Q_u, Q_uu, k, alpha)\n",
    "    return k_trj, K_trj, expected_cost_redu"
   ]
  },
  {
   "cell_type": "code",
   "execution_count": 31,
   "id": "442c785a-f208-419e-a1b1-784b3604a459",
   "metadata": {},
   "outputs": [],
   "source": [
    "def run_ilqr(x0, N, max_iter, regu_init, alpha_init, x_dim, u_dim, n_agents, x_ref, x_ref_T):\n",
    "    # First forward rollout\n",
    "    u_trj = np.random.randn(N-1, n_agents*n_inputs)*0.0001\n",
    "    x_trj = rollout(x0, u_trj,x_dim,u_dim)\n",
    "    total_cost = cost_sum(x_trj, u_trj, x_dim, x_ref, x_ref_T)\n",
    "    regu = regu_init\n",
    "    max_regu = 10000\n",
    "    min_regu = 0.01\n",
    "    \n",
    "    alpha = alpha_init\n",
    "    max_alpha = 1.0\n",
    "    min_alpha = 0.0\n",
    "    \n",
    "    # Setup traces\n",
    "    cost_trace = [total_cost]\n",
    "    expected_cost_redu_trace = []\n",
    "    redu_ratio_trace = [1]\n",
    "    redu_trace = []\n",
    "    regu_trace = [regu]\n",
    "    \n",
    "    alpha_trace = [alpha]\n",
    "    # Run main loop\n",
    "    for it in range(max_iter):\n",
    "        # Backward and forward pass\n",
    "        \n",
    "        k_trj, K_trj, expected_cost_redu = backward_pass(x_trj, u_trj, regu, alpha, x_dim, u_dim, x_ref_T,x_ref)\n",
    "        print(alpha)\n",
    "        x_trj_new, u_trj_new = forward_pass(x_trj, u_trj, k_trj, K_trj, expected_cost_redu, total_cost, alpha, x_dim, u_dim)\n",
    "        # Evaluate new trajectory\n",
    "        total_cost = cost_sum(x_trj_new, u_trj_new, x_dim,x_ref,x_ref_T)\n",
    "        \n",
    "        cost_redu = cost_trace[-1] - total_cost\n",
    "        redu_ratio = cost_redu / abs(expected_cost_redu)\n",
    "        # Accept or reject iteration\n",
    "        if redu_ratio >= 1e-4 and redu_ratio <= 10  :\n",
    "            # Improvement! Accept new trajectories and lower regularization\n",
    "            redu_ratio_trace.append(redu_ratio)\n",
    "            cost_trace.append(total_cost)\n",
    "            x_trj = x_trj_new\n",
    "            u_trj = u_trj_new\n",
    "            regu *= 0.7\n",
    "            # alpha doesn't change if accepted\n",
    "        else:\n",
    "            # Reject new trajectories and increase regularization\n",
    "            regu *= 2.0\n",
    "            alpha = alpha* 0.5 # a scaling factor of 0.5 for alpha is a typical value\n",
    "            cost_trace.append(cost_trace[-1])\n",
    "            redu_ratio_trace.append(0)\n",
    "        regu = min(max(regu, min_regu), max_regu)\n",
    "        regu_trace.append(regu)\n",
    "        redu_trace.append(cost_redu)\n",
    "        \n",
    "        alpha = min(max(alpha,min_alpha),max_alpha)\n",
    "        alpha_trace.append(alpha)\n",
    "        \n",
    "        # Early termination if expected improvement is small\n",
    "        if expected_cost_redu <= 1e-6:\n",
    "            break\n",
    "            \n",
    "    return x_trj, u_trj, cost_trace, regu_trace, redu_ratio_trace, redu_trace, alpha_trace\n"
   ]
  },
  {
   "cell_type": "code",
   "execution_count": null,
   "id": "59a69221-49a2-424b-acc6-79843f525b4c",
   "metadata": {},
   "outputs": [],
   "source": [
    "x0_try = np.array([1.5,2.5,0,0,])\n",
    "x_Ref_try = np.array([2.5,2.5,0,0])\n",
    "N = 10\n",
    "max_iter = 10\n",
    "regu_init = 100\n",
    "alpha_init = 1\n",
    "x_dim = [4]\n",
    "u_dim = [2]\n",
    "n_agents = 1\n",
    "n_states = 4\n",
    "n_inputs = 2\n",
    "\n",
    "x_trj, u_trj, cost_trace, regu_trace, redu_ratio_trace, redu_trace, alpha_trace=run_ilqr(x0_try, N, max_iter, regu_init, alpha_init, x_dim, u_dim, n_agents, x_Ref_try, x_Ref_try)"
   ]
  },
  {
   "cell_type": "code",
   "execution_count": null,
   "id": "073485c2-6fc5-4340-8802-26c6ac05160b",
   "metadata": {},
   "outputs": [],
   "source": []
  },
  {
   "cell_type": "code",
   "execution_count": null,
   "id": "00514e33-d45c-4ea6-88df-89a7362b42c2",
   "metadata": {},
   "outputs": [],
   "source": []
  }
 ],
 "metadata": {
  "kernelspec": {
   "display_name": "Python 3 (ipykernel)",
   "language": "python",
   "name": "python3"
  },
  "language_info": {
   "codemirror_mode": {
    "name": "ipython",
    "version": 3
   },
   "file_extension": ".py",
   "mimetype": "text/x-python",
   "name": "python",
   "nbconvert_exporter": "python",
   "pygments_lexer": "ipython3",
   "version": "3.7.6"
  }
 },
 "nbformat": 4,
 "nbformat_minor": 5
}
