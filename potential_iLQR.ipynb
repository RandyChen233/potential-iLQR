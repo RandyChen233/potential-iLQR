{
 "cells": [
  {
   "cell_type": "code",
   "execution_count": 1,
   "id": "7eb256bd-637f-4c18-b181-22b76ec2973a",
   "metadata": {},
   "outputs": [
    {
     "ename": "ModuleNotFoundError",
     "evalue": "No module named 'pydrake'",
     "output_type": "error",
     "traceback": [
      "\u001b[1;31m---------------------------------------------------------------------------\u001b[0m",
      "\u001b[1;31mModuleNotFoundError\u001b[0m                       Traceback (most recent call last)",
      "\u001b[1;32m~\\AppData\\Local\\Temp/ipykernel_18880/2255584086.py\u001b[0m in \u001b[0;36m<module>\u001b[1;34m\u001b[0m\n\u001b[0;32m      5\u001b[0m \u001b[1;33m\u001b[0m\u001b[0m\n\u001b[0;32m      6\u001b[0m \u001b[1;31m# pydrake imports\u001b[0m\u001b[1;33m\u001b[0m\u001b[1;33m\u001b[0m\u001b[1;33m\u001b[0m\u001b[0m\n\u001b[1;32m----> 7\u001b[1;33m from pydrake.all import (Variable, SymbolicVectorSystem, DiagramBuilder,\n\u001b[0m\u001b[0;32m      8\u001b[0m                          \u001b[0mLogVectorOutput\u001b[0m\u001b[1;33m,\u001b[0m \u001b[0mSimulator\u001b[0m\u001b[1;33m,\u001b[0m \u001b[0mConstantVectorSource\u001b[0m\u001b[1;33m,\u001b[0m\u001b[1;33m\u001b[0m\u001b[1;33m\u001b[0m\u001b[0m\n\u001b[0;32m      9\u001b[0m                          MathematicalProgram, Solve, SnoptSolver, PiecewisePolynomial)\n",
      "\u001b[1;31mModuleNotFoundError\u001b[0m: No module named 'pydrake'"
     ]
    }
   ],
   "source": [
    "# python libraries\n",
    "import numpy as np\n",
    "import matplotlib.pyplot as plt\n",
    "import matplotlib as mpl\n",
    "\n",
    "# pydrake imports\n",
    "from pydrake.all import (Variable, SymbolicVectorSystem, DiagramBuilder,\n",
    "                         LogVectorOutput, Simulator, ConstantVectorSource,\n",
    "                         MathematicalProgram, Solve, SnoptSolver, PiecewisePolynomial)\n",
    "import pydrake.symbolic as sym"
   ]
  },
  {
   "cell_type": "code",
   "execution_count": 4,
   "id": "2a070879-aa29-405e-89d3-ec554a0bada5",
   "metadata": {},
   "outputs": [
    {
     "name": "stdout",
     "output_type": "stream",
     "text": [
      "Collecting underactuated\n",
      "  Using cached underactuated-2022.1.24-py3-none-any.whl (707 kB)\n",
      "Collecting mpld3>=0.5.1\n",
      "  Using cached mpld3-0.5.7-py3-none-any.whl (201 kB)\n",
      "Collecting pydot>=1.3.0\n",
      "  Using cached pydot-1.4.2-py2.py3-none-any.whl (21 kB)\n",
      "Collecting gradescope-utils>=0.4.0\n",
      "  Using cached gradescope_utils-0.4.0-py2.py3-none-any.whl (5.6 kB)\n",
      "Collecting torch>=1.6.0\n",
      "  Using cached torch-1.11.0-cp37-cp37m-win_amd64.whl (158.0 MB)\n",
      "Collecting timeout-decorator>=0.4.1\n",
      "  Using cached timeout-decorator-0.5.0.tar.gz (4.8 kB)\n",
      "Requirement already satisfied: pandas in d:\\softwares\\anaconda\\lib\\site-packages (from underactuated) (1.3.3)\n",
      "Collecting underactuated\n",
      "  Using cached underactuated-2022.1.3-py3-none-any.whl (702 kB)\n",
      "\n",
      "The conflict is caused by:\n",
      "    underactuated 2022.1.24 depends on drake>=0.38.0\n",
      "    underactuated 2022.1.3 depends on drake>=0.37.0\n",
      "\n",
      "To fix this you could try to:\n",
      "1. loosen the range of package versions you've specified\n",
      "2. remove package versions to allow pip attempt to solve the dependency conflict\n",
      "\n"
     ]
    },
    {
     "name": "stderr",
     "output_type": "stream",
     "text": [
      "ERROR: Cannot install underactuated==2022.1.24 and underactuated==2022.1.3 because these package versions have conflicting dependencies.\n",
      "ERROR: ResolutionImpossible: for help visit https://pip.pypa.io/en/latest/user_guide/#fixing-conflicting-dependencies\n"
     ]
    }
   ],
   "source": [
    "!pip install underactuated"
   ]
  },
  {
   "cell_type": "code",
   "execution_count": null,
   "id": "9a8ee5ba-303c-4a4c-847d-557924324f63",
   "metadata": {},
   "outputs": [],
   "source": []
  }
 ],
 "metadata": {
  "kernelspec": {
   "display_name": "Python 3 (ipykernel)",
   "language": "python",
   "name": "python3"
  },
  "language_info": {
   "codemirror_mode": {
    "name": "ipython",
    "version": 3
   },
   "file_extension": ".py",
   "mimetype": "text/x-python",
   "name": "python",
   "nbconvert_exporter": "python",
   "pygments_lexer": "ipython3",
   "version": "3.7.6"
  }
 },
 "nbformat": 4,
 "nbformat_minor": 5
}
