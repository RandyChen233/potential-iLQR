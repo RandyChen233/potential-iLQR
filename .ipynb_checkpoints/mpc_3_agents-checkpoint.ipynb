{
 "cells": [
  {
   "cell_type": "code",
   "execution_count": 1,
   "id": "26176397-4653-4815-be8c-8481a8468b6f",
   "metadata": {},
   "outputs": [],
   "source": [
    "# python libraries\n",
    "import numpy as np\n",
    "import matplotlib.pyplot as plt\n",
    "import matplotlib as mpl\n",
    "import seaborn as sns\n",
    "import sympy as sym\n",
    "\n",
    "plt.style.use('seaborn')"
   ]
  },
  {
   "cell_type": "code",
   "execution_count": 3,
   "id": "8385e772-c7ba-437d-b8d8-3a797e365985",
   "metadata": {},
   "outputs": [
    {
     "name": "stdout",
     "output_type": "stream",
     "text": [
      "Requirement already satisfied: control in d:\\softwares\\anaconda\\lib\\site-packages (0.9.1)\n",
      "Requirement already satisfied: matplotlib in d:\\softwares\\anaconda\\lib\\site-packages (from control) (3.1.3)\n",
      "Requirement already satisfied: numpy in d:\\softwares\\anaconda\\lib\\site-packages (from control) (1.20.3)\n",
      "Requirement already satisfied: scipy in d:\\softwares\\anaconda\\lib\\site-packages (from control) (1.7.1)\n",
      "Requirement already satisfied: pyparsing!=2.0.4,!=2.1.2,!=2.1.6,>=2.0.1 in d:\\softwares\\anaconda\\lib\\site-packages (from matplotlib->control) (3.0.4)\n",
      "Requirement already satisfied: cycler>=0.10 in d:\\softwares\\anaconda\\lib\\site-packages (from matplotlib->control) (0.11.0)\n",
      "Requirement already satisfied: kiwisolver>=1.0.1 in d:\\softwares\\anaconda\\lib\\site-packages (from matplotlib->control) (1.3.1)\n",
      "Requirement already satisfied: python-dateutil>=2.1 in d:\\softwares\\anaconda\\lib\\site-packages (from matplotlib->control) (2.8.2)\n",
      "Requirement already satisfied: six>=1.5 in d:\\softwares\\anaconda\\lib\\site-packages (from python-dateutil>=2.1->matplotlib->control) (1.16.0)\n"
     ]
    }
   ],
   "source": [
    "!pip install control"
   ]
  },
  {
   "cell_type": "code",
   "execution_count": 2,
   "id": "86463d8e-9d9f-43a3-aaad-f50889b4a888",
   "metadata": {},
   "outputs": [],
   "source": [
    "import control"
   ]
  },
  {
   "cell_type": "code",
   "execution_count": 5,
   "id": "d4e5c874-1bf4-4cfb-8432-9f55b234e783",
   "metadata": {},
   "outputs": [
    {
     "name": "stdout",
     "output_type": "stream",
     "text": [
      "Requirement already satisfied: ffmpeg in d:\\softwares\\anaconda\\lib\\site-packages (1.4)\n"
     ]
    }
   ],
   "source": [
    "!pip install ffmpeg"
   ]
  },
  {
   "cell_type": "code",
   "execution_count": 3,
   "id": "21b8bd42-b88e-4001-a815-48785b5ce6fa",
   "metadata": {},
   "outputs": [],
   "source": [
    "from matplotlib.animation import FuncAnimation"
   ]
  },
  {
   "cell_type": "code",
   "execution_count": 4,
   "id": "83221d9a-27a4-4f31-8774-47aecdca0121",
   "metadata": {},
   "outputs": [],
   "source": [
    "from matplotlib import rc\n",
    "\n",
    "# equivalent to rcParams['animation.html'] = 'html5'\n",
    "rc('animation', html='html5')"
   ]
  },
  {
   "cell_type": "code",
   "execution_count": 8,
   "id": "9c870c84-6a4f-4e51-8282-fa03270cf581",
   "metadata": {},
   "outputs": [
    {
     "name": "stdout",
     "output_type": "stream",
     "text": [
      "Requirement already satisfied: quadprog in d:\\softwares\\anaconda\\lib\\site-packages (0.1.11)\n",
      "Requirement already satisfied: numpy in d:\\softwares\\anaconda\\lib\\site-packages (from quadprog) (1.20.3)\n"
     ]
    }
   ],
   "source": [
    "!pip install quadprog"
   ]
  },
  {
   "cell_type": "code",
   "execution_count": 5,
   "id": "cf319558-a7b5-4fd3-b586-de319d30fa11",
   "metadata": {},
   "outputs": [],
   "source": [
    "import quadprog"
   ]
  },
  {
   "cell_type": "markdown",
   "id": "f6ec4ecc-cadc-4ade-8988-4ac93ee17a60",
   "metadata": {},
   "source": [
    "### Define vehicle dynamics:\n"
   ]
  },
  {
   "cell_type": "code",
   "execution_count": 11,
   "id": "9a28dd63-9f92-409a-af67-043359658e80",
   "metadata": {},
   "outputs": [],
   "source": [
    "#unicycle dynamics\n",
    "n_x = 4\n",
    "n_u = 2\n",
    "def unicycle_continuous_dynamics(x, u):\n",
    "    # x = [x position, y position, heading, forward velocity] \n",
    "    # u = [omega, forward acceleration]\n",
    "    #m = sym if x.dtype == object else np # Check type for autodiff\n",
    "    x_pos = x[3]*np.cos(x[2])\n",
    "    y_pos = x[3]*np.sin(x[2])\n",
    "    heading_rate = u[0]\n",
    "    v_dot = u[1]\n",
    "    x_d = np.array([\n",
    "        x_pos,\n",
    "        y_pos,\n",
    "        heading_rate,\n",
    "        v_dot    \n",
    "    ])\n",
    "    return x_d"
   ]
  },
  {
   "cell_type": "markdown",
   "id": "b9c0eb3b-49c5-4773-ab36-db2413bfa6ba",
   "metadata": {},
   "source": [
    "#### Now I will attempt to linearize the dynamics given above such that I have the form: $\\dot x$ = $Ax + Bu$, $y = Cx$. Matrices $A$ and $B$ are found by taking the jacobians of $\\dot x$ with respect to the states and inputs respectively at the equilibrium tuple $(x_e,u_e)$"
   ]
  },
  {
   "cell_type": "code",
   "execution_count": 12,
   "id": "fa0eff1b-b981-45a7-90c1-837a8bbf278a",
   "metadata": {},
   "outputs": [],
   "source": [
    "# symbolic version of the equations of motion\n",
    "x1,y1,theta1,v1,x2,y2,theta2,v2,x3,y3,theta3,v3 = sym.symbols('x1,y1,theta1,v1,x2,y2,theta2,v2,x3,y3,theta3,y3',real=True)\n",
    "omega1,a1,omega2,a2,omega3,a3 = sym.symbols('omega1,a1,omega2,a2,omega3,a3',real=True)\n",
    "\n",
    "\n",
    "\n",
    "x_pos1 = v1*sym.cos(theta1)\n",
    "y_pos1 = v1*sym.sin(theta1)\n",
    "heading_rate1 = omega1\n",
    "v_dot1 = a1\n",
    "\n",
    "x_pos2 = v2*sym.cos(theta2)\n",
    "y_pos2 = v2*sym.sin(theta2)\n",
    "heading_rate2 = omega2\n",
    "v_dot2 = a2\n",
    "\n",
    "x_pos3 = v3*sym.cos(theta3)\n",
    "y_pos3 = v3*sym.sin(theta3)\n",
    "heading_rate3 = omega3\n",
    "v_dot3 = a3\n",
    "\n",
    "f = sym.Matrix([   #for 3 agents:\n",
    "    x_pos1,\n",
    "    y_pos1,\n",
    "    heading_rate1,\n",
    "    v_dot1,\n",
    "    \n",
    "    x_pos2,\n",
    "    y_pos2,\n",
    "    heading_rate2,\n",
    "    v_dot2,\n",
    "    \n",
    "    x_pos3,\n",
    "    y_pos3,\n",
    "    heading_rate3,\n",
    "    v_dot3\n",
    "])\n",
    "\n",
    " \n",
    "    \n",
    "#define equilibrium (reference) values such that the following QP problem is set up for trajectory tracking:\n",
    "x_ref = np.array([3.5, 1.5, 0. , 0. , 0.5, 1.5, 0. , 0. , 1.8, 2.4, 0. , 0. ])\n",
    "\n",
    "x_ref_T = x_ref\n",
    "\n",
    "\n",
    "x_e1 = x_ref[0]\n",
    "y_e1 = x_ref[1]\n",
    "v_e1 = 0\n",
    "theta_e1 = 0\n",
    "omega_e1 = 0\n",
    "a_e1 = 0\n",
    "\n",
    "x_e2 = x_ref[4]\n",
    "y_e2 = x_ref[5]\n",
    "v_e2 = 0\n",
    "theta_e2 = 0\n",
    "omega_e2 = 0\n",
    "a_e2 = 0\n",
    "\n",
    "x_e3 = x_ref[8]\n",
    "y_e3 = x_ref[9]\n",
    "v_e3 = 0\n",
    "theta_e3 = 0\n",
    "omega_e3 = 0\n",
    "a_e3 = 0\n",
    "\n",
    "\n",
    "eq = {\n",
    "    x1 :x_e1,\n",
    "    y1 :y_e1,\n",
    "    v1 :v_e1 ,\n",
    "    theta1 : theta_e1,\n",
    "    omega1: omega_e1,\n",
    "    a1 : a_e1,\n",
    "    \n",
    "    x2 :x_e2,\n",
    "    y2 :y_e2,\n",
    "    v2 :v_e2 ,\n",
    "    theta2 : theta_e2,\n",
    "    omega2: omega_e2,\n",
    "    a2 : a_e2,\n",
    "    \n",
    "    x3 :x_e3,\n",
    "    y3 :y_e3,\n",
    "    v3 :v_e3 ,\n",
    "    theta3 : theta_e3,\n",
    "    omega3: omega_e3,\n",
    "    a3 : a_e3,\n",
    "}"
   ]
  },
  {
   "cell_type": "code",
   "execution_count": 13,
   "id": "5522d588-ba28-48f0-a30b-7f27e0a18e11",
   "metadata": {},
   "outputs": [
    {
     "data": {
      "text/latex": [
       "$\\displaystyle \\left[\\begin{matrix}0\\\\0\\\\0\\\\0\\\\0\\\\0\\\\0\\\\0\\\\0\\\\0\\\\0\\\\0\\end{matrix}\\right]$"
      ],
      "text/plain": [
       "Matrix([\n",
       "[0],\n",
       "[0],\n",
       "[0],\n",
       "[0],\n",
       "[0],\n",
       "[0],\n",
       "[0],\n",
       "[0],\n",
       "[0],\n",
       "[0],\n",
       "[0],\n",
       "[0]])"
      ]
     },
     "execution_count": 13,
     "metadata": {},
     "output_type": "execute_result"
    }
   ],
   "source": [
    "f.subs(eq) #equilibrium verified"
   ]
  },
  {
   "cell_type": "code",
   "execution_count": 14,
   "id": "3a58d6c0-e50f-4802-8ee1-51597276d7a0",
   "metadata": {},
   "outputs": [],
   "source": [
    "A = f.jacobian([x1,y1,theta1,v1,x2,y2,theta2,v2,x3,y3,theta3,v3]).subs(eq)\n",
    "B = f.jacobian([omega1,a1,omega2,a2,omega3,a3]).subs(eq)"
   ]
  },
  {
   "cell_type": "code",
   "execution_count": 15,
   "id": "5da2b046-dc6b-4672-a8e8-d60bfcb2feb0",
   "metadata": {},
   "outputs": [
    {
     "data": {
      "text/plain": [
       "(1, 12)"
      ]
     },
     "execution_count": 15,
     "metadata": {},
     "output_type": "execute_result"
    }
   ],
   "source": [
    "#Assuming full-state feedback, \n",
    "C = np.array([[1,1,1,1,1,1,1,1,1,1,1,1]])\n",
    "C.shape"
   ]
  },
  {
   "cell_type": "code",
   "execution_count": 16,
   "id": "b494d0f4-c63c-4ab9-b69b-e32b816c6624",
   "metadata": {},
   "outputs": [
    {
     "data": {
      "text/plain": [
       "9"
      ]
     },
     "execution_count": 16,
     "metadata": {},
     "output_type": "execute_result"
    }
   ],
   "source": [
    "np.linalg.matrix_rank(control.ctrb(A,B))"
   ]
  },
  {
   "cell_type": "code",
   "execution_count": 17,
   "id": "ab28c9ed-0f7c-4fcf-b55d-7265cd81651c",
   "metadata": {},
   "outputs": [],
   "source": [
    "#note: it appears that the state space model derived above is not controllable"
   ]
  },
  {
   "cell_type": "markdown",
   "id": "15a1117b-042e-4b22-b57e-69db0452faed",
   "metadata": {},
   "source": [
    "#### Compact notation for the predicted state sequence generated by the state space model:\n",
    "\n",
    "$$\n",
    "\\begin{aligned}\n",
    "&\\mathbf{x}_{k}=\\mathcal{M} x_{k}+\\mathcal{C} \\mathbf{u}_{k}\\\\\n",
    "&\\mathcal{M}=\\left[\\begin{array}{c}\n",
    "I \\\\\n",
    "A \\\\\n",
    "A^{2} \\\\\n",
    "\\vdots \\\\\n",
    "A^{N}\n",
    "\\end{array}\\right], \\quad \\mathcal{C}=\\left[\\begin{array}{cccc}\n",
    "0 & 0 & \\cdots & 0 \\\\\n",
    "\\hline B & & & \\\\\n",
    "A B & B & & \\\\\n",
    "\\vdots & \\vdots & \\ddots & \\\\\n",
    "A^{N-1} B & A^{N-2} B & \\cdots & B\n",
    "\\end{array}\\right] .\n",
    "\\end{aligned}\n",
    "$$"
   ]
  },
  {
   "cell_type": "code",
   "execution_count": 395,
   "id": "2c12037f-8370-4917-a904-602dd2a445cd",
   "metadata": {},
   "outputs": [],
   "source": [
    "N = 10  #length of the MOVING horizon"
   ]
  },
  {
   "cell_type": "code",
   "execution_count": 396,
   "id": "3909397b-919d-4c29-9379-ba2a2a78611b",
   "metadata": {},
   "outputs": [
    {
     "data": {
      "text/plain": [
       "(10, 1, 12, 12)"
      ]
     },
     "execution_count": 396,
     "metadata": {},
     "output_type": "execute_result"
    }
   ],
   "source": [
    "#Block matrix M\n",
    "M = np.zeros((N,1,A.shape[0],A.shape[1]))\n",
    "M[0,0,:,:] = np.eye(A.shape[0])\n",
    "\n",
    "for i in range(1,N):\n",
    "    element = np.linalg.matrix_power(A,i)\n",
    "    M[i,0,:,:] = element\n",
    "\n",
    "M.shape"
   ]
  },
  {
   "cell_type": "code",
   "execution_count": 397,
   "id": "0f04e90c-62f1-4449-9adf-098ecbc996b4",
   "metadata": {},
   "outputs": [],
   "source": [
    "#Block matrix C\n",
    "C_block = np.zeros((N, N, A.shape[0], B.shape[1]))\n",
    "for i in range(N):\n",
    "    for j in range(i + 1):\n",
    "        C_block[i, j] = np.linalg.matrix_power(A, i - j) @ B\n",
    "\n",
    "        "
   ]
  },
  {
   "cell_type": "code",
   "execution_count": 398,
   "id": "401ab34b-1814-48fe-b2a0-76a08c6a6b43",
   "metadata": {},
   "outputs": [
    {
     "data": {
      "text/plain": [
       "(10, 10, 12, 6)"
      ]
     },
     "execution_count": 398,
     "metadata": {},
     "output_type": "execute_result"
    }
   ],
   "source": [
    "C_block.shape"
   ]
  },
  {
   "cell_type": "markdown",
   "id": "b2bcc187-5829-4898-8160-56c10dbaf76f",
   "metadata": {},
   "source": [
    "### Cost function: \n",
    "$$\n",
    "J=\\mathbf{x}_{k}^{\\top} \\tilde{Q} \\mathbf{x}_{k}+\\mathbf{u}_{k}^{\\top} \\tilde{R} \\mathbf{u}_{k}\n",
    "$$\n",
    "\n",
    "$$\n",
    "\\tilde{Q}=\\left[\\begin{array}{cccc}\n",
    "Q & & & \\\\\n",
    "& \\ddots & & \\\\\n",
    "& & Q & \\\\\n",
    "& & & \\bar{Q}\n",
    "\\end{array}\\right] \\text { and } \\tilde{R}=\\left[\\begin{array}{ccc}\n",
    "R & & \\\\\n",
    "& \\ddots & \\\\\n",
    "& & R\n",
    "\\end{array}\\right]\n",
    "$$\n",
    "\n",
    "substituting the state evolution equation:\n",
    "\n",
    "$$\n",
    "\\begin{aligned}\n",
    "J=\\mathbf{u}_{k}^{\\top} H \\mathbf{u}_{k} &+2 x_{k}^{\\top} F^{\\top} \\mathbf{u}_{k}+x_{k}^{\\top} G x_{k} \\\\\n",
    "H &=\\mathcal{C}^{\\top} \\tilde{Q} \\mathcal{C}+\\tilde{R} \\\\\n",
    "F &=\\mathcal{C}^{\\top} \\tilde{Q} \\mathcal{M} \\\\\n",
    "G &=\\mathcal{M}^{\\top} \\tilde{Q} \\mathcal{M}\n",
    "\\end{aligned}\n",
    "$$\n",
    "\n",
    "$G$ can be neglected when solving for the optimal $u$\n",
    "\n",
    "\n"
   ]
  },
  {
   "cell_type": "code",
   "execution_count": 399,
   "id": "541955f5-7b41-4148-a7c1-a8dd404fe459",
   "metadata": {},
   "outputs": [
    {
     "data": {
      "text/plain": [
       "(10, 10, 12, 12)"
      ]
     },
     "execution_count": 399,
     "metadata": {},
     "output_type": "execute_result"
    }
   ],
   "source": [
    "#Blcok matrix Q\n",
    "Q = 10 * C.T @ C\n",
    "Q_block = np.zeros((N, N, *Q.shape))\n",
    "for i in range(N):\n",
    "    Q_block[i, i] = Q\n",
    "Q_block.shape"
   ]
  },
  {
   "cell_type": "code",
   "execution_count": 400,
   "id": "0316183d-02ab-4b9f-a232-fa8a968aedf2",
   "metadata": {},
   "outputs": [
    {
     "data": {
      "text/plain": [
       "(10, 10, 6, 6)"
      ]
     },
     "execution_count": 400,
     "metadata": {},
     "output_type": "execute_result"
    }
   ],
   "source": [
    "#Block matrix R\n",
    "R = np.eye(6)\n",
    "R_block = np.zeros((N, N , *R.shape))\n",
    "for i in range(N):\n",
    "    R_block[i,i] = R\n",
    "R_block.shape"
   ]
  },
  {
   "cell_type": "code",
   "execution_count": 401,
   "id": "c3f5d476-1425-42c3-b177-456401984dc1",
   "metadata": {},
   "outputs": [],
   "source": [
    "C_blockT = np.swapaxes(C_block, 2, 3)\n",
    "C_blockT_times_Q = np.matmul(C_blockT, Q_block)\n",
    "H = np.matmul(C_blockT_times_Q, C_block) + R_block"
   ]
  },
  {
   "cell_type": "code",
   "execution_count": 402,
   "id": "8e86ae37-0159-4d2b-9a18-0192c13ca518",
   "metadata": {},
   "outputs": [],
   "source": [
    "F = np.matmul(np.matmul(C_blockT,Q_block),M)\n"
   ]
  },
  {
   "cell_type": "code",
   "execution_count": 403,
   "id": "7d7f039e-b903-4bcb-b859-d58589811cca",
   "metadata": {},
   "outputs": [
    {
     "data": {
      "text/plain": [
       "(10, 10, 6, 6)"
      ]
     },
     "execution_count": 403,
     "metadata": {},
     "output_type": "execute_result"
    }
   ],
   "source": [
    "H.shape"
   ]
  },
  {
   "cell_type": "code",
   "execution_count": 404,
   "id": "15ed6e80-ea41-46c2-bb86-1d0276c54bda",
   "metadata": {},
   "outputs": [
    {
     "data": {
      "text/plain": [
       "(10, 10, 6, 12)"
      ]
     },
     "execution_count": 404,
     "metadata": {},
     "output_type": "execute_result"
    }
   ],
   "source": [
    "F.shape"
   ]
  },
  {
   "cell_type": "markdown",
   "id": "7bf47438-cb30-4531-955b-85ed65f901e5",
   "metadata": {},
   "source": [
    "#### Now we have obtained all the necessary block matrices for constructing the QP problem above. Note that the block matrix $G$ is neglected because when minimizing the objective function with respect to $u$, it is obvious that $G$ has no effect on the optimal solution."
   ]
  },
  {
   "cell_type": "markdown",
   "id": "018aeec0-6fe2-4167-bf77-bab106d8e1a2",
   "metadata": {},
   "source": [
    "### Rollout :\n",
    "$$\n",
    "\\begin{aligned}\n",
    "&\\mathbf{x}_{k}=\\mathcal{M} x_{k}+\\mathcal{C} \\mathbf{u}_{k}\\\\\n",
    "&\\mathcal{M}=\\left[\\begin{array}{c}\n",
    "I \\\\\n",
    "A \\\\\n",
    "A^{2} \\\\\n",
    "\\vdots \\\\\n",
    "A^{N}\n",
    "\\end{array}\\right], \\quad \\mathcal{C}=\\left[\\begin{array}{cccc}\n",
    "0 & 0 & \\cdots & 0 \\\\\n",
    "\\hline B & & & \\\\\n",
    "A B & B & & \\\\\n",
    "\\vdots & \\vdots & \\ddots & \\\\\n",
    "A^{N-1} B & A^{N-2} B & \\cdots & B\n",
    "\\end{array}\\right] .\n",
    "\\end{aligned}\n",
    "$$\n"
   ]
  },
  {
   "cell_type": "code",
   "execution_count": 405,
   "id": "75c378af-4976-4624-9dfc-dcf48fd4c216",
   "metadata": {},
   "outputs": [],
   "source": [
    "# def rollout(x0, u_trj): #rolling out the state trajectory based on the state evolution equation (discretized equation of motion)\n",
    "\n",
    "#     x_trj = np.zeros((u_trj.shape[0]+1, x0.shape[0]))\n",
    "\n",
    "#     x_trj[0,:] = x0\n",
    "    \n",
    "#     for i in range(0,x_trj.shape[0]-1): \n",
    "#         x_trj[i+1,:] = discrete_dynamics_multiple(x_trj[i,:],u_trj[i,:],(4,4,4),(2,2,2))\n",
    "#     return x_trj\n",
    "\n",
    "# N = 15\n",
    "# x0 = np.array([3.5,3.5,0.1, 0.5,     #1st row for agent1, 2nd row for agent2, 3rd row for agent3\n",
    "#                -3.5,3.5,0.2,0.5,   \n",
    "#                3, 3.5,0.1, 0.3]) \n",
    "# u_trj = np.zeros((N-1, 3*n_u))\n",
    "# x_trj = rollout(x0, u_trj)"
   ]
  },
  {
   "cell_type": "markdown",
   "id": "4bd59c12-79fa-4a5a-9027-659572e8cec0",
   "metadata": {},
   "source": [
    "### The Optimal Constrained Control Problem of Linear MPC Reference Tracking takes the form:\n",
    "$$\n",
    "\\begin{aligned}\n",
    "&\\min _{\\Delta \\mathbf{U}} \\sum_{k=0}^{N-1}(\\mathbf{y}(k+1)-\\mathbf{r}(t))^{T} \\mathbf{Q}(\\mathbf{y}(k+1)-\\mathbf{r}(t))+(\\mathbf{u}(k)-\\mathbf{u}(k-1))^{T} \\mathbf{R}(\\mathbf{u}(k)-\\mathbf{u}(k-1)) \\\\\n",
    "&\\text { s.t. }: \\mathbf{u}_{\\min } \\leq \\mathbf{u}(k) \\leq \\mathbf{u}_{\\max }, k=0, \\ldots, N-1 \\\\\n",
    "&\\Delta \\mathbf{u}_{\\min } \\leq \\mathbf{u}(k)-\\mathbf{u}(k-1) \\leq \\Delta \\mathbf{u}_{\\max }, k=0, \\ldots, N-1 \\\\\n",
    "&\\mathbf{y}_{\\min } \\leq \\mathbf{y}(k) \\leq \\mathbf{y}_{\\max }, k=1, \\ldots, N\n",
    "\\end{aligned}\n",
    "$$\n",
    "\n",
    "### Can also be re-written in a more general form:\n",
    "\n",
    "$$\n",
    "\\begin{aligned}\n",
    "&\\min _{\\Delta \\mathbf{U}} J(\\Delta \\mathbf{U}, \\mathbf{x}(t))=\\frac{1}{2} \\Delta \\mathbf{U}^{T} \\mathbf{H} \\Delta \\mathbf{U}+\\left[\\mathbf{x}^{T}(t) \\mathbf{r}^{T}(t) \\mathbf{u}^{T}(t-1)\\right] \\mathbf{F} \\Delta \\mathbf{U} \\\\\n",
    "&\\text { s.t. } \\mathbf{G} \\Delta \\mathbf{U} \\leq \\mathbf{W}+\\mathbf{S}\\left[\\begin{array}{c}\n",
    "\\mathbf{x}(t) \\\\\n",
    "\\mathbf{r}(t) \\\\\n",
    "\\mathbf{u}(t-1)\n",
    "\\end{array}\\right]\n",
    "\\end{aligned}\n",
    "$$"
   ]
  },
  {
   "cell_type": "markdown",
   "id": "41a6adde-49ea-4c21-84a7-6058c6144772",
   "metadata": {},
   "source": [
    "#### The simplified version is given as the following ($\\delta u$ constraint is ignored):\n",
    "$$\n",
    "\\begin{aligned} \n",
    "min_{u} J = u_{k}^{T} H u_{k} + 2 x_{k}^{T} F^{T} u_{k}\n",
    "\\end{aligned}\n",
    "$$\n",
    "#### subject to:\n",
    "\n",
    "$$\n",
    "\\begin{aligned} \n",
    "A_{c}u_{k} \\leq b_{0} + B_{x} x_{k}\n",
    "\\end{aligned}\n",
    "$$"
   ]
  },
  {
   "cell_type": "code",
   "execution_count": 406,
   "id": "d4f8b0ff-3217-4be8-a303-ae4d1991ab9f",
   "metadata": {},
   "outputs": [],
   "source": [
    "def quadprog_solve_qp(P, q, G=None, h=None, A=None, b=None):\n",
    "    qp_G = .5 * (P + P.T)   # make sure P is symmetric\n",
    "    qp_a = -q\n",
    "    if A is not None:\n",
    "        qp_C = -np.vstack([A, G]).T\n",
    "        qp_b = -np.hstack([b, h])\n",
    "        meq = A.shape[0]\n",
    "    else:  # no equality constraint\n",
    "        qp_C = -G.T\n",
    "        qp_b = -h\n",
    "        meq = 0\n",
    "    return quadprog.solve_qp(qp_G, qp_a, qp_C, qp_b, meq)[0]\n",
    "\n"
   ]
  },
  {
   "cell_type": "markdown",
   "id": "f6f6f7c5-1ec3-48f8-8cff-ac42f9d60f62",
   "metadata": {},
   "source": [
    "#### We now assume an actuator limit of $\\pm$ 10 $\\frac{rad}{s}$ and $\\pm$ 10 $\\frac{m}{s^{2}}$"
   ]
  },
  {
   "cell_type": "code",
   "execution_count": 407,
   "id": "77162070-6223-443f-843b-8f05b2658b5a",
   "metadata": {},
   "outputs": [],
   "source": [
    "Ac = np.zeros((N,1,B.shape[1],B.shape[1]))\n",
    "b0 = np.zeros((N,1,B.shape[1]))\n",
    "\n",
    "Ac[:,:,:,:] = np.eye(B.shape[1])\n",
    "\n",
    "for i in range(N):\n",
    "    if i%2 == 0:\n",
    "        Ac[i,:,:,:] = -np.eye(B.shape[1])\n",
    "\n",
    "        \n",
    "b0[:,:,:] = np.ones(B.shape[1])*10"
   ]
  },
  {
   "cell_type": "code",
   "execution_count": 409,
   "id": "eba13573-e51c-4a8b-afab-578a5dc41f2e",
   "metadata": {},
   "outputs": [
    {
     "data": {
      "text/plain": [
       "array([118.3213182, 118.3213182, 118.3213182, 118.3213182, 118.3213182,\n",
       "       118.3213182])"
      ]
     },
     "execution_count": 409,
     "metadata": {},
     "output_type": "execute_result"
    }
   ],
   "source": [
    "x0 = np.array([0.5, 1.5, 0.05, 1,      #1st row for agent1, 2nd row for agent2, 3rd row for agent3\n",
    "               3.5, 1.5, 0.2 ,0.5,  \n",
    "               1.8, 1.2, 0.15 , 0.1 ]) \n",
    "u0 = np.random.randn(3*n_u)*0.05\n"
   ]
  },
  {
   "cell_type": "code",
   "execution_count": 411,
   "id": "a4533788-6221-43c7-95cb-a0b4213e503d",
   "metadata": {},
   "outputs": [
    {
     "data": {
      "text/plain": [
       "(10, 10, 6, 6)"
      ]
     },
     "execution_count": 411,
     "metadata": {},
     "output_type": "execute_result"
    }
   ],
   "source": [
    "H.shape"
   ]
  },
  {
   "cell_type": "code",
   "execution_count": 412,
   "id": "fd3449c6-be04-4b6e-b847-da5e54e36e54",
   "metadata": {},
   "outputs": [
    {
     "data": {
      "text/plain": [
       "(6, 6)"
      ]
     },
     "execution_count": 412,
     "metadata": {},
     "output_type": "execute_result"
    }
   ],
   "source": [
    "P.shape"
   ]
  },
  {
   "cell_type": "code",
   "execution_count": 413,
   "id": "b5081c6c-9552-4f59-9da8-448b4a3d3945",
   "metadata": {},
   "outputs": [
    {
     "data": {
      "text/plain": [
       "(6,)"
      ]
     },
     "execution_count": 413,
     "metadata": {},
     "output_type": "execute_result"
    }
   ],
   "source": [
    "q.shape\n"
   ]
  },
  {
   "cell_type": "code",
   "execution_count": 414,
   "id": "cef3a1dd-3b4d-4c4b-bd1a-08ed5c8ba729",
   "metadata": {},
   "outputs": [
    {
     "data": {
      "text/plain": [
       "(6, 6)"
      ]
     },
     "execution_count": 414,
     "metadata": {},
     "output_type": "execute_result"
    }
   ],
   "source": [
    "P.shape"
   ]
  },
  {
   "cell_type": "code",
   "execution_count": 468,
   "id": "7c59a940-cee7-4fe9-93c3-d815aefff140",
   "metadata": {},
   "outputs": [
    {
     "data": {
      "text/plain": [
       "(10, 10, 12, 6)"
      ]
     },
     "execution_count": 468,
     "metadata": {},
     "output_type": "execute_result"
    }
   ],
   "source": [
    "C_block.shape"
   ]
  },
  {
   "cell_type": "code",
   "execution_count": 492,
   "id": "75399b3a-9c6a-4ad1-909a-433771caac3e",
   "metadata": {},
   "outputs": [],
   "source": [
    "u_trj = []\n",
    "x_trj = [x0]\n",
    "for i in range(1,N):\n",
    "    u_opt = quadprog_solve_qp(P=H[i,i,:,:],q=(M[i,0,:,:]@x0 + C_block[i,i,:,:]@u0).T@F[i,i,:,:].T,G = Ac[i,0,:,:], h = b0[i,0,:] , A=None,b=None)\n",
    "    u_trj.append(u_opt)\n",
    "    x_next = M[i,0,:,:]@x0 + C_block[i,i,:,:]@u_opt\n",
    "    x_trj.append(x_next)\n",
    "    \n",
    "    \n",
    "u_trj_opt = np.asarray(u_trj[0])\n"
   ]
  },
  {
   "cell_type": "code",
   "execution_count": 487,
   "id": "df022786-8ad0-4141-a894-8ba6c2671295",
   "metadata": {},
   "outputs": [
    {
     "data": {
      "text/plain": [
       "10"
      ]
     },
     "execution_count": 487,
     "metadata": {},
     "output_type": "execute_result"
    }
   ],
   "source": [
    "len(x_trj)"
   ]
  },
  {
   "cell_type": "code",
   "execution_count": 488,
   "id": "e2c102cd-cb0d-4c63-b569-12beb8708592",
   "metadata": {},
   "outputs": [
    {
     "data": {
      "text/plain": [
       "9"
      ]
     },
     "execution_count": 488,
     "metadata": {},
     "output_type": "execute_result"
    }
   ],
   "source": [
    "len(u_trj)"
   ]
  },
  {
   "cell_type": "code",
   "execution_count": 491,
   "id": "d7f51a17-139e-4a63-8de4-41e508e8f8ea",
   "metadata": {},
   "outputs": [
    {
     "data": {
      "text/plain": [
       "array([1.        , 0.        , 0.02515433, 0.02515433, 0.5       ,\n",
       "       0.        , 0.02515433, 0.02515433, 1.3       , 0.        ,\n",
       "       0.02515433, 0.02515433])"
      ]
     },
     "execution_count": 491,
     "metadata": {},
     "output_type": "execute_result"
    }
   ],
   "source": [
    "x_new = x_trj[1] #new state trajectory after the very first optimization at the first time step with a prediction horizon of 10\n",
    "x_new"
   ]
  },
  {
   "cell_type": "markdown",
   "id": "3de37a25-de9e-4ffa-a485-45fac8780746",
   "metadata": {},
   "source": [
    "#### The code shown above is an example of how the very first prediction update is computed. Now we will put everything in a loop and solves the above optimization \"many times\" in a receding-horizon fashion"
   ]
  },
  {
   "cell_type": "markdown",
   "id": "c90e21ae-5f46-43fd-b292-90bc2de26e67",
   "metadata": {},
   "source": [
    "#### 1. Compute the necessary block matrices to construct the QP problem over the fixed total horizon (not over the moving horizon):"
   ]
  },
  {
   "cell_type": "code",
   "execution_count": 389,
   "id": "262dfaa6-1fde-4f61-bf52-acdac1f68ae8",
   "metadata": {},
   "outputs": [
    {
     "data": {
      "text/plain": [
       "(60, 1, 12, 12)"
      ]
     },
     "execution_count": 389,
     "metadata": {},
     "output_type": "execute_result"
    }
   ],
   "source": [
    "total_horizon = 50+N\n",
    "M = np.zeros((total_horizon,1,A.shape[0],A.shape[1]))\n",
    "M[0,0,:,:] = np.eye(A.shape[0]) \n",
    "\n",
    "for i in range(1,total_horizon):\n",
    "    element = np.linalg.matrix_power(A,i)\n",
    "    M[i,0,:,:] = element\n",
    "\n",
    "M.shape"
   ]
  },
  {
   "cell_type": "code",
   "execution_count": 357,
   "id": "ae4135aa-936b-4d16-a72e-a1061e9db150",
   "metadata": {},
   "outputs": [],
   "source": [
    "#Block matrix C\n",
    "C_block = np.zeros((total_horizon, total_horizon, A.shape[0], B.shape[1]))\n",
    "for i in range(total_horizon):\n",
    "    for j in range(i + 1):\n",
    "        C_block[i, j] = np.linalg.matrix_power(A, i - j) @ B"
   ]
  },
  {
   "cell_type": "code",
   "execution_count": 358,
   "id": "3d13be4b-14fb-438b-a86b-6809697e0bc7",
   "metadata": {},
   "outputs": [
    {
     "data": {
      "text/plain": [
       "(55, 55, 12, 12)"
      ]
     },
     "execution_count": 358,
     "metadata": {},
     "output_type": "execute_result"
    }
   ],
   "source": [
    "#Blcok matrix Q\n",
    "Q = 10 * C.T @ C\n",
    "Q_block = np.zeros((total_horizon, total_horizon, *Q.shape))\n",
    "for i in range(N):\n",
    "    Q_block[i, i] = Q\n",
    "Q_block.shape"
   ]
  },
  {
   "cell_type": "code",
   "execution_count": 359,
   "id": "1cd922d6-4cee-4109-9d31-ab683656714d",
   "metadata": {},
   "outputs": [
    {
     "data": {
      "text/plain": [
       "(55, 55, 6, 6)"
      ]
     },
     "execution_count": 359,
     "metadata": {},
     "output_type": "execute_result"
    }
   ],
   "source": [
    "#Block matrix R\n",
    "R = np.eye(6)\n",
    "R_block = np.zeros((total_horizon, total_horizon , *R.shape))\n",
    "for i in range(N):\n",
    "    R_block[i,i] = R\n",
    "R_block.shape"
   ]
  },
  {
   "cell_type": "code",
   "execution_count": 360,
   "id": "f0a6aefb-dfbf-4cb4-8724-76d6c042c716",
   "metadata": {},
   "outputs": [],
   "source": [
    "C_blockT = np.swapaxes(C_block, 2, 3)\n",
    "C_blockT_times_Q = np.matmul(C_blockT, Q_block)\n",
    "H = np.matmul(C_blockT_times_Q, C_block) + R_block"
   ]
  },
  {
   "cell_type": "code",
   "execution_count": 361,
   "id": "aa1edd24-ef24-48aa-a092-fbc729397b96",
   "metadata": {},
   "outputs": [],
   "source": [
    "F = np.matmul(np.matmul(C_blockT,Q_block),M)\n"
   ]
  },
  {
   "cell_type": "code",
   "execution_count": 362,
   "id": "e6658546-6423-41e0-afdf-0a9b49f2b676",
   "metadata": {},
   "outputs": [],
   "source": [
    "Ac = np.zeros((total_horizon,1,B.shape[1],B.shape[1]))\n",
    "b0 = np.zeros((total_horizon,1,B.shape[1]))\n",
    "\n",
    "Ac[:,:,:,:] = np.eye(B.shape[1])\n",
    "\n",
    "for i in range(total_horizon):\n",
    "    if i%2 == 0:\n",
    "        Ac[i,:,:,:] = -np.eye(B.shape[1])\n",
    "\n",
    "        \n",
    "b0[:,:,:] = np.ones(B.shape[1])*10"
   ]
  },
  {
   "cell_type": "markdown",
   "id": "664e8786-46a1-44dc-b479-523e71a230dc",
   "metadata": {},
   "source": [
    "#### 2. Optimizing over the the moving horizon embedded in the fixed total horizon (receding-horizon fashion):"
   ]
  },
  {
   "cell_type": "code",
   "execution_count": 354,
   "id": "aa36d2cc-64e0-4f6d-910a-cf08561fe42a",
   "metadata": {},
   "outputs": [],
   "source": [
    "x0 = np.array([0.5, 1.5, 0.05, 1,      #1st row for agent1, 2nd row for agent2, 3rd row for agent3\n",
    "               3.5, 1.5, 0.2 ,0.5,  \n",
    "               1.8, 1.2, 0.15 , 0.1 ]) \n",
    "u0 = np.random.randn(3*n_u)*0.05"
   ]
  },
  {
   "cell_type": "code",
   "execution_count": 355,
   "id": "b2601b56-b09c-43a9-bacc-f6dbfb40e70d",
   "metadata": {},
   "outputs": [
    {
     "data": {
      "text/plain": [
       "(55, 1, 6, 6)"
      ]
     },
     "execution_count": 355,
     "metadata": {},
     "output_type": "execute_result"
    }
   ],
   "source": [
    "Ac.shape"
   ]
  },
  {
   "cell_type": "code",
   "execution_count": 267,
   "id": "954b572b-14f0-43ec-a277-6ab60a174ef5",
   "metadata": {},
   "outputs": [
    {
     "data": {
      "text/plain": [
       "array([[[[11., 10., 10., 10., 10., 10.],\n",
       "         [10., 11., 10., 10., 10., 10.],\n",
       "         [10., 10., 11., 10., 10., 10.],\n",
       "         [10., 10., 10., 11., 10., 10.],\n",
       "         [10., 10., 10., 10., 11., 10.],\n",
       "         [10., 10., 10., 10., 10., 11.]],\n",
       "\n",
       "        [[ 0.,  0.,  0.,  0.,  0.,  0.],\n",
       "         [ 0.,  0.,  0.,  0.,  0.,  0.],\n",
       "         [ 0.,  0.,  0.,  0.,  0.,  0.],\n",
       "         [ 0.,  0.,  0.,  0.,  0.,  0.],\n",
       "         [ 0.,  0.,  0.,  0.,  0.,  0.],\n",
       "         [ 0.,  0.,  0.,  0.,  0.,  0.]]],\n",
       "\n",
       "\n",
       "       [[[ 0.,  0.,  0.,  0.,  0.,  0.],\n",
       "         [ 0.,  0.,  0.,  0.,  0.,  0.],\n",
       "         [ 0.,  0.,  0.,  0.,  0.,  0.],\n",
       "         [ 0.,  0.,  0.,  0.,  0.,  0.],\n",
       "         [ 0.,  0.,  0.,  0.,  0.,  0.],\n",
       "         [ 0.,  0.,  0.,  0.,  0.,  0.]],\n",
       "\n",
       "        [[11., 10., 10., 10., 10., 10.],\n",
       "         [10., 11., 10., 10., 10., 10.],\n",
       "         [10., 10., 11., 10., 10., 10.],\n",
       "         [10., 10., 10., 11., 10., 10.],\n",
       "         [10., 10., 10., 10., 11., 10.],\n",
       "         [10., 10., 10., 10., 10., 11.]]]])"
      ]
     },
     "execution_count": 267,
     "metadata": {},
     "output_type": "execute_result"
    }
   ],
   "source": [
    "H[1:1+2,1:1+2,:,:]"
   ]
  },
  {
   "cell_type": "code",
   "execution_count": null,
   "id": "7efc5ff0-f24b-4c43-ad6d-3bca186feb77",
   "metadata": {},
   "outputs": [
    {
     "data": {
      "text/plain": [
       "(5, 5, 6, 6)"
      ]
     },
     "execution_count": 265,
     "metadata": {},
     "output_type": "execute_result"
    }
   ],
   "source": [
    "H.shape"
   ]
  },
  {
   "cell_type": "code",
   "execution_count": 353,
   "id": "78cfa884-dcd2-40d1-ab65-f307ac1664a7",
   "metadata": {},
   "outputs": [
    {
     "data": {
      "text/plain": [
       "(55, 1, 6)"
      ]
     },
     "execution_count": 353,
     "metadata": {},
     "output_type": "execute_result"
    }
   ],
   "source": [
    "b0.shape"
   ]
  },
  {
   "cell_type": "code",
   "execution_count": 351,
   "id": "07ee6509-62f1-4996-b2eb-ca30f1259746",
   "metadata": {},
   "outputs": [
    {
     "ename": "ValueError",
     "evalue": "matrix G is not positive definite",
     "output_type": "error",
     "traceback": [
      "\u001b[1;31m---------------------------------------------------------------------------\u001b[0m",
      "\u001b[1;31mValueError\u001b[0m                                Traceback (most recent call last)",
      "\u001b[1;32m~\\AppData\\Local\\Temp/ipykernel_6708/3699772764.py\u001b[0m in \u001b[0;36m<module>\u001b[1;34m\u001b[0m\n\u001b[0;32m      3\u001b[0m \u001b[1;33m\u001b[0m\u001b[0m\n\u001b[0;32m      4\u001b[0m \u001b[1;32mfor\u001b[0m \u001b[0mi\u001b[0m \u001b[1;32min\u001b[0m \u001b[0mrange\u001b[0m\u001b[1;33m(\u001b[0m\u001b[1;36m1\u001b[0m\u001b[1;33m,\u001b[0m\u001b[0mtotal_horizon\u001b[0m\u001b[1;33m)\u001b[0m\u001b[1;33m:\u001b[0m\u001b[1;33m\u001b[0m\u001b[1;33m\u001b[0m\u001b[0m\n\u001b[1;32m----> 5\u001b[1;33m     \u001b[0mu_opt\u001b[0m \u001b[1;33m=\u001b[0m \u001b[0mquadprog_solve_qp\u001b[0m\u001b[1;33m(\u001b[0m\u001b[0mP\u001b[0m\u001b[1;33m=\u001b[0m\u001b[0mH\u001b[0m\u001b[1;33m[\u001b[0m\u001b[0mi\u001b[0m\u001b[1;33m,\u001b[0m\u001b[0mi\u001b[0m\u001b[1;33m,\u001b[0m\u001b[1;33m:\u001b[0m\u001b[1;33m,\u001b[0m\u001b[1;33m:\u001b[0m\u001b[1;33m]\u001b[0m\u001b[1;33m,\u001b[0m\u001b[0mq\u001b[0m\u001b[1;33m=\u001b[0m\u001b[1;33m(\u001b[0m\u001b[0mM\u001b[0m\u001b[1;33m[\u001b[0m\u001b[0mi\u001b[0m\u001b[1;33m,\u001b[0m\u001b[1;36m0\u001b[0m\u001b[1;33m,\u001b[0m\u001b[1;33m:\u001b[0m\u001b[1;33m,\u001b[0m\u001b[1;33m:\u001b[0m\u001b[1;33m]\u001b[0m\u001b[1;33m@\u001b[0m\u001b[0mx0\u001b[0m \u001b[1;33m+\u001b[0m \u001b[0mC_block\u001b[0m\u001b[1;33m[\u001b[0m\u001b[0mi\u001b[0m\u001b[1;33m,\u001b[0m\u001b[0mi\u001b[0m\u001b[1;33m,\u001b[0m\u001b[1;33m:\u001b[0m\u001b[1;33m,\u001b[0m\u001b[1;33m:\u001b[0m\u001b[1;33m]\u001b[0m\u001b[1;33m@\u001b[0m\u001b[0mu0\u001b[0m\u001b[1;33m)\u001b[0m\u001b[1;33m.\u001b[0m\u001b[0mT\u001b[0m\u001b[1;33m@\u001b[0m\u001b[0mF\u001b[0m\u001b[1;33m[\u001b[0m\u001b[0mi\u001b[0m\u001b[1;33m,\u001b[0m\u001b[0mi\u001b[0m\u001b[1;33m,\u001b[0m\u001b[1;33m:\u001b[0m\u001b[1;33m,\u001b[0m\u001b[1;33m:\u001b[0m\u001b[1;33m]\u001b[0m\u001b[1;33m.\u001b[0m\u001b[0mT\u001b[0m\u001b[1;33m,\u001b[0m\u001b[0mG\u001b[0m \u001b[1;33m=\u001b[0m \u001b[0mAc\u001b[0m\u001b[1;33m[\u001b[0m\u001b[0mi\u001b[0m\u001b[1;33m,\u001b[0m\u001b[1;36m0\u001b[0m\u001b[1;33m,\u001b[0m\u001b[1;33m:\u001b[0m\u001b[1;33m,\u001b[0m\u001b[1;33m:\u001b[0m\u001b[1;33m]\u001b[0m\u001b[1;33m,\u001b[0m \u001b[0mh\u001b[0m \u001b[1;33m=\u001b[0m \u001b[0mb0\u001b[0m\u001b[1;33m[\u001b[0m\u001b[0mi\u001b[0m\u001b[1;33m,\u001b[0m\u001b[1;36m0\u001b[0m\u001b[1;33m,\u001b[0m\u001b[1;33m:\u001b[0m\u001b[1;33m]\u001b[0m \u001b[1;33m,\u001b[0m \u001b[0mA\u001b[0m\u001b[1;33m=\u001b[0m\u001b[1;32mNone\u001b[0m\u001b[1;33m,\u001b[0m\u001b[0mb\u001b[0m\u001b[1;33m=\u001b[0m\u001b[1;32mNone\u001b[0m\u001b[1;33m)\u001b[0m\u001b[1;33m\u001b[0m\u001b[1;33m\u001b[0m\u001b[0m\n\u001b[0m\u001b[0;32m      6\u001b[0m     \u001b[0mu_trj\u001b[0m\u001b[1;33m.\u001b[0m\u001b[0mappend\u001b[0m\u001b[1;33m(\u001b[0m\u001b[0mu_opt\u001b[0m\u001b[1;33m)\u001b[0m\u001b[1;33m\u001b[0m\u001b[1;33m\u001b[0m\u001b[0m\n\u001b[0;32m      7\u001b[0m \u001b[1;33m\u001b[0m\u001b[0m\n",
      "\u001b[1;32m~\\AppData\\Local\\Temp/ipykernel_6708/2824256371.py\u001b[0m in \u001b[0;36mquadprog_solve_qp\u001b[1;34m(P, q, G, h, A, b)\u001b[0m\n\u001b[0;32m     10\u001b[0m         \u001b[0mqp_b\u001b[0m \u001b[1;33m=\u001b[0m \u001b[1;33m-\u001b[0m\u001b[0mh\u001b[0m\u001b[1;33m\u001b[0m\u001b[1;33m\u001b[0m\u001b[0m\n\u001b[0;32m     11\u001b[0m         \u001b[0mmeq\u001b[0m \u001b[1;33m=\u001b[0m \u001b[1;36m0\u001b[0m\u001b[1;33m\u001b[0m\u001b[1;33m\u001b[0m\u001b[0m\n\u001b[1;32m---> 12\u001b[1;33m     \u001b[1;32mreturn\u001b[0m \u001b[0mquadprog\u001b[0m\u001b[1;33m.\u001b[0m\u001b[0msolve_qp\u001b[0m\u001b[1;33m(\u001b[0m\u001b[0mqp_G\u001b[0m\u001b[1;33m,\u001b[0m \u001b[0mqp_a\u001b[0m\u001b[1;33m,\u001b[0m \u001b[0mqp_C\u001b[0m\u001b[1;33m,\u001b[0m \u001b[0mqp_b\u001b[0m\u001b[1;33m,\u001b[0m \u001b[0mmeq\u001b[0m\u001b[1;33m)\u001b[0m\u001b[1;33m[\u001b[0m\u001b[1;36m0\u001b[0m\u001b[1;33m]\u001b[0m\u001b[1;33m\u001b[0m\u001b[1;33m\u001b[0m\u001b[0m\n\u001b[0m\u001b[0;32m     13\u001b[0m \u001b[1;33m\u001b[0m\u001b[0m\n",
      "\u001b[1;32mquadprog/quadprog.pyx\u001b[0m in \u001b[0;36mquadprog.solve_qp\u001b[1;34m()\u001b[0m\n",
      "\u001b[1;31mValueError\u001b[0m: matrix G is not positive definite"
     ]
    }
   ],
   "source": [
    "u_trj = []\n",
    "\n",
    "\n",
    "for i in range(1,total_horizon):\n",
    "    u_opt = quadprog_solve_qp(P=H[i,i,:,:],q=(M[i,0,:,:]@x0 + C_block[i,i,:,:]@u0).T@F[i,i,:,:].T,G = Ac[i,0,:,:], h = b0[i,0,:] , A=None,b=None)\n",
    "    u_trj.append(u_opt)\n",
    "    \n",
    "u_trj_opt = np.asarray(u_trj[0])\n"
   ]
  },
  {
   "cell_type": "code",
   "execution_count": null,
   "id": "82271584-aae7-4310-bed2-427f12fd41ff",
   "metadata": {},
   "outputs": [],
   "source": []
  },
  {
   "cell_type": "code",
   "execution_count": null,
   "id": "bed8742a-a4e0-4b33-b3cb-7a8f75d9eff0",
   "metadata": {},
   "outputs": [],
   "source": []
  },
  {
   "cell_type": "code",
   "execution_count": null,
   "id": "69c1d164-c0b7-4c9a-8742-8d472c3d5845",
   "metadata": {},
   "outputs": [],
   "source": []
  },
  {
   "cell_type": "code",
   "execution_count": null,
   "id": "f06f257c-996a-423e-817d-3e1744fc431d",
   "metadata": {},
   "outputs": [],
   "source": []
  },
  {
   "cell_type": "markdown",
   "id": "f4e53f8d-0765-429c-9373-4791030103b7",
   "metadata": {},
   "source": [
    "### Plotting the resulting trajectory:\n",
    "\n"
   ]
  },
  {
   "cell_type": "code",
   "execution_count": 585,
   "id": "5063fe57-53e8-47b9-9c50-ce17dc31b593",
   "metadata": {},
   "outputs": [
    {
     "data": {
      "image/png": "[encoded data removed]",
      "text/plain": [
       "<Figure size 684x576 with 1 Axes>"
      ]
     },
     "metadata": {},
     "output_type": "display_data"
    }
   ],
   "source": [
    "plt.figure(figsize=(9.5,8))\n",
    "#ax = plt.gca()\n",
    "\n",
    "# Plot resulting trajecotry of car\n",
    "plt.plot(x_trj[:,0], x_trj[:,1], '-r',linewidth=3,label='agent 1')\n",
    "plt.plot(x_trj[:,3], x_trj[:,4], '-g', linewidth=3,label='agent2')\n",
    "plt.plot(x_trj[:,6],x_trj[:,7], '-k', linewidth=3,label='agent3')\n",
    "#plt.text(1.7, 4.25, \"Initial positions:$(3.5,3.5);(1.5,3.5);(4.5,4.5)$\", bbox=dict(facecolor='blue', alpha=0.5),fontsize=13)\n",
    "\n",
    "plt.xlabel('x position',fontsize=13)\n",
    "plt.ylabel('y position',fontsize=13)\n",
    "plt.legend(loc='upper left',fontsize=13);"
   ]
  },
  {
   "cell_type": "code",
   "execution_count": 504,
   "id": "c5ab5af4-5c93-476c-a770-313ba7e30030",
   "metadata": {},
   "outputs": [
    {
     "data": {
      "image/png": "[encoded data removed]",
      "text/plain": [
       "<Figure size 576x396 with 1 Axes>"
      ]
     },
     "metadata": {},
     "output_type": "display_data"
    }
   ],
   "source": [
    "fig = plt.figure()\n",
    "ax = plt.axes(xlim=(-0.1,3.6), ylim=(-4 , 4))\n",
    "\n",
    "ax = plt.gca()\n",
    "\n",
    "# Plot initial line to fill in as we go\n",
    "line1, = ax.plot([], [], lw=3,color='r',label='agent 1')\n",
    "line2, = ax.plot([], [], lw=3,color='g',label='agent 2')\n",
    "line3, = ax.plot([], [], lw=3,color='k',label='agent 3')\n",
    "ax.legend(loc='upper right')\n",
    "ax.set_xlabel('X coordinate (m)')\n",
    "ax.set_ylabel('Y coordinate (m)')\n",
    "#ax.text(1.55, 5.6, \"Initial positions:$(3.5,3.5);(-3.5,3.5);(4.5,4.5)$\", bbox=dict(facecolor='blue', alpha=0.5),fontsize=13)\n",
    "def animate(i):\n",
    "    # Plot resulting trajecotry of car\n",
    "    \n",
    "    \n",
    "    line1.set_xdata(x_trj[:i,0])\n",
    "    line2.set_xdata(x_trj[:i,3])\n",
    "    line3.set_xdata(x_trj[:i,6])\n",
    "\n",
    "    \n",
    "    line1.set_ydata(x_trj[:i,1])\n",
    "    line2.set_ydata(x_trj[:i,4])\n",
    "    line3.set_ydata(x_trj[:i,7])\n",
    "\n",
    "    \n",
    "    return line1,line2,line3\n",
    "\n",
    "\n",
    "anim = FuncAnimation(fig, animate, frames=x_trj.shape[0], interval=200) # animation doesn't show up?\n"
   ]
  },
  {
   "cell_type": "code",
   "execution_count": 507,
   "id": "1374ace4-0974-4bcb-9254-57d81047a0f7",
   "metadata": {},
   "outputs": [
    {
     "data": {
      "text/plain": [
       "array([3.5, 1.5, 0. , 0. , 0.5, 1.5, 0. , 0. , 1.8, 2.4, 0. , 0. ])"
      ]
     },
     "execution_count": 507,
     "metadata": {},
     "output_type": "execute_result"
    }
   ],
   "source": [
    "x_ref"
   ]
  },
  {
   "cell_type": "code",
   "execution_count": 508,
   "id": "a0c92d20-2da8-4ea5-8b7e-eb92aea8a029",
   "metadata": {},
   "outputs": [
    {
     "data": {
      "text/plain": [
       "array([ 3.5,  3.5,  0.1,  1. , -3.5,  3.5,  0.2, -0.5,  3. ,  3.5,  0.1,\n",
       "        0.2])"
      ]
     },
     "execution_count": 508,
     "metadata": {},
     "output_type": "execute_result"
    }
   ],
   "source": [
    "x0"
   ]
  },
  {
   "cell_type": "code",
   "execution_count": 505,
   "id": "32d3fa92-2903-4df9-9cef-2b599c9a87af",
   "metadata": {},
   "outputs": [
    {
     "data": {
      "text/html": [
       "<video width=\"576\" height=\"396\" controls autoplay loop>\n",
       "  <source type=\"video/mp4\" src=\"data:video/mp4;base64,AAAAIGZ0eXBNNFYgAAACAE00ViBpc29taXNvMmF2YzEAAAAIZnJlZQAAMgttZGF0AAACnwYF//+b\n",
       "3EXpvebZSLeWLNgg2SPu73gyNjQgLSBjb3JlIDE2MSAtIEguMjY0L01QRUctNCBBVkMgY29kZWMg\n",
       "LSBDb3B5bGVmdCAyMDAzLTIwMjAgLSBodHRwOi8vd3d3LnZpZGVvbGFuLm9yZy94MjY0Lmh0bWwg\n",
       "LSBvcHRpb25zOiBjYWJhYz0xIHJlZj0zIGRlYmxvY2s9MTowOjAgYW5hbHlzZT0weDM6MHgxMTMg\n",
       "bWU9aGV4IHN1Ym1lPTcgcHN5PTEgcHN5X3JkPTEuMDA6MC4wMCBtaXhlZF9yZWY9MSBtZV9yYW5n\n",
       "ZT0xNiBjaHJvbWFfbWU9MSB0cmVsbGlzPTEgOHg4ZGN0PTEgY3FtPTAgZGVhZHpvbmU9MjEsMTEg\n",
       "ZmFzdF9wc2tpcD0xIGNocm9tYV9xcF9vZmZzZXQ9LTIgdGhyZWFkcz05IGxvb2thaGVhZF90aHJl\n",
       "YWRzPTEgc2xpY2VkX3RocmVhZHM9MCBucj0wIGRlY2ltYXRlPTEgaW50ZXJsYWNlZD0wIGJsdXJh\n",
       "eV9jb21wYXQ9MCBjb25zdHJhaW5lZF9pbnRyYT0wIGJmcmFtZXM9MyBiX3B5cmFtaWQ9MiBiX2Fk\n",
       "YXB0PTEgYl9iaWFzPTAgZGlyZWN0PTEgd2VpZ2h0Yj0xIG9wZW5fZ29wPTAgd2VpZ2h0cD0yIGtl\n",
       "eWludD0yNTAga2V5aW50X21pbj01IHNjZW5lY3V0PTQwIGludHJhX3JlZnJlc2g9MCByY19sb29r\n",
       "YWhlYWQ9NDAgcmM9Y3JmIG1idHJlZT0xIGNyZj0yMy4wIHFjb21wPTAuNjAgcXBtaW49MCBxcG1h\n",
       "eD02OSBxcHN0ZXA9NCBpcF9yYXRpbz0xLjQwIGFxPTE6MS4wMACAAAAVimWIhAAT//73sY+BTcgA\n",
       "DZc6inof4RWx9JBRerHZoGTqAAADAAADAABOFqne+b9ctAjWAAAHvoP/Bav8QH6G+F/i16OeenmR\n",
       "Tc9kU1NHUFljgOWaIdqKMoEjQNzClv4d8e9Yg39XNTyanFDGjP4rGoKgOZbCRJVsYyXQ6OG/DefP\n",
       "7zz9xzAd1mTmHJnM7xkTNgGR8XATugSfsciuFzg1MkaFXJLhcz9A82jVFHRiUFq9evlXc75oQFqq\n",
       "f029vRUfneqQiBSZzP9MNsNPC1V7sRt3Xlr1DpH235cFlMZX1mCoC23kwxijJrZj9AN4779pZ7Vj\n",
       "SdsZRXjeYDkVuybekmMdyGCZYxHL0LzDn/ukqWWI013AtRvR81PeCvbmHd+FDHa+aUV5Fa/+pBGR\n",
       "w2Kyv95ul2+ZPtZJWPHQyU+6XKHSL9ArNXxcfkfzT5wFWgfA81gzqrgVKoFT2mRq1oiwdFe0tcg2\n",
       "2oSY0OZwwR8Rby+/Jb0zHHaCDTg/MGUQkDpgqokrBsa13XiDGGldq3jkRq6on1F4zXBsq4oTLe1M\n",
       "aufJfOEsL3+d4kCWTywRKR19YmA9APXIBnH2NJ0n8W91LmI1c5A/K2YGFAWiPhIBSJzZWk7OW8Dm\n",
       "a1AIzvmpje3Ju7zkvgv/dozWSu6glk4IY9fD1SK/NVCxQ4q/R7zlEO6ZsYyjoTNLpXwNwxgA25Hw\n",
       "S6A/3mUUtka7yPXe374fqNvAU0ReVGkvKyBhICqVf54MHO/9D334mVgXzqHowX8OD2/y8TBd7xBJ\n",
       "iySfgGNVJjoiJkhEt2dlr1g+GJ1k1+NaVvlBuWzYBOtPdo8Y2o8JoOVm7uq5zDi5u+sRso7rosvZ\n",
       "UI0tJIJ0+PI7owURGaz8XXlNw6q9Izy96O/s/fZstDJDl32dryJS+zy/v79iu+EMzbLNGkKmA2ae\n",
       "oyeZQnhagJZDgbz9iOhbgQbPsbcp20eeZHa3zsQ3Ii3+sy4H9HtEDi9ZRhY/zZIz7ixqhGWroLy8\n",
       "NZpb9FAz0wamctsjqsYr6MaTk01GS1OH+rYT8LX3QUmF5syUNcEdblcNwEiZ3kPOh/PXuQ435RLk\n",
       "EISGx6ZMsw6ztweTM5QMyGoDj43qz0xOZotvwhLB7Wl1JxXDw5YWgFc3Oye+MXHpHpMF8SEqZIDy\n",
       "bZAE5/sEE8rVbzMzaAmMToCrUTN40CCovXGCi7B1H+nRMEw0CDr51KQPzQnN3dcWaXG3bpO1GS+M\n",
       "M0Z5YyFq0OpLvkVN5MUqKPbuRaZVlA6KzjYGgzG4zK0psds7WXwhxOByLxE2YVyR6MHVqKtyR68n\n",
       "uf6lvMbMy0n+BTnSdLomNPwq//ceQ2pQ/ut5790n0wKBbfTGqT9JRTSjHHMwQp+Owd8KK3hzyvL9\n",
       "JTRvqwhfD4aBmk4ohwZioxHaJJmGIEZv/92GpRhmMV76Kizhpo+mXtZrs8xRNNAqYrF9SjR6Np5p\n",
       "n8mOB6oCUaXKZ1ENK37mP/DRBLnx26cLl69CReD0zXzMTnwPvzxXTemNFB3TwKf/cMXGNapnrvVB\n",
       "Vpjadesi+kt/DmLihlrsUo4s9FBEksrFW59uM/G50S25wlWzTZjE5RxSLAAQZNK2rPQnlwZdvreW\n",
       "7pH2Y/n/gFFhqGAWfoo//SlsxWQVSlVaxQXtB4OPaxyjo+7Mm+NwTAI/8f+J2x3I2DVNyg6fxmgr\n",
       "pS4L7Do+lQLzSqhsstb45ZG1l8x4nI/vXvMhmElQhV13XP5YmQf+IuyP9Zn87Pl8eGy80EaEHZrg\n",
       "N1mP/9U9owhr24zGvsKh5NwfzX8R032Lr36K1RfQT7urgRYSwHknu24zVddqKQnHP3JOLy4eXLtm\n",
       "OT/sMW+1hcHYx2BidauWknfjJGuqxXY+Q/BT1MYVhJ5Qy/Dsa+/4QkliCeTustWKbWxQBtZu84YT\n",
       "IDge9EjyqYQRvWNg42FBKQzj674vQCVUpOUrwovhbyDCAFFWFIghfBIJbDKJiKwXrbQzlHKpQjw7\n",
       "XGrTr0NuCX8hw53/b/VTg28Fn33CErlOQmqTYVr6QFsohzVa4sWUVgBvIyHHi40KAitkxDga3vl9\n",
       "jhmTAkUloWe9D/SYRCJhMzSxoSx4DqAUWSjDsMtZzU3zNIch9yl9jqLDJ72Drkr6CmLdCN9/k1CF\n",
       "OdZ+lkgpZNrjY4MrTApgPIqmL/x+42TOxowl4LsH/xaUlXNGEo0VL5rT2d5meVwtv1bU5wFHTKX1\n",
       "RQ+dVqIMGoz/rm0am/jmsLDkVVnX1KbLBmBEPNvenW93QknBy7UVb/VRKAd9LMB6eAVz+PYJdIQC\n",
       "wOUpO/W8CR850I5BM+U/RjEB3erDRHtmFjg6akbtaBJ1NI7MAdCwIoqzZVJKK4wxuxYSgPkr5udW\n",
       "m69qMbWN71HtB2bqNzaLPUuZLRF2babVA121dCje9tv2obVpApiUSC0IEoyxo33aHKg17Z9CVTew\n",
       "PZP6//63Aac7Alu3Ma0rIH88QKFDIGHoPD9q8v/f1m4+BsS6XW03mWJ4982dZWkSbB/71enSLAAB\n",
       "AMU20wHdHtZrQdYcSsYdzVDbYY5Qi+r2J76yeQAlAntudfAADn3nysz7t7vqc75eq32kiFiKGQk9\n",
       "WID1fCbgpPjN4ze4axOf+c7dCnNi22+omirN4dwFQMHP1Uxnwlg80fVn565I9sI8xAB/aLGwmP/G\n",
       "AhqrYGBQjM6r/ROf6ETUwvnpRFm83s07kNilvaP2af3CJLTaZgC/MQkMgw8FvO/FdJraBdE0t5Xt\n",
       "sCieA/zNcTCLPeB9hrwWYfO+GYMTUbqIUaf/1jbslflHUD4BdfYiZaaMDOdtZ8sb1M6tKblcTsXy\n",
       "KAKUdskdwjakVatgLIco4td8HhEWlzGzheDZx6AzKM9WEeEaq4fUQnhd+tOH/73FTMluOGZWg78V\n",
       "YAI/ouIqrxPZUVPuc8yjBHWxBj0rZ+1IpPvmrYEoOyYWLagRIJYZWJHtJR5Q6rWNo58XT9Gg93Lz\n",
       "MFyIFdXFtyYbI9xed1ixsMPYDxl+4ku59xx8Qe7Fi3JZjO0YTWgmoNMAhgBK8JSMqCqGlEW2wAOb\n",
       "QmVaTu1rLG8Yi5hH51Tv30lW+XfacGCAbacDE9sm9hb/0nb9lmbn8k3pGPGu3I/no2soYB02CgGC\n",
       "c2dzQ91pq1HqmeictDq2d2UYd5h+wOHoiTNMC9E0P9Z+v9EIIOytRNM+jMKLHoAQmBeSoiy6oP2p\n",
       "i7yo3XKDu7oeZbv4sSmeiuVpaYrjO1nrDsBqlB4NfWGq5Kpr2usCQhgJAJ8fG/klMulBLe72AQTp\n",
       "uu8YFmoq8KpoDfkmm3IjnARjSFqhA6K6YtUBEjY6JR0/nNZQbC+MqNkVhTtxmZ8thhjLQFmHtBjj\n",
       "q66MVDKf68fifTCOeFsOfWya3zf0dW69DKpAUorA5cyDRSLAEdYcVnoOsW1j+FdoKKs1WQy95ap0\n",
       "kPVWz3hIw1pdlUPcBDKCCPbu//9wmAV+eGqOs5+j8MHnAZA5heoTyYNWnQqowWShGPvA50CdLy1g\n",
       "GSS3oNURzySIeH12K4DpoYKsbPnhsf8oRUGHcQEQFkt36n1FZuzLrlYtR+swaG62Lpzw0cyaSTqX\n",
       "ndQvJGeLZ291PUocw6kf92vbzMbIlut8X6ztyw5Wx3gE4V0vU/1zd2m7K3sXeqLhs3Xa1/P7+zYR\n",
       "CDQRwmdbUTch94bREqo3n7sWPLH7SV5lFA8Y/VVEjkjVEGGt9O/h8fcxGA0qJgzs+r9iiHesBK4o\n",
       "qAmITuZGoP1V/j2eNer+Otb+jMFYdOA43d+edfrUI5mbQZ8BmSJl6Mdu7VxE6P7TooJqswU4UaRX\n",
       "N21c145+tAkQrJp4+oy2m1OFiqzgMAzEVzPojV86kp/pqSmyd8ApwFFfZrtLnMPnp8CFcSzmdqne\n",
       "ewRcVPJHLjr2WOLDmjCQZ6UMRvdmFIOe/+p9ayX5klt9a4UhlE2AJt0nok4jhEYqg7cmPJpnaZ6M\n",
       "ZqUczNOS+YS1c/Hf7XAUd0FlsQ5t/EzjfXSHw1mSq2cQt3qDZ6KTw4CIYUnXxXeAujG/FiJwmq7p\n",
       "wKekbxeXFOkNI55cDezfk61pD6SzIaGogjBfUnzcVqjClepIWTudC1n/4W8pTelXK2AuaNmIMVvb\n",
       "NYK7shRxSTEHwXkBGjfwXjHYUAk7ZzVwQF7zTJsFWCGDbn6zxjIDa7/m4MkLEyfOMkv27OryVVEU\n",
       "PJIAbkuACMrQjoMMyBVCRxDFahralzAA7yRx45j7IZgVkx581mM/GxRwLym60Zs48Z73R/vV9YD9\n",
       "NK27zKXSSNIHEuMsWunMU3DUYwmqE+bPTQdJdhOI6QTSgnrP8wiShm8odPxQ4T2BBa571sXzmtt2\n",
       "+Psjv7ckAAANW0xrrwxKfebxq3l16J1xFIeuKRGH8bwiU2yUDuhr83ZHi/tp+IaBYaXRoMOCdLqL\n",
       "1gmPOZrGoALwa72JWHzXJ+AvOWb+5GwR2qrn7NzoxruVsbLoA7tkwc+jZqvKx/89Eqm9tVpb2067\n",
       "ZyA/90L6ittd6ZDM8I61xgKKXnn/pWxx4Zq8YV5JGLFS5Wb6chzJjsU2MPnd/xBC98Oz4D3cI43N\n",
       "Inj9SmvnJ1HsFMV8sUgLcAPXG+C9rkNvYwENyh8ZtKSkVv5BDWIwAXSO40tsW0TdS8uyv4eHMe4M\n",
       "ulbWP1zamK8s3HtnVzYDuK811F0z/I6O0PR2NMNZ4B7jasbEv+ilZmSoEqTSeQsxMuP8wC0RH5I7\n",
       "/8veZBuZAghNpDRU+DYyxnOw2tzaZvmW/fGoWdIoDhbBmcTpEsl/vZ+q2o9qB3Ui4KQd4KemqIAs\n",
       "wR49zykt3GsrvYBPfWKfGToHYyReY3FMVbp/eQOf/c0nYM8KZDSJv/mBzGJ51QcK6jZMBhW/GmSw\n",
       "1G9hcxmNR7EjCqoLpselfcLeq0BAsa4XfyLd3faQv3+6IaUs+0oQSTs9MtgDnZkivVtj3TIV1R88\n",
       "YC1kNbq8phS8pBDtNvs0gEgRtQCLSD8MfpgdYMaqZJVGMdCMN6X12R9HJyks4BozEAzv06jGRcIG\n",
       "8bCD1f1Pej7ZIPGMf4605Mkd3wanJ0jUo8zfW8JhqJgAB5e0ijFOehsO/sDGvX92T3LZifDApP2v\n",
       "1plcFsOxYeOpJ/BwUUTytHEqtmNFnAds3WbLfpTren7ZsCqN+B+wkZmX9bBVFZF64lIXL/g+vPFq\n",
       "GO2eSaBQ2x+0w12aPVcT8KTysNEdzkBo84lvRKcJO1FA94VWOlf1uo1vKUuYlmWZj6NvYL+y5d36\n",
       "GP8nLPlA7Mn1/sPKR69n9wr3Jb8aEQxAa9RbowkzMV7X1WCIiOu0ndU29da7UnYNP0Dvy0aBbdpk\n",
       "wZ1EkUP5jzXe2oeeUyxTi/1MHUUEyWjwuOS9/9GXp/SabA12iEkOT5qWa0uDdL146sUY5IP7fDvr\n",
       "xp8Se1+LWgEAcc7bl1yw7MOhxGBObymt7jbwq7oxxcP/SiBIDPwTbsC+gYe1/KP2cxmTY4h6TfN8\n",
       "jsBYwSxcd2bmf5E0sHYv98HkKJZm2B57EkVFU7JZB2nR1vsA/FLOMxxdrtcaG9lQmDKmsTDnwLOI\n",
       "DtHoTLMFiEeukrw8k9+swl1Az8q6fAaXTKPU+V3troxhIwIRyAXACvFgqR1TQXPtJsPFxzX9MXgT\n",
       "/FKFZUvOyDog47GxQZGeIUvjEtDRDJ/J8ejMZB95oAK53TRvHY/fS5Gg/lr/fa24FYDVZ1O9fwKy\n",
       "VkxuS8xU+jwJYX1Dfqss1QMZNXsGW4wrWd7ARtKmTFNAfoOY2a2sGVbhUW7m3iRo3PAFJ+wqG2jK\n",
       "uKaK0QMZa6TC9d20oVWsmI/nrRVro+ccM2qmcxmJIfOGud0bmr1w/mJxMlV+F7vwQTG9ckpVDMbD\n",
       "sLilW8t9s9SQAMcUVV85rmxNRamupQD5deHfi0tqg/ksto15uDD3LZqiXPH/w5RFbhAN+rywUd3o\n",
       "ai6BsrITMCtrIzPVrS2u4V8D9kd9W6t/5U/OlOiKrRGKvRFUEuG7xwdbzDKgSY1NVU6H0wNkVHAl\n",
       "hYc7Mv6cep4TdBsqEZ6/RdjzCq7CpuSfwCeuFtb2ClHzO8c0Jtrz3jBt+IBYVbEpIqRXiyn0s0VI\n",
       "0tWZlf24QConwbUjj6leHTVBjMLcIaENwOp9b9/aH3oIjugTUai74JtAK8t7bTdnT0B/lbqcY1ic\n",
       "wrlfnQC1F3NZ2uPGdMagEi4UA68uBHMyhdJf0JFOaEk4OWA2ITKtqhELNgDmsGiS0ndINdol/Pt5\n",
       "4//Ohtyvgg5o9U0LvBJUIw3qrPIPP+hBgCh9dvePcc/LoPmxe5nAfAYvpqnRMeW6jiXdvB9evIf8\n",
       "GPmW7eCiPVTHZa04intc72n2VGA63Q8b8mNyFK7Ul960AE2ZCBfYJxbhm3YokJ+3VBsyJyBPTzIG\n",
       "2sPHvbsvfu9O+AGKBpAlJklQZOyBikO06gyjtkRpG/380pC+sCQ98OxHEsJ/KQNoE91XFoywx7w5\n",
       "r/ThPZzrbdyNgiJoj+4P1dAnOtEqghbOa2XNjrcSivKZ1pD8sq66myOFYPr16usyzTSdstGHx3yd\n",
       "2aXPw1g5qcZqXmvSQpRKg6K4Hvs4AQAFajrKH/TB0CS86FSPkeKKUBWKXfC/nvBxWHn2xNl0/hq7\n",
       "FkAAACBhmApec6EbJIoM+vG4OEC4tx/DyTqmyGAiAqy9nK+GAtTVQpUjbGgVh6Jb/P2rtS3+MAAR\n",
       "J4XZLsheS5ijSrfoBzwaRE3z52aaljuvykQ9WQEPcVUMT3XZ6qH/Uy2ufAP9K/9s/bbQG9RoIrz4\n",
       "EnPMX00J3aMDvZ8KKC44KEq5yqb0k+t+BofRJjQ/r8oLNe89t605XaZfpd/fAGNsCFwtkSW5/X+g\n",
       "PefsGUMAiwQVs29710rcA+6VxdXnvMADwI7nC7Jdv9K7JvhS6+1rmQIN2gUe0yPTMePvZCY5oypl\n",
       "cApEPj8EWHx7tTxOLLJjKw4SLPO+yMQuPow0Ee94V+2iujDbsSG5ksh5ZoJN3g+kDsBC14UyUv1/\n",
       "L2GtzT2gRXoo5vIHCqINqWfuMsyECngh2trvSb2k6B0vXRRZCjRtswDrEFrk6lbJKjLmcwLWRBEr\n",
       "nZBBRbyAdAdrHQSsC3Y9WshA9q2YzvIzi0ZIue1kezHsUQ2dvZa+SxF+rv0YB5m43oopq4G3+qkl\n",
       "2iZ8UQFn3puWAx+Paf+p64KLSqfuEj2mvOWj9Vo6f8RCn6+TLnVoLRulkER2Jws/Y2deL6u3SHlf\n",
       "FLBJZ1YQyJanzZQ9lOwPNY8YloBr6D4RbQysy4KGeTczhNy6a4WeSRRYXZZoXYBCkKjTher39J5H\n",
       "8+Tqga7Vjha5/d7VydwV9pDT+2KdDxgAAAMDxwAAEj1BmiJsQU/+1oywAPm6IgAtJ0666u158Ei3\n",
       "DVJxT7LXZVZ8dRSabCFQWg/BAJIriOoIIVDEzilV80vi2oTkbJypzqwxn+ATosGYTF9dUQ96uz/K\n",
       "b17KpoAAtF/8PC8WDAe2zWTPNbbZsaLUvMiQ3eRGdqzH7OlWJwuh7sdu9JGJZUYDnkhrzZYKBblp\n",
       "gafGk+AG0uO2nhQiygy/H4XeIByQj1B+z9pZXFXJ0caBFFU3GCB27TDoxKUzwyC6RXzNL+in/d8X\n",
       "OythoiHHAxwE3fioMfsQ9+I/OSTJtORr/nZuDLWf0tPdYHSS8xfxKO6YrSwKcWcsqlhxFgtinnaP\n",
       "CqmDhk/6bI1i6PdMM9qavUaPk8DByBQtFUMAkR50JBjHzAbBXS6g1bWyV7THickWaY6fpoRSkOig\n",
       "27ZkxUG5bJ7tLQEe+MSTOGK5lfly1QwR0BKJeum9ykhXNWPzW7zA0a8qXn9QChlCBu0Nn7fguDuW\n",
       "KPyCeXO89q40Rtrs97tazDMA4AR0dzJ9pcgSF1yQvxWItJV3wB4yCU4bvgmQe50Byvy/hwIOPg4/\n",
       "i89+DSh9FykZfKmbaQXqb33oDHAVUsqkhKKLrj2L4sO2WDmPhfp7oieV35+0l4I3tB7VMwAZtaH0\n",
       "zV7PgEcZnLsPaOuEwBVNFPJTudyT3WDkKf+l5QX+VbGnGD+82MUOh0zeAiPzOaIjyjrdnf9uAA43\n",
       "5rfRGoig/jSLV+YCCmyCEo8UY9b/Kg1iwPuQqj5xbmJTqyUxDxSUg+U7R2GHmIOWA38/43VZK4wx\n",
       "KDzN0wRPCFJ+O7oN7A4LnCS1D6/kg8RH30DRwF4sTRd3P/qWL8txdp5dva12YSchdSfywzCe587V\n",
       "w06Sv2BpqnOq8Mpkowv+3wmBe+LVf9jjN0eEql2dU3dMZCorflNN019PnxgX5jXdH4IUSw26QEkr\n",
       "iH3FX40fEWaTnaGQteXiby8qFEeud12RMDkrd1PIpJFRs4lGnn9Bpw2w28A/pyI5NE+5d2H5WwqH\n",
       "pm1eReLXgLnioxJicEI50o5lZw6C4lLAATFH7djnd2XsT13MelmA5MHJ2gZHBA3LcHxvMXoKCmLg\n",
       "1nOT1UHVXZuGHOEP9MDB10nJY8sxApoKSJJNNIYgUDvJNKPsI8yQipbcgn7K08SCgMA9H4SbPl5Q\n",
       "hmESCHCqtLvrppYjp+x6h3LbODxZoTWEF7VWVyhsus/E4zX2PqlMd6so3K6PJuqgV/3Njq347hyE\n",
       "HM/Lb3s8j7ogk8Efbn5z9vTy+NT5Eln23qxaw0i2KLwPO9B+yD02FOpgMiTHCfrPnoJeHeit9lOA\n",
       "s9v7EGgedTk+JB+O5ap4PaghRpyxKEC2lzz47dhgBOJQPqAMvpLGJukrk6KNX5bhKCKpuDsyH25X\n",
       "6Q8l1racUB0mYPMpMoXU41Kibjz/n1P2P9cQlnZKoGwyG9JmJiWV16Ug8hAC5KeE4eN7Xl5ZCXsI\n",
       "BXDyz4jU/aRZz8oc6hYD/xeetip5nOsZFl+Uwy40tebBcB0OlJ273VbskQqU5tn7yOz/wQ8Iz7P1\n",
       "4BAfsFqutgj1MGXxtaLKBTtjUeG+nhCLnRDjRNT0cHB+r9ZoinPasC27vJgNAHA9YPejNSKxKhyg\n",
       "+j+W/smivCUyo6GNXkARrdu0HJT5FW89qnRxwmwm0h+g2ZNEGrLr4QhBxKCISnmX+eP5b2I2XQr8\n",
       "M4NeM5rlEO++hcI5KOqx8QG1bxlKM4beT0AfyWeSPzj9ShG7UQvA4jndd7rMBPhVcQTXRXY8KOj5\n",
       "hbGNgCC6nK0AAF+3nphWcDa3n0QB6xhVbwghiuMdtkvH4c8K+bIdOvxMn8d7F/iHJ7ieQ2x6dNSg\n",
       "xvsXxsapxeuBxq610ZT1DuyuB7+GUYGGNxboDfQ14gFe02JN6sjUGl0VTw3MBx7sI5g9iHcZbweE\n",
       "6myWCbGKkBi4OpmnB3iJHU4krvGAw4CWznc0W5g0w1u3+Rb9FYrTyyruoK40bh+tP1jlaj7Py4+t\n",
       "+PfOeT6DG4WqRGKtoERvbe5IRJdvDeNvFRDGVC8JRcaTTsQkrxzMsX+i/+uTHSZ0WcooSXzXo31/\n",
       "NJFnYfWnI+mn83we1ySGAVS5dN/puHqO4Y7xJpYX3MSffgr8RVcc+6sZGauR7u38kUbYTA+deIoA\n",
       "PDnT6qvB6JVKbYQiAI5C1cQRaYcUbI+lYQFanJKkyCnc0Ell1kCQ5smXKGQXb0ZDrdS7fN6J2yf3\n",
       "NzN0/qHR+euxmJV3mVQauwqpWbsg33qRumQu+gUI1qP2oUOipvx2lM0qd3VmoBXNY0jJUG0hAtX7\n",
       "tJcxahiewwO9ghgEUZd69GBJ0XrSxtpjzgrDmsTXH4QKyDUGF10LCKpYh2sVmfpEdgiMqffbJRP4\n",
       "vHOg6yZHQzKJtvu4pkySgHr8vgg/gXsln9allaZdU8XYXDKnzkuJnfdOdAEhspKPlfzPOKpih4q5\n",
       "vevYuHqhDUkw3Gmp95kc7xFn+KeI1ys0SErwYWG1311viDcsdHZ7+BAq2PpgCDaRrYdnwk07vwYl\n",
       "NXvIqv3AG5hn1ngg2sKInxOop3PeRAdTwk+VSQ0/FVdwNqKza1RPkD/ucRkDDe0wa5/7Dzcwqj7l\n",
       "MZ+ZA54I+9z1xj2n/WnFGc7nA5f/1PWFvpJwWprZUwYd+rmh51pT6qqbEI3dPDBeUuQOaD6CbZ+s\n",
       "tFXz/z4gF8wRtLSgLYSy7+30m19kDa8U5i2yk6mWrffc7vEwdkKyzITTOHkFu+TE7hACPYk5C9wI\n",
       "wKmnipVNqiMR3JMkjY4np+REbTecpxNG8bOnmyOERgqkUCNxbAdixGaHEfc4jdjR9My3DYrVIhCJ\n",
       "LN/QaogR8Sf56W4uG1mLLcyqxb6LSc/EiCQBgUx+AVWJ/2MRlGDR+hWcyZOZH5a6HxG43jMuDSBx\n",
       "mZLjKF7JaacWxVsWD8c2KZ7rdtdp+cjcmteKySNK1rZRlVl6fRPZVZAAtH5awr9lA2WTSxyWyF1U\n",
       "kPLEF54t5t2PM56wdS4iCorO+LGKYj8luTKoabJ3yXpW4G/TN/hlPuma3HOyIhsYjYmRHNVAZ2sh\n",
       "sH9Qti5vzbD6DO5If0bdL2scFdHlyJ1xISdQ84kVPG/Snfh15sAMaRqIHfO6MV6afT8MAzvAlN4z\n",
       "QzQpJKA9wlYy06VOOwLMV3mGVDTJmYnclL4D3acs074P4MjCDgrWbelEN5sfsidqEzga7h/IV+J+\n",
       "VLvRsqb2ER8C2wzeo7Ka1s+7DyFO7jhUUkUjDw70Ixa1uIJDrstueFD+9pri6tl/Mcaz6cDKxvY1\n",
       "Q7yEoxV36feTDluFyYgFTpt7FA2aRpEEXbZ/Lk3hxZoC0Ld640YhhwEovYwO/AXiEqhGhrsBzBsA\n",
       "gKAGKnFuxh1Qeo7VhkgMA+R/G3/x/WYjaN3qMPeWB8bPlaVGCiUimGeqKZtbQ5AHepsLYSaXCeAS\n",
       "jcPMddJyqOemKFUDd5Yhbcv6Q+mB+0yws0pgscv6IchD0zyccdBuPOO2OpQ0zo+O4WozfEkCbGvN\n",
       "9Y6WZB8U7HKX2xZ2YkVSaMROeISN77GlNnveVhYtrsC+qvu+0lTYzav3cJZhSznlTpkJjYUSDPCp\n",
       "8cRnrrN+SwXh2yjsm8yVoqAaKq2GYVPorjFWZhHsa0yVrqt2H0Rn+6uykGOsmRGqtFLV6LEV2cvl\n",
       "5f4xIB9cGewoKNfPIHVZY8kwCMsIKDU04xdC978InwNZ7QVtWgG0ogj7Ymtd2HoR/m2ABRbOMzVU\n",
       "BaNLDdeUCl4CdJjqIM4Yys3nztvzc3GzuQth9ffC2+kIHPCu1XDIfqNGkzhSYOrJcz+D0N3dE2Aw\n",
       "1zhzV+p8//OosNLFK4qmvpLD0HPw4/oEB+/SQrlH6YLmMUMyXjmkNkqz494lM3JZ1XjBrMZl1uJX\n",
       "vq5MuqTX+JebyWmiX/Vl7S8OrwZCSyLCwz98m69GO1jvD/58QhtzH0cbSGH2bZEIqos7tZvJ5S2S\n",
       "u23sYxIlffc8xQ4x9eemJy3cOLI1Xypd045V8Q7HbziBoguWzTnZWqywXdN8q4c6DpXkTllpVvUj\n",
       "vsTmplwF5CejcYTfigJcOizCcq+ELpEB19Ui4uiI5GJbc/0jIObcuGyaxEvXh0EMyWp8c1zNyiLl\n",
       "9jUlpGLhAiWTzkeLB7cPqyAWHQbV2+UmygGP8Z3dC3dt98d7SGICNs/zNTIs816AgiTcwc6BEcee\n",
       "jNoXOYzq3OT/p2sMBUXZZ0ydeDJncpb6iOuXsNatL/190Fg7/DRcVhlhuhV/Bwobe7EGpol0E2IO\n",
       "IREg/xTeUK2xwAPPXmWhF2IAJeG6QVfj+Up/8AoANqEe+jJ/lFz1a2h7SjQUvMycFLUqgvcH88RC\n",
       "2NHpaa+h6Eu0ttjBBnV6CZzsYXCz4tmQUC9CWb//RIfynLFEiE6zl1EEHKlQ79oy/Fqbt6Y1N1Tq\n",
       "OD+Gq7Nn4uY6bVPmumcZxzjstsx9KL4D1s9PykwQnmjt4pmpJbbSOSe3O58Mnn1M/7LauF9nfC8l\n",
       "QlIphkjZRsCKE+xDzaUTL26WELtM+koJ22cqCoQBaO68wyX3sKAyJqtSoUC0WMAfXiLsDyjmunpX\n",
       "UN1DFtDyf85bHe13yMaQ5QBsz7tQbXzr8psZYjnUXG6PGdY3yTzZD7bpa/JerLWBRPaF9Gvsj6oz\n",
       "UxytuWyVJDzV7m7/SZbtwM7TM3ijhq1uRIZO40Wll4ROIuUmsamJZu/dfw7SRpi4hfnPsV6BvMQe\n",
       "/I0MB4VDm4MlAc8ZvHPwPHFkZx2ETJnB4plW8zPLN6tBUHFsz/Y2lyLbm9h1yLCX1XsiosXw+nuT\n",
       "uVKL23SW71enDp7+T31Tuw+VosYbPyjMpX92Sn4KhcjVcyBTJQnrhjpVjANkc8qrcj4r+NL8hvkD\n",
       "PslO5yTbsW44mPTScBqABLUr89XQHrWRAVCGmL1NKFB96VlaXk3+iKBmQsMU+BP8KKQpOeKWRAVr\n",
       "EIrduS8Lt8PMIDvg3MyKfCVmyWSruMRkdsUE1/zj5KJjKQrthCyGkES5XisUFwU8VVCDBAxzgSgk\n",
       "y6lKFAstnSH77M5vdB8idyl8i3Lu7ixoC8vufsjEjYvYWUmFCpyLNShOF2cWGeXeTfLTfU6XGNGu\n",
       "OISag6O5ZpauSRNcu5SO1aMBLA1bmF8ydfW79i5lEW6xKEH+Ubul1YwWE+BSC4sAcaPpksxgzUOd\n",
       "zh70DLG2O6ufDONpRU/HlqrSnwlq04FnfnOKUW8UPmZnIVlXyEOoSSgGsyfWQmzr0zxaPA23i+uP\n",
       "Kw0XZfd2AOpK+jForTN/EjcqzGCsbStePp7FnNI5dhz+fZz3gbz9bm5jVBgNrhCyAh1lGSrb6A7A\n",
       "9VVM9RwNsX8tvW/a7kH5whYLoi7e58IE4h0BbhzSeDl+dIXP5FwRoxJx0DyYiubhBVzIVKxYRlxt\n",
       "39n3Lty7pEAwh6wbx7EWyqXj6OqpZlwZ2yY6l5IhXq/2i4vFRZv1m9hQb24RyaOFK3AtiUZKd/E/\n",
       "k71by5tV6yYSBUoIw4xEkUXdiVCfSPvul7qENxUaNy1wp07Ew6a/HB9oMrUTu6LTtBj6Q7TnL3IT\n",
       "jksLZO+/GB8eLZxLMRPl3FAbwr2CpdDnl5/PaxHLIrrCvbYs/cUJyQC34DBdlZSSeg5oldHaCPNq\n",
       "+6YaiH+q9MdV4oXdIS/CGHrzkxLt8SGRwA0KTy0bN0//yTwEcBvS0wN8N9HbpFTkvi0u6hylGLo4\n",
       "M3CxbZEjMgh/2lLXfJh+02NotBZrCneQB05bVp6AviHUGugy0cytPoNr3qB9gk515AROYiLXlxs+\n",
       "MWF9RVPRtJcio0gqgr6nJSh9hzsJxe1/FSYd3/SgbQ+k0rnXSzh685d3l6/U3NuHUesgmWlAnbTb\n",
       "zKtxqVXcAcCCQfxRYutdPXRYZO+WIWPIJBdp+DpbVTZZdwGmHw8onejqpGuZGQQ4DeuehatcWqsR\n",
       "whdSv3nkXJtVPUjQ0DP5Z5ax9BiHGn3hu6s3VjCp92/czArEkkUOs+2zCDyzeF4aB877kAZcYUln\n",
       "1cEUIhkMgnPOxtLXJaRdLzUSAXBf2i5RdbKpTam12JCdmWYEzcNMYcGuXr2IpxgMZHc2W7N4If8o\n",
       "5cpq1ys4sEYxH29dJbxbIhI5vSr3OcQpf2yJF9cBlLw+pAU3sVPGwG0fzswTDdh1k03zQfS+KrgN\n",
       "QslcAsnajgRJyx3c7bDYPaA9WYdWshvJThdwAAAANAGeQXkP/wAJq0gPAfq9A8QHgkiT7vS2oDq7\n",
       "vC3L8TlwhmIiOSoyrvCPbp5yq+uOZ9utj5kAAAGcQZpGPCGTKYQU//7WjLAA9CMZ7AlwcidEAcbH\n",
       "qj6edy3ytwXF0BNySZv8Wxkuv83zH/qiTiIFqDMYAAZp5yEu4NMmA2dWUjnIq5UXWhrNimDark8Z\n",
       "iIVJaYxJZOIfJnt0halcsoH/YYT9K11e9XSg7xRx6QLQwkg1U5anzVWgFFQxC+vIPkyUK35v4VG9\n",
       "bz96nW6pxZfaDzuA+cryOvLPAl4Tbrn0/txyy64+hdMgO0lcuf/iWkNEsHd2A+D6BNX0xRUhkyzU\n",
       "d1rWVAD/BG7P+23k/riLcPU/KlmnJVD75BMWEwY7bwTfPXVwtgV82neT7Jye4jIsF4+Wtv0pgMst\n",
       "BYuvRfpF+N0wE6797IJ4QMNgviD6LvuWDFRO/JPBn0/D3qdC78wTew2k/XNGvCjJ45igkg7bQO7V\n",
       "soH2hIK9vBSW+7gnQaE2SEwuSgfqGZ/mJww3QLNdyFO0mogOWi4l4VySG+SRMiIdRnsd11fyOc/E\n",
       "H/FCdFmC8CPr+KwSs01VDyf4PBMAmcFySY9TTo79hxMLK9nKq82TRiY/zAAAAD9BnmRqU8EPAABL\n",
       "W2RUtyU8jDwiOpAkAFo20/rqSIkw+yL55mNmDf0afBD0CI4KKcIlPoTtRtCGQ0389/6cAUEAAAAn\n",
       "AZ6DdEP/AACoC39/UCrycvLrABCWrlOGO4S0yR2vx4fPQ/wX6gIHAAAAHAGehWpD/wAAqCPvi78G\n",
       "NHN86AB/s39+4QlgCpkAAABKQZqKSahBaJlMCCn//taMsAAAGyszgwTt3dvwAG884sbEh64sPZLI\n",
       "F1eZwAYxzYq2K4bP0J16Gdr/P7tO7vqGxDOjpMXe3KjuSMEAAAAeQZ6oRREsEP8AAEtbZFS3JTyL\n",
       "MHkB+b2qg331UAKmAAAAHAGex3RD/wAAqAt/f1ArkSxZw8j+gqJ+OzEAO6AAAAAUAZ7JakP/AACo\n",
       "I++LvwY0c2xAB80AAAA6QZrOSahBbJlMCCn//taMsAAjDjrAAtjUpoyPaqhLZkskXGh3Q2eZ/qXK\n",
       "HQE+RcMLQYmTabQL87q/0AAAABdBnuxFFSwQ/wAAS1tkVLclPIswKgAk4AAAABQBnwt0Q/8AAKgL\n",
       "f39QK5EsOIAPmQAAABQBnw1qQ/8AAKgj74u/BjRzbEAHzQAAACxBmxJJqEFsmUwIKf/+1oywAN5u\n",
       "KYgXJqVofUlKDfWviWn8BdTEAFlWYt/7gQAAABdBnzBFFSwQ/wAAS1tkVLclPIswKgAk4AAAABQB\n",
       "n090Q/8AAKgLf39QK5EsOIAPmAAAABQBn1FqQ/8AAKgj74u/BjRzbEAHzQAAADlBm1ZJqEFsmUwI\n",
       "Kf/+1oywAPRBEQACn2uu3AuPMjYWxnSjCpDqJ7V+SZGGOGxZaf8mFmNgwOCsAk4AAAAXQZ90RRUs\n",
       "EP8AAEtbZFS3JTyLMCoAJOAAAAAUAZ+TdEP/AACoC39/UCuRLDiAD5kAAAAUAZ+VakP/AACoI++L\n",
       "vwY0c2xAB8wAAAAsQZuaSahBbJlMCCn//taMsADpQREAA2vVDS9T2BO+tF9pca1HDe76YqCAJmEA\n",
       "AAAXQZ+4RRUsEP8AAEtbZFS3JTyLMCoAJOEAAAAUAZ/XdEP/AACoC39/UCuRLDiAD5gAAAAUAZ/Z\n",
       "akP/AACoI++LvwY0c2xAB80AAAAuQZveSahBbJlMCCn//taMsADpQREAAp9hZf1PZQUO+tboUgDu\n",
       "9qRRl+KwCgBvQAAAABdBn/xFFSwQ/wAAS1tkVLclPIswKgAk4QAAABQBnht0Q/8AAKgLf39QK5Es\n",
       "OIAPmQAAABQBnh1qQ/8AAKgj74u/BjRzbEAHzAAAACZBmgJJqEFsmUwIJ//+tSqAARBwW4BLjtr+\n",
       "Pde00gDtNYr/gAB/gAAAABdBniBFFSwQ/wAAS1tkVLclPIswKgAk4QAAABQBnl90Q/8AAKgLf39Q\n",
       "K5EsOIAPmAAAABQBnkFqQ/8AAKgj74u/BjRzbEAHzQAAACFBmkZJqEFsmUwIJ//+tSqAARBwW4At\n",
       "W+ZYS5MHP4AARcAAAAAXQZ5kRRUsEP8AAEtbZFS3JTyLMCoAJOEAAAAUAZ6DdEP/AACoC39/UCuR\n",
       "LDiAD5kAAAAUAZ6FakP/AACoI++LvwY0c2xAB80AAAAXQZqKSahBbJlMCCf//rUqgAAAAwAAMaEA\n",
       "AAAXQZ6oRRUsEP8AAEtbZFS3JTyLMCoAJOAAAAAUAZ7HdEP/AACoC39/UCuRLDiAD5gAAAAUAZ7J\n",
       "akP/AACoI++LvwY0c2xAB80AAAAXQZrOSahBbJlMCCX//rUqgAAAAwAAMaAAAAAXQZ7sRRUsEP8A\n",
       "AEtbZFS3JTyLMCoAJOAAAAAUAZ8LdEP/AACoC39/UCuRLDiAD5kAAAAUAZ8NakP/AACoI++LvwY0\n",
       "c2xAB80AAAAXQZsRSahBbJlMCH///qmWAAADAAADAYMAAAAXQZ8vRRUsEP8AAEtbZFS3JTyLMCoA\n",
       "JOAAAAAUAZ9QakP/AACoI++LvwY0c2xAB8wAAAWDbW9vdgAAAGxtdmhkAAAAAAAAAAAAAAAAAAAD\n",
       "6AAAJxAAAQAAAQAAAAAAAAAAAAAAAAEAAAAAAAAAAAAAAAAAAAABAAAAAAAAAAAAAAAAAABAAAAA\n",
       "AAAAAAAAAAAAAAAAAAAAAAAAAAAAAAAAAAAAAgAABK10cmFrAAAAXHRraGQAAAADAAAAAAAAAAAA\n",
       "AAABAAAAAAAAJxAAAAAAAAAAAAAAAAAAAAAAAAEAAAAAAAAAAAAAAAAAAAABAAAAAAAAAAAAAAAA\n",
       "AABAAAAAAkAAAAGMAAAAAAAkZWR0cwAAABxlbHN0AAAAAAAAAAEAACcQAAAQAAABAAAAAAQlbWRp\n",
       "YQAAACBtZGhkAAAAAAAAAAAAAAAAAAAoAAABkABVxAAAAAAALWhkbHIAAAAAAAAAAHZpZGUAAAAA\n",
       "AAAAAAAAAABWaWRlb0hhbmRsZXIAAAAD0G1pbmYAAAAUdm1oZAAAAAEAAAAAAAAAAAAAACRkaW5m\n",
       "AAAAHGRyZWYAAAAAAAAAAQAAAAx1cmwgAAAAAQAAA5BzdGJsAAAAuHN0c2QAAAAAAAAAAQAAAKhh\n",
       "dmMxAAAAAAAAAAEAAAAAAAAAAAAAAAAAAAAAAkABjABIAAAASAAAAAAAAAABAAAAAAAAAAAAAAAA\n",
       "AAAAAAAAAAAAAAAAAAAAAAAAAAAAGP//AAAANmF2Y0MBZAAW/+EAGWdkABas2UCQM/uEAAADAAQA\n",
       "AAMAKDxYtlgBAAZo6+PLIsD9+PgAAAAAHHV1aWRraEDyXyRPxbo5pRvPAyPzAAAAAAAAABhzdHRz\n",
       "AAAAAAAAAAEAAAAyAAAIAAAAABRzdHNzAAAAAAAAAAEAAAABAAABmGN0dHMAAAAAAAAAMQAAAAEA\n",
       "ABAAAAAAAQAAGAAAAAABAAAIAAAAAAEAACgAAAAAAQAAEAAAAAABAAAAAAAAAAEAAAgAAAAAAQAA\n",
       "KAAAAAABAAAQAAAAAAEAAAAAAAAAAQAACAAAAAABAAAoAAAAAAEAABAAAAAAAQAAAAAAAAABAAAI\n",
       "AAAAAAEAACgAAAAAAQAAEAAAAAABAAAAAAAAAAEAAAgAAAAAAQAAKAAAAAABAAAQAAAAAAEAAAAA\n",
       "AAAAAQAACAAAAAABAAAoAAAAAAEAABAAAAAAAQAAAAAAAAABAAAIAAAAAAEAACgAAAAAAQAAEAAA\n",
       "AAABAAAAAAAAAAEAAAgAAAAAAQAAKAAAAAABAAAQAAAAAAEAAAAAAAAAAQAACAAAAAABAAAoAAAA\n",
       "AAEAABAAAAAAAQAAAAAAAAABAAAIAAAAAAEAACgAAAAAAQAAEAAAAAABAAAAAAAAAAEAAAgAAAAA\n",
       "AQAAKAAAAAABAAAQAAAAAAEAAAAAAAAAAQAACAAAAAABAAAgAAAAAAIAAAgAAAAAHHN0c2MAAAAA\n",
       "AAAAAQAAAAEAAAAyAAAAAQAAANxzdHN6AAAAAAAAAAAAAAAyAAAYMQAAEkEAAAA4AAABoAAAAEMA\n",
       "AAArAAAAIAAAAE4AAAAiAAAAIAAAABgAAAA+AAAAGwAAABgAAAAYAAAAMAAAABsAAAAYAAAAGAAA\n",
       "AD0AAAAbAAAAGAAAABgAAAAwAAAAGwAAABgAAAAYAAAAMgAAABsAAAAYAAAAGAAAACoAAAAbAAAA\n",
       "GAAAABgAAAAlAAAAGwAAABgAAAAYAAAAGwAAABsAAAAYAAAAGAAAABsAAAAbAAAAGAAAABgAAAAb\n",
       "AAAAGwAAABgAAAAUc3RjbwAAAAAAAAABAAAAMAAAAGJ1ZHRhAAAAWm1ldGEAAAAAAAAAIWhkbHIA\n",
       "AAAAAAAAAG1kaXJhcHBsAAAAAAAAAAAAAAAALWlsc3QAAAAlqXRvbwAAAB1kYXRhAAAAAQAAAABM\n",
       "YXZmNTguNDUuMTAw\n",
       "\">\n",
       "  Your browser does not support the video tag.\n",
       "</video>"
      ],
      "text/plain": [
       "<matplotlib.animation.FuncAnimation at 0x1ce8b04dfc8>"
      ]
     },
     "execution_count": 505,
     "metadata": {},
     "output_type": "execute_result"
    }
   ],
   "source": [
    "anim"
   ]
  },
  {
   "cell_type": "code",
   "execution_count": 506,
   "id": "1b8e7f21-b4b1-46ed-b2f3-55245e1a20b3",
   "metadata": {},
   "outputs": [],
   "source": [
    "#anim.save('videos/May_23.mp4',fps=100)"
   ]
  },
  {
   "cell_type": "code",
   "execution_count": 457,
   "id": "c496d412-d08d-4ecd-a3ca-409cb1f516ce",
   "metadata": {},
   "outputs": [
    {
     "data": {
      "image/png": "[encoded data removed]",
      "text/plain": [
       "<Figure size 720x576 with 1 Axes>"
      ]
     },
     "metadata": {},
     "output_type": "display_data"
    }
   ],
   "source": [
    "horizon = np.arange(1,N,1)\n",
    "plt.figure(figsize=(10,8))\n",
    "sns.scatterplot(x=horizon,y=u_trj[:,0],label='$\\omega$ for agent1 [rad/s]');\n",
    "sns.scatterplot(x=horizon,y=u_trj[:,1],label='acceleration for agent1[m/s]');\n",
    "\n",
    "sns.scatterplot(x=horizon,y=u_trj[:,2],label='$\\omega$ for agent1 [rad/s]');\n",
    "sns.scatterplot(x=horizon,y=u_trj[:,3],label='acceleration for agent1[m/s]');\n",
    "\n",
    "sns.scatterplot(x=horizon,y=u_trj[:,4],label='$\\omega$ for agent1 [rad/s]');\n",
    "sns.scatterplot(x=horizon,y=u_trj[:,5],label='acceleration for agent1[m/s]');\n",
    "\n",
    "plt.legend(fontsize=13);\n",
    "plt.xlabel('Horizon [$N$]');"
   ]
  },
  {
   "cell_type": "code",
   "execution_count": null,
   "id": "3f5c955a-09fe-4c7d-9971-36e03e117264",
   "metadata": {},
   "outputs": [],
   "source": []
  }
 ],
 "metadata": {
  "kernelspec": {
   "display_name": "Python 3 (ipykernel)",
   "language": "python",
   "name": "python3"
  },
  "language_info": {
   "codemirror_mode": {
    "name": "ipython",
    "version": 3
   },
   "file_extension": ".py",
   "mimetype": "text/x-python",
   "name": "python",
   "nbconvert_exporter": "python",
   "pygments_lexer": "ipython3",
   "version": "3.7.6"
  }
 },
 "nbformat": 4,
 "nbformat_minor": 5
}
